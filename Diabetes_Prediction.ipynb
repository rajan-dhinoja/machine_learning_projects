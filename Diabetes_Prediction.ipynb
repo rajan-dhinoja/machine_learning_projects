{
  "nbformat": 4,
  "nbformat_minor": 0,
  "metadata": {
    "colab": {
      "provenance": [],
      "include_colab_link": true
    },
    "kernelspec": {
      "name": "python3",
      "display_name": "Python 3"
    }
  },
  "cells": [
    {
      "cell_type": "markdown",
      "metadata": {
        "id": "view-in-github",
        "colab_type": "text"
      },
      "source": [
        "<a href=\"https://colab.research.google.com/github/rajan-dhinoja/machine_learning_projects/blob/main/Diabetes_Prediction.ipynb\" target=\"_parent\"><img src=\"https://colab.research.google.com/assets/colab-badge.svg\" alt=\"Open In Colab\"/></a>"
      ]
    },
    {
      "cell_type": "markdown",
      "metadata": {
        "id": "HvALcJ3yAryu"
      },
      "source": [
        "# ***Step-A: Data Preprocessing:-***"
      ]
    },
    {
      "cell_type": "markdown",
      "metadata": {
        "id": "LbMfPnCfAryw"
      },
      "source": [
        "## Step-1: Import Required Dependencies:-\n",
        "Import essential libraries and modules for data manipulation, visualization, and preprocessing..."
      ]
    },
    {
      "cell_type": "code",
      "source": [
        "import numpy as np\n",
        "import matplotlib.pyplot as plt\n",
        "import pandas as pd\n",
        "import seaborn as sns\n",
        "import scipy.sparse\n",
        "import nltk\n",
        "import warnings\n",
        "warnings.filterwarnings('ignore')\n",
        "\n",
        "# Set the option to prevent silent downcasting\n",
        "np.set_printoptions(formatter={'float': '{:,.2f}'.format}, suppress=True, precision=2)\n",
        "pd.options.display.float_format = '{:,.2f}'.format\n",
        "pd.set_option('future.no_silent_downcasting', True)"
      ],
      "metadata": {
        "id": "MmgVQ5oeAryx"
      },
      "execution_count": 1,
      "outputs": []
    },
    {
      "cell_type": "markdown",
      "metadata": {
        "id": "yVRL8v08Aryx"
      },
      "source": [
        "## Step-2: Load the Dataset and Display Different overviews of Datasets:-"
      ]
    },
    {
      "cell_type": "code",
      "source": [
        "from google.colab import drive\n",
        "drive.mount('/content/drive')\n",
        "\n",
        "dataset = pd.DataFrame(pd.read_csv('/content/drive/MyDrive/Datasets/diabetes.csv'))\n",
        "dataset.head()"
      ],
      "metadata": {
        "colab": {
          "base_uri": "https://localhost:8080/",
          "height": 224
        },
        "outputId": "9436a2ff-2adc-455f-ef84-b09652d35ff0",
        "id": "xBtYmKrSAryy"
      },
      "execution_count": 2,
      "outputs": [
        {
          "output_type": "stream",
          "name": "stdout",
          "text": [
            "Drive already mounted at /content/drive; to attempt to forcibly remount, call drive.mount(\"/content/drive\", force_remount=True).\n"
          ]
        },
        {
          "output_type": "execute_result",
          "data": {
            "text/plain": [
              "   Pregnancies  Glucose  BloodPressure  SkinThickness  Insulin   BMI  \\\n",
              "0            6      148             72             35        0 33.60   \n",
              "1            1       85             66             29        0 26.60   \n",
              "2            8      183             64              0        0 23.30   \n",
              "3            1       89             66             23       94 28.10   \n",
              "4            0      137             40             35      168 43.10   \n",
              "\n",
              "   DiabetesPedigreeFunction  Age  Outcome  \n",
              "0                      0.63   50        1  \n",
              "1                      0.35   31        0  \n",
              "2                      0.67   32        1  \n",
              "3                      0.17   21        0  \n",
              "4                      2.29   33        1  "
            ],
            "text/html": [
              "\n",
              "  <div id=\"df-de7e8df2-5c34-4ecd-997c-f2f2dde51e02\" class=\"colab-df-container\">\n",
              "    <div>\n",
              "<style scoped>\n",
              "    .dataframe tbody tr th:only-of-type {\n",
              "        vertical-align: middle;\n",
              "    }\n",
              "\n",
              "    .dataframe tbody tr th {\n",
              "        vertical-align: top;\n",
              "    }\n",
              "\n",
              "    .dataframe thead th {\n",
              "        text-align: right;\n",
              "    }\n",
              "</style>\n",
              "<table border=\"1\" class=\"dataframe\">\n",
              "  <thead>\n",
              "    <tr style=\"text-align: right;\">\n",
              "      <th></th>\n",
              "      <th>Pregnancies</th>\n",
              "      <th>Glucose</th>\n",
              "      <th>BloodPressure</th>\n",
              "      <th>SkinThickness</th>\n",
              "      <th>Insulin</th>\n",
              "      <th>BMI</th>\n",
              "      <th>DiabetesPedigreeFunction</th>\n",
              "      <th>Age</th>\n",
              "      <th>Outcome</th>\n",
              "    </tr>\n",
              "  </thead>\n",
              "  <tbody>\n",
              "    <tr>\n",
              "      <th>0</th>\n",
              "      <td>6</td>\n",
              "      <td>148</td>\n",
              "      <td>72</td>\n",
              "      <td>35</td>\n",
              "      <td>0</td>\n",
              "      <td>33.60</td>\n",
              "      <td>0.63</td>\n",
              "      <td>50</td>\n",
              "      <td>1</td>\n",
              "    </tr>\n",
              "    <tr>\n",
              "      <th>1</th>\n",
              "      <td>1</td>\n",
              "      <td>85</td>\n",
              "      <td>66</td>\n",
              "      <td>29</td>\n",
              "      <td>0</td>\n",
              "      <td>26.60</td>\n",
              "      <td>0.35</td>\n",
              "      <td>31</td>\n",
              "      <td>0</td>\n",
              "    </tr>\n",
              "    <tr>\n",
              "      <th>2</th>\n",
              "      <td>8</td>\n",
              "      <td>183</td>\n",
              "      <td>64</td>\n",
              "      <td>0</td>\n",
              "      <td>0</td>\n",
              "      <td>23.30</td>\n",
              "      <td>0.67</td>\n",
              "      <td>32</td>\n",
              "      <td>1</td>\n",
              "    </tr>\n",
              "    <tr>\n",
              "      <th>3</th>\n",
              "      <td>1</td>\n",
              "      <td>89</td>\n",
              "      <td>66</td>\n",
              "      <td>23</td>\n",
              "      <td>94</td>\n",
              "      <td>28.10</td>\n",
              "      <td>0.17</td>\n",
              "      <td>21</td>\n",
              "      <td>0</td>\n",
              "    </tr>\n",
              "    <tr>\n",
              "      <th>4</th>\n",
              "      <td>0</td>\n",
              "      <td>137</td>\n",
              "      <td>40</td>\n",
              "      <td>35</td>\n",
              "      <td>168</td>\n",
              "      <td>43.10</td>\n",
              "      <td>2.29</td>\n",
              "      <td>33</td>\n",
              "      <td>1</td>\n",
              "    </tr>\n",
              "  </tbody>\n",
              "</table>\n",
              "</div>\n",
              "    <div class=\"colab-df-buttons\">\n",
              "\n",
              "  <div class=\"colab-df-container\">\n",
              "    <button class=\"colab-df-convert\" onclick=\"convertToInteractive('df-de7e8df2-5c34-4ecd-997c-f2f2dde51e02')\"\n",
              "            title=\"Convert this dataframe to an interactive table.\"\n",
              "            style=\"display:none;\">\n",
              "\n",
              "  <svg xmlns=\"http://www.w3.org/2000/svg\" height=\"24px\" viewBox=\"0 -960 960 960\">\n",
              "    <path d=\"M120-120v-720h720v720H120Zm60-500h600v-160H180v160Zm220 220h160v-160H400v160Zm0 220h160v-160H400v160ZM180-400h160v-160H180v160Zm440 0h160v-160H620v160ZM180-180h160v-160H180v160Zm440 0h160v-160H620v160Z\"/>\n",
              "  </svg>\n",
              "    </button>\n",
              "\n",
              "  <style>\n",
              "    .colab-df-container {\n",
              "      display:flex;\n",
              "      gap: 12px;\n",
              "    }\n",
              "\n",
              "    .colab-df-convert {\n",
              "      background-color: #E8F0FE;\n",
              "      border: none;\n",
              "      border-radius: 50%;\n",
              "      cursor: pointer;\n",
              "      display: none;\n",
              "      fill: #1967D2;\n",
              "      height: 32px;\n",
              "      padding: 0 0 0 0;\n",
              "      width: 32px;\n",
              "    }\n",
              "\n",
              "    .colab-df-convert:hover {\n",
              "      background-color: #E2EBFA;\n",
              "      box-shadow: 0px 1px 2px rgba(60, 64, 67, 0.3), 0px 1px 3px 1px rgba(60, 64, 67, 0.15);\n",
              "      fill: #174EA6;\n",
              "    }\n",
              "\n",
              "    .colab-df-buttons div {\n",
              "      margin-bottom: 4px;\n",
              "    }\n",
              "\n",
              "    [theme=dark] .colab-df-convert {\n",
              "      background-color: #3B4455;\n",
              "      fill: #D2E3FC;\n",
              "    }\n",
              "\n",
              "    [theme=dark] .colab-df-convert:hover {\n",
              "      background-color: #434B5C;\n",
              "      box-shadow: 0px 1px 3px 1px rgba(0, 0, 0, 0.15);\n",
              "      filter: drop-shadow(0px 1px 2px rgba(0, 0, 0, 0.3));\n",
              "      fill: #FFFFFF;\n",
              "    }\n",
              "  </style>\n",
              "\n",
              "    <script>\n",
              "      const buttonEl =\n",
              "        document.querySelector('#df-de7e8df2-5c34-4ecd-997c-f2f2dde51e02 button.colab-df-convert');\n",
              "      buttonEl.style.display =\n",
              "        google.colab.kernel.accessAllowed ? 'block' : 'none';\n",
              "\n",
              "      async function convertToInteractive(key) {\n",
              "        const element = document.querySelector('#df-de7e8df2-5c34-4ecd-997c-f2f2dde51e02');\n",
              "        const dataTable =\n",
              "          await google.colab.kernel.invokeFunction('convertToInteractive',\n",
              "                                                    [key], {});\n",
              "        if (!dataTable) return;\n",
              "\n",
              "        const docLinkHtml = 'Like what you see? Visit the ' +\n",
              "          '<a target=\"_blank\" href=https://colab.research.google.com/notebooks/data_table.ipynb>data table notebook</a>'\n",
              "          + ' to learn more about interactive tables.';\n",
              "        element.innerHTML = '';\n",
              "        dataTable['output_type'] = 'display_data';\n",
              "        await google.colab.output.renderOutput(dataTable, element);\n",
              "        const docLink = document.createElement('div');\n",
              "        docLink.innerHTML = docLinkHtml;\n",
              "        element.appendChild(docLink);\n",
              "      }\n",
              "    </script>\n",
              "  </div>\n",
              "\n",
              "\n",
              "<div id=\"df-5c566114-8e36-402e-ad1d-272218b26ca2\">\n",
              "  <button class=\"colab-df-quickchart\" onclick=\"quickchart('df-5c566114-8e36-402e-ad1d-272218b26ca2')\"\n",
              "            title=\"Suggest charts\"\n",
              "            style=\"display:none;\">\n",
              "\n",
              "<svg xmlns=\"http://www.w3.org/2000/svg\" height=\"24px\"viewBox=\"0 0 24 24\"\n",
              "     width=\"24px\">\n",
              "    <g>\n",
              "        <path d=\"M19 3H5c-1.1 0-2 .9-2 2v14c0 1.1.9 2 2 2h14c1.1 0 2-.9 2-2V5c0-1.1-.9-2-2-2zM9 17H7v-7h2v7zm4 0h-2V7h2v10zm4 0h-2v-4h2v4z\"/>\n",
              "    </g>\n",
              "</svg>\n",
              "  </button>\n",
              "\n",
              "<style>\n",
              "  .colab-df-quickchart {\n",
              "      --bg-color: #E8F0FE;\n",
              "      --fill-color: #1967D2;\n",
              "      --hover-bg-color: #E2EBFA;\n",
              "      --hover-fill-color: #174EA6;\n",
              "      --disabled-fill-color: #AAA;\n",
              "      --disabled-bg-color: #DDD;\n",
              "  }\n",
              "\n",
              "  [theme=dark] .colab-df-quickchart {\n",
              "      --bg-color: #3B4455;\n",
              "      --fill-color: #D2E3FC;\n",
              "      --hover-bg-color: #434B5C;\n",
              "      --hover-fill-color: #FFFFFF;\n",
              "      --disabled-bg-color: #3B4455;\n",
              "      --disabled-fill-color: #666;\n",
              "  }\n",
              "\n",
              "  .colab-df-quickchart {\n",
              "    background-color: var(--bg-color);\n",
              "    border: none;\n",
              "    border-radius: 50%;\n",
              "    cursor: pointer;\n",
              "    display: none;\n",
              "    fill: var(--fill-color);\n",
              "    height: 32px;\n",
              "    padding: 0;\n",
              "    width: 32px;\n",
              "  }\n",
              "\n",
              "  .colab-df-quickchart:hover {\n",
              "    background-color: var(--hover-bg-color);\n",
              "    box-shadow: 0 1px 2px rgba(60, 64, 67, 0.3), 0 1px 3px 1px rgba(60, 64, 67, 0.15);\n",
              "    fill: var(--button-hover-fill-color);\n",
              "  }\n",
              "\n",
              "  .colab-df-quickchart-complete:disabled,\n",
              "  .colab-df-quickchart-complete:disabled:hover {\n",
              "    background-color: var(--disabled-bg-color);\n",
              "    fill: var(--disabled-fill-color);\n",
              "    box-shadow: none;\n",
              "  }\n",
              "\n",
              "  .colab-df-spinner {\n",
              "    border: 2px solid var(--fill-color);\n",
              "    border-color: transparent;\n",
              "    border-bottom-color: var(--fill-color);\n",
              "    animation:\n",
              "      spin 1s steps(1) infinite;\n",
              "  }\n",
              "\n",
              "  @keyframes spin {\n",
              "    0% {\n",
              "      border-color: transparent;\n",
              "      border-bottom-color: var(--fill-color);\n",
              "      border-left-color: var(--fill-color);\n",
              "    }\n",
              "    20% {\n",
              "      border-color: transparent;\n",
              "      border-left-color: var(--fill-color);\n",
              "      border-top-color: var(--fill-color);\n",
              "    }\n",
              "    30% {\n",
              "      border-color: transparent;\n",
              "      border-left-color: var(--fill-color);\n",
              "      border-top-color: var(--fill-color);\n",
              "      border-right-color: var(--fill-color);\n",
              "    }\n",
              "    40% {\n",
              "      border-color: transparent;\n",
              "      border-right-color: var(--fill-color);\n",
              "      border-top-color: var(--fill-color);\n",
              "    }\n",
              "    60% {\n",
              "      border-color: transparent;\n",
              "      border-right-color: var(--fill-color);\n",
              "    }\n",
              "    80% {\n",
              "      border-color: transparent;\n",
              "      border-right-color: var(--fill-color);\n",
              "      border-bottom-color: var(--fill-color);\n",
              "    }\n",
              "    90% {\n",
              "      border-color: transparent;\n",
              "      border-bottom-color: var(--fill-color);\n",
              "    }\n",
              "  }\n",
              "</style>\n",
              "\n",
              "  <script>\n",
              "    async function quickchart(key) {\n",
              "      const quickchartButtonEl =\n",
              "        document.querySelector('#' + key + ' button');\n",
              "      quickchartButtonEl.disabled = true;  // To prevent multiple clicks.\n",
              "      quickchartButtonEl.classList.add('colab-df-spinner');\n",
              "      try {\n",
              "        const charts = await google.colab.kernel.invokeFunction(\n",
              "            'suggestCharts', [key], {});\n",
              "      } catch (error) {\n",
              "        console.error('Error during call to suggestCharts:', error);\n",
              "      }\n",
              "      quickchartButtonEl.classList.remove('colab-df-spinner');\n",
              "      quickchartButtonEl.classList.add('colab-df-quickchart-complete');\n",
              "    }\n",
              "    (() => {\n",
              "      let quickchartButtonEl =\n",
              "        document.querySelector('#df-5c566114-8e36-402e-ad1d-272218b26ca2 button');\n",
              "      quickchartButtonEl.style.display =\n",
              "        google.colab.kernel.accessAllowed ? 'block' : 'none';\n",
              "    })();\n",
              "  </script>\n",
              "</div>\n",
              "\n",
              "    </div>\n",
              "  </div>\n"
            ],
            "application/vnd.google.colaboratory.intrinsic+json": {
              "type": "dataframe",
              "variable_name": "dataset",
              "summary": "{\n  \"name\": \"dataset\",\n  \"rows\": 768,\n  \"fields\": [\n    {\n      \"column\": \"Pregnancies\",\n      \"properties\": {\n        \"dtype\": \"number\",\n        \"std\": 3,\n        \"min\": 0,\n        \"max\": 17,\n        \"num_unique_values\": 17,\n        \"samples\": [\n          6,\n          1,\n          3\n        ],\n        \"semantic_type\": \"\",\n        \"description\": \"\"\n      }\n    },\n    {\n      \"column\": \"Glucose\",\n      \"properties\": {\n        \"dtype\": \"number\",\n        \"std\": 31,\n        \"min\": 0,\n        \"max\": 199,\n        \"num_unique_values\": 136,\n        \"samples\": [\n          151,\n          101,\n          112\n        ],\n        \"semantic_type\": \"\",\n        \"description\": \"\"\n      }\n    },\n    {\n      \"column\": \"BloodPressure\",\n      \"properties\": {\n        \"dtype\": \"number\",\n        \"std\": 19,\n        \"min\": 0,\n        \"max\": 122,\n        \"num_unique_values\": 47,\n        \"samples\": [\n          86,\n          46,\n          85\n        ],\n        \"semantic_type\": \"\",\n        \"description\": \"\"\n      }\n    },\n    {\n      \"column\": \"SkinThickness\",\n      \"properties\": {\n        \"dtype\": \"number\",\n        \"std\": 15,\n        \"min\": 0,\n        \"max\": 99,\n        \"num_unique_values\": 51,\n        \"samples\": [\n          7,\n          12,\n          48\n        ],\n        \"semantic_type\": \"\",\n        \"description\": \"\"\n      }\n    },\n    {\n      \"column\": \"Insulin\",\n      \"properties\": {\n        \"dtype\": \"number\",\n        \"std\": 115,\n        \"min\": 0,\n        \"max\": 846,\n        \"num_unique_values\": 186,\n        \"samples\": [\n          52,\n          41,\n          183\n        ],\n        \"semantic_type\": \"\",\n        \"description\": \"\"\n      }\n    },\n    {\n      \"column\": \"BMI\",\n      \"properties\": {\n        \"dtype\": \"number\",\n        \"std\": 7.8841603203754405,\n        \"min\": 0.0,\n        \"max\": 67.1,\n        \"num_unique_values\": 248,\n        \"samples\": [\n          19.9,\n          31.0,\n          38.1\n        ],\n        \"semantic_type\": \"\",\n        \"description\": \"\"\n      }\n    },\n    {\n      \"column\": \"DiabetesPedigreeFunction\",\n      \"properties\": {\n        \"dtype\": \"number\",\n        \"std\": 0.33132859501277484,\n        \"min\": 0.078,\n        \"max\": 2.42,\n        \"num_unique_values\": 517,\n        \"samples\": [\n          1.731,\n          0.426,\n          0.138\n        ],\n        \"semantic_type\": \"\",\n        \"description\": \"\"\n      }\n    },\n    {\n      \"column\": \"Age\",\n      \"properties\": {\n        \"dtype\": \"number\",\n        \"std\": 11,\n        \"min\": 21,\n        \"max\": 81,\n        \"num_unique_values\": 52,\n        \"samples\": [\n          60,\n          47,\n          72\n        ],\n        \"semantic_type\": \"\",\n        \"description\": \"\"\n      }\n    },\n    {\n      \"column\": \"Outcome\",\n      \"properties\": {\n        \"dtype\": \"number\",\n        \"std\": 0,\n        \"min\": 0,\n        \"max\": 1,\n        \"num_unique_values\": 2,\n        \"samples\": [\n          0,\n          1\n        ],\n        \"semantic_type\": \"\",\n        \"description\": \"\"\n      }\n    }\n  ]\n}"
            }
          },
          "metadata": {},
          "execution_count": 2
        }
      ]
    },
    {
      "cell_type": "code",
      "source": [
        "# Seperate the whole datset into categorical and numerical columns...\n",
        "\n",
        "categorical_cols = dataset.select_dtypes(include=['object']).columns\n",
        "numerical_cols = dataset.select_dtypes(exclude=['object']).columns\n",
        "\n",
        "if categorical_cols.empty:\n",
        "  print(\"No Categorical Columns Found... \\n\")\n",
        "else:\n",
        "  print(\"-> Categorical Columns: \\n\", categorical_cols, \"\\n\")\n",
        "\n",
        "if numerical_cols.empty:\n",
        "  print(\"No Numerical Columns Found... \\n\")\n",
        "else:\n",
        "  print(\"-> Numerical Columns: \\n\", numerical_cols)"
      ],
      "metadata": {
        "id": "zcZDaNI0I-4g",
        "outputId": "dd7f997c-1d6f-478d-eaae-7226ed67c36d",
        "colab": {
          "base_uri": "https://localhost:8080/"
        }
      },
      "execution_count": 3,
      "outputs": [
        {
          "output_type": "stream",
          "name": "stdout",
          "text": [
            "No Categorical Columns Found... \n",
            "\n",
            "-> Numerical Columns: \n",
            " Index(['Pregnancies', 'Glucose', 'BloodPressure', 'SkinThickness', 'Insulin',\n",
            "       'BMI', 'DiabetesPedigreeFunction', 'Age', 'Outcome'],\n",
            "      dtype='object')\n"
          ]
        }
      ]
    },
    {
      "cell_type": "code",
      "source": [
        "print(\"> Shape of the Dataset: \\n\", dataset.shape, \"\\n\")\n",
        "print(\"> Information about Dataset:\")\n",
        "print(dataset.info(), \"\\n\")\n",
        "print(\"> Statistical summary of the Dataset:\")\n",
        "print(dataset.describe().map(lambda x: round(x, 4)))"
      ],
      "metadata": {
        "collapsed": true,
        "outputId": "c7fa151f-212d-4ab5-bb04-3be028a8ce4e",
        "colab": {
          "base_uri": "https://localhost:8080/"
        },
        "id": "ZW3HjieQAry2"
      },
      "execution_count": 4,
      "outputs": [
        {
          "output_type": "stream",
          "name": "stdout",
          "text": [
            "> Shape of the Dataset: \n",
            " (768, 9) \n",
            "\n",
            "> Information about Dataset:\n",
            "<class 'pandas.core.frame.DataFrame'>\n",
            "RangeIndex: 768 entries, 0 to 767\n",
            "Data columns (total 9 columns):\n",
            " #   Column                    Non-Null Count  Dtype  \n",
            "---  ------                    --------------  -----  \n",
            " 0   Pregnancies               768 non-null    int64  \n",
            " 1   Glucose                   768 non-null    int64  \n",
            " 2   BloodPressure             768 non-null    int64  \n",
            " 3   SkinThickness             768 non-null    int64  \n",
            " 4   Insulin                   768 non-null    int64  \n",
            " 5   BMI                       768 non-null    float64\n",
            " 6   DiabetesPedigreeFunction  768 non-null    float64\n",
            " 7   Age                       768 non-null    int64  \n",
            " 8   Outcome                   768 non-null    int64  \n",
            "dtypes: float64(2), int64(7)\n",
            "memory usage: 54.1 KB\n",
            "None \n",
            "\n",
            "> Statistical summary of the Dataset:\n",
            "       Pregnancies  Glucose  BloodPressure  SkinThickness  Insulin    BMI  \\\n",
            "count       768.00   768.00         768.00         768.00   768.00 768.00   \n",
            "mean          3.85   120.89          69.11          20.54    79.80  31.99   \n",
            "std           3.37    31.97          19.36          15.95   115.24   7.88   \n",
            "min           0.00     0.00           0.00           0.00     0.00   0.00   \n",
            "25%           1.00    99.00          62.00           0.00     0.00  27.30   \n",
            "50%           3.00   117.00          72.00          23.00    30.50  32.00   \n",
            "75%           6.00   140.25          80.00          32.00   127.25  36.60   \n",
            "max          17.00   199.00         122.00          99.00   846.00  67.10   \n",
            "\n",
            "       DiabetesPedigreeFunction    Age  Outcome  \n",
            "count                    768.00 768.00   768.00  \n",
            "mean                       0.47  33.24     0.35  \n",
            "std                        0.33  11.76     0.48  \n",
            "min                        0.08  21.00     0.00  \n",
            "25%                        0.24  24.00     0.00  \n",
            "50%                        0.37  29.00     0.00  \n",
            "75%                        0.63  41.00     1.00  \n",
            "max                        2.42  81.00     1.00  \n"
          ]
        }
      ]
    },
    {
      "cell_type": "code",
      "source": [
        "plt.figure(figsize=(10, 6))\n",
        "sns.distplot(dataset.iloc[:, -1], bins=30, kde=True)\n",
        "plt.title('Distribution of Last Column')\n",
        "plt.show()"
      ],
      "metadata": {
        "colab": {
          "base_uri": "https://localhost:8080/",
          "height": 564
        },
        "id": "Q5P2M-1WPDVh",
        "outputId": "e5340549-7c78-4076-d97e-7d029845da5e"
      },
      "execution_count": 5,
      "outputs": [
        {
          "output_type": "display_data",
          "data": {
            "text/plain": [
              "<Figure size 1000x600 with 1 Axes>"
            ],
            "image/png": "[encoded data removed]"
          },
          "metadata": {}
        }
      ]
    },
    {
      "cell_type": "code",
      "source": [
        "# Plot target distribution\n",
        "sns.histplot(dataset.iloc[:, -1], bins=30, kde=True)\n",
        "plt.title('Distribution of Last Column')\n",
        "plt.show()"
      ],
      "metadata": {
        "id": "_z7mUwRhXBoc",
        "outputId": "2ea0656b-c233-49c0-fa8d-c5265154c941",
        "colab": {
          "base_uri": "https://localhost:8080/",
          "height": 472
        }
      },
      "execution_count": 6,
      "outputs": [
        {
          "output_type": "display_data",
          "data": {
            "text/plain": [
              "<Figure size 640x480 with 1 Axes>"
            ],
            "image/png": "[encoded data removed]"
          },
          "metadata": {}
        }
      ]
    },
    {
      "cell_type": "code",
      "source": [
        "# Correlation Matrix Heatmap\n",
        "sns.heatmap(dataset[numerical_cols].corr(), annot=True, cmap='coolwarm')\n",
        "plt.title('Correlation Matrix \\n',fontsize=20,  fontweight=800)\n",
        "plt.show()"
      ],
      "metadata": {
        "id": "5bMrljUcI9zR",
        "outputId": "ce414c2c-1ae8-4d4e-f8a2-9f1f6226a4ff",
        "colab": {
          "base_uri": "https://localhost:8080/",
          "height": 660
        }
      },
      "execution_count": 7,
      "outputs": [
        {
          "output_type": "display_data",
          "data": {
            "text/plain": [
              "<Figure size 640x480 with 2 Axes>"
            ],
            "image/png": "[encoded data removed]"
          },
          "metadata": {}
        }
      ]
    },
    {
      "cell_type": "markdown",
      "source": [
        "## Step-3:- Checking the Dataset:-"
      ],
      "metadata": {
        "id": "e0E0usXBAry4"
      }
    },
    {
      "cell_type": "markdown",
      "source": [
        "### Step-3.1: Checking any Duplicate Data and Handling them:-"
      ],
      "metadata": {
        "id": "PSX5IX9RAry5"
      }
    },
    {
      "cell_type": "code",
      "source": [
        "if dataset.duplicated().any():\n",
        "  dataset.drop_duplicates(inplace=True)\n",
        "  print(\"Duplicate Data(or Identical Rows) found and Removed...\")\n",
        "else:\n",
        "    print(\"No Duplicate Data(or Identical Rows) found...\")"
      ],
      "metadata": {
        "outputId": "0efc77b0-77ae-4803-fa60-058004f87eab",
        "colab": {
          "base_uri": "https://localhost:8080/"
        },
        "id": "XzvdrZlWAry5"
      },
      "execution_count": 8,
      "outputs": [
        {
          "output_type": "stream",
          "name": "stdout",
          "text": [
            "No Duplicate Data(or Identical Rows) found...\n"
          ]
        }
      ]
    },
    {
      "cell_type": "markdown",
      "source": [
        "### Step-3.2: Cheking any Missing Data and Handling them:-"
      ],
      "metadata": {
        "id": "FKBEjTdDAry6"
      }
    },
    {
      "cell_type": "code",
      "source": [
        "# Here from the module named impute of the library scikit-learn, we are using the SimpleImputer Class to Handle the Missing Values.\n",
        "from sklearn.impute import SimpleImputer\n",
        "\n",
        "missing_data_counts = dataset.isnull().sum() + dataset.isin(['', 'N/A', 'Unknown', 'NaN']).sum()\n",
        "\n",
        "# if dataset.isnull().values.any() or dataset.isin(['', 'NaN', 'N/A', 'Unknown']).any().any():\n",
        "if missing_data_counts.any():\n",
        "\n",
        "  categorical_missing_counts = dataset[categorical_cols].isnull().sum() + dataset[categorical_cols].isin(['', 'N/A', 'Unknown', 'NaN']).sum()\n",
        "  numerical_missing_counts = dataset[numerical_cols].isnull().sum()\n",
        "\n",
        "  # Replace \"Unknown\" with NaN in categorical columns\n",
        "  for col in categorical_cols:\n",
        "    dataset[col] = dataset[col].replace('Unknown', np.nan)\n",
        "\n",
        "\n",
        "  # Check if there are any missing values (categorical or numerical)\n",
        "  if categorical_missing_counts.any() or numerical_missing_counts.any():\n",
        "      # Print missing counts for categorical columns in the desired format\n",
        "      print(\"Missing Data Counts in Categorical Columns: \\n\", categorical_missing_counts)\n",
        "      print(\"\\n\")\n",
        "      print(\"Missing Data Counts in Numerical Columns: \\n\", numerical_missing_counts)\n",
        "\n",
        "      # Create imputers for categorical and numerical features\n",
        "      categorical_imputer = SimpleImputer(missing_values=np.nan, strategy='most_frequent')\n",
        "      numerical_imputer = SimpleImputer(missing_values=np.nan, strategy='mean')\n",
        "\n",
        "      # Apply imputers to the selected columns in X\n",
        "      if len(categorical_cols) > 0:\n",
        "        categorical_cols_for_impution = [col for col in categorical_cols if col != dataset.columns[-1]]\n",
        "        dataset[categorical_cols_for_impution] = categorical_imputer.fit_transform(dataset[categorical_cols_for_impution])\n",
        "\n",
        "      # Exclude the dependent variable column (last column) if it's numerical\n",
        "      numerical_cols_for_impution = [col for col in numerical_cols if col != dataset.columns[-1]]\n",
        "      if len(numerical_cols_for_impution) > 0:\n",
        "          dataset[numerical_cols_for_impution] = numerical_imputer.fit_transform(dataset[numerical_cols_for_impution])\n",
        "      # if len(numerical_cols) > 0:\n",
        "          # dataset[numerical_cols] = numerical_imputer.fit_transform(dataset[numerical_cols])\n",
        "\n",
        "      print(\"\\n\")\n",
        "      print(\"New Data with replaced missing values: \\n\", dataset.head(10).to_string(header=True))\n",
        "else:\n",
        "    print(\"No missing data found.\")\n",
        "\n"
      ],
      "metadata": {
        "colab": {
          "base_uri": "https://localhost:8080/"
        },
        "outputId": "71f156b0-07e6-483e-afee-22ce601e9a3e",
        "id": "vg_Slpg2Ary7"
      },
      "execution_count": 9,
      "outputs": [
        {
          "output_type": "stream",
          "name": "stdout",
          "text": [
            "No missing data found.\n"
          ]
        }
      ]
    },
    {
      "cell_type": "markdown",
      "source": [
        "### Step-3.3: Checking any Synonyms or Aliases and Handling them:-"
      ],
      "metadata": {
        "id": "-F0V-G0-Ary8"
      }
    },
    {
      "cell_type": "code",
      "source": [
        "for col in dataset.columns:\n",
        "  # Get value counts and convert to DataFrame with column name\n",
        "  # .reset_index(name='Counts: '): This converts the Series into a DataFrame and names the count column as 'Counts: '.\n",
        "  value_counts_dataset = dataset[col].value_counts().rename_axis('Unique Values: ').reset_index(name='Counts: ')\n",
        "\n",
        "  # Transpose and print with formatting\n",
        "  print(f\"Column: \\t'{col}'\")\n",
        "  # .to_string(header=False): This converts the transposed DataFrame to a string for printing and removes the header row.\n",
        "  print(value_counts_dataset.T.to_string(header=False), \"\\n\")\n"
      ],
      "metadata": {
        "outputId": "f13d85ec-2534-4311-f260-992728e78772",
        "colab": {
          "base_uri": "https://localhost:8080/"
        },
        "id": "rJwxtUSyAry8"
      },
      "execution_count": 10,
      "outputs": [
        {
          "output_type": "stream",
          "name": "stdout",
          "text": [
            "Column: \t'Pregnancies'\n",
            "Unique Values:     1    0    2   3   4   5   6   7   8   9  10  11  13  12  14  15  17\n",
            "Counts:          135  111  103  75  68  57  50  45  38  28  24  11  10   9   2   1   1 \n",
            "\n",
            "Column: \t'Glucose'\n",
            "Unique Values:   99  100  111  129  125  106  112  108  95  105  102  122  109  117  124  90  107  128  120  119  114  115  84  146  101  92  88  97  91  126  103  123  136  96  139  158  137  130  94  93  144  85  87  147  116  151  83  173  81  80  134  162  143  154  104  121  89  110  118  155  132  127  142  140  141  145  138  113  180  131  181  0  179  133  135  165  152  148  168  78  74  71  197  187  189  166  196  184  164  167  86  161  194  98  82  183  171  68  163  150  73  79  156  159  75  195  175  170  174  157  77  57  76  153  188  176  193  199  56  67  149  65  198  169  186  160  172  72  61  178  182  191  177  44  62  190\n",
            "Counts:          17   17   14   14   14   14   13   13  13   13   13   12   12   11   11  11   11   11   11   11   11   10  10    9    9   9   9   9   9    9    9    9    8   8    8    8    8    7   7   7    7   7   7    7    7    6   6    6   6   6    6    6    6    6    6    6   6    6    6    5    5    5    5    5    5    5    5    5    5    5    5  5    5    5    4    4    4    4    4   4   4   4    4    4    4    3    3    3    3    3   3    3    3   3   3    3    3   3    3    3   3   3    3    2   2    2    2    2    2    2   2   2   2    2    2    2    2    1   1   1    1   1    1    1    1    1    1   1   1    1    1    1    1   1   1    1 \n",
            "\n",
            "Column: \t'BloodPressure'\n",
            "Unique Values:   70  74  78  68  72  64  80  76  60   0  62  66  82  88  84  90  86  58  50  56  52  54  75  92  65  85  94  48  96  44  100  106  98  110  55  108  104  46  30  122  95  102  61  24  38  40  114\n",
            "Counts:          57  52  45  45  44  43  40  39  37  35  34  30  30  25  23  22  21  21  13  12  11  11   8   8   7   6   6   5   4   4    3    3   3    3   2    2    2   2   2    1   1    1   1   1   1   1    1 \n",
            "\n",
            "Column: \t'SkinThickness'\n",
            "Unique Values:     0  32  30  27  23  33  28  18  31  19  39  29  40  25  26  22  37  41  35  36  15  17  20  24  42  13  21  46  34  12  38  11  43  16  45  14  44  10  48  47  49  50  8  7  52  54  63  60  56  51  99\n",
            "Counts:          227  31  27  23  22  20  20  20  19  18  18  17  16  16  16  16  16  15  15  14  14  14  13  12  11  11  10   8   8   7   7   6   6   6   6   6   5   5   4   4   3   3  2  2   2   2   1   1   1   1   1 \n",
            "\n",
            "Column: \t'Insulin'\n",
            "Unique Values:     0  105  130  140  120  94  180  100  135  115  110  66  56  49  76  210  54  71  160  190  168  88  200  165  64  155  125  90  74  75  145  50  175  92  325  63  215  194  45  156  182  83  48  44  106  176  36  82  70  126  95  87  79  60  480  144  170  158  150  148  67  132  116  167  231  185  122  85  77  205  265  293  57  230  58  37  495  192  207  18  53  99  152  114  40  285  240  78  220  23  55  96  225  235  274  166  65  318  146  188  326  86  330  193  250  328  191  237  14  277  245  41  600  25  16  510  127  178  392  291  22  387  335  543  540  159  440  46  91  183  15  846  321  272  474  300  81  61  270  42  184  360  51  545  278  284  119  204  485  375  258  402  680  370  744  32  478  129  271  280  228  29  310  68  579  342  275  415  196  59  72  84  304  89  465  142  128  249  38  43  108  73  171  255  52  112\n",
            "Counts:          374   11    9    9    8   7    7    7    6    6    6   5   5   5   5    5   4   4    4    4    4   4    4    4   4    4    4   4   3   3    3   3    3   3    3   3    3    3   3    3    3   3   3   3    3    3   3   3   3    3   2   2   2   2    2    2    2    2    2    2   2    2    2    2    2    2    2   2   2    2    2    2   2    2   2   2    2    2    2   2   2   2    2    2   2    2    2   2    2   2   2   2    2    1    1    1   1    1    1    1    1   1    1    1    1    1    1    1   1    1    1   1    1   1   1    1    1    1    1    1   1    1    1    1    1    1    1   1   1    1   1    1    1    1    1    1   1   1    1   1    1    1   1    1    1    1    1    1    1    1    1    1    1    1    1   1    1    1    1    1    1   1    1   1    1    1    1    1    1   1   1   1    1   1    1    1    1    1   1   1    1   1    1    1   1    1 \n",
            "\n",
            "Column: \t'BMI'\n",
            "Unique Values:  32.00 31.60 31.20  0.00 32.40 33.30 30.10 32.80 32.90 30.80 33.60 34.20 29.70 33.20 35.50 30.00 27.60 25.90 30.50 28.70 30.40 39.40 27.80 28.90 36.80 32.50 25.60 34.00 25.20 38.50 34.30 34.90 28.40 24.20 25.00 37.70 33.70 29.30 35.80 24.70 29.90 35.90 27.50 28.00 34.50 33.80 29.50 30.90 21.80 36.60 27.40 29.00 37.60 34.60 43.30 29.60 34.10 39.00 26.20 35.40 26.80 42.90 39.10 35.00 24.60 36.50 27.30 40.60 37.20 35.70 26.60 35.30 27.70 24.30 21.10 34.40 25.40 38.20 23.10 34.70 24.00 26.00 27.10 29.80 36.90 39.50 45.30 21.90 32.30 23.60 40.50 36.10 23.50 32.70 37.80 24.40 42.40 33.10 42.30 38.10 39.90 35.10 19.60 37.40 36.30 26.10 25.10 18.20 22.50 28.50 23.20 24.80 26.50 38.70 26.40 41.30 25.50 42.10 45.60 38.40 22.10 37.50 40.00 39.20 27.00 28.80 43.60 21.00 35.20 44.00 46.20 23.90 27.20 46.10 37.90 20.80 25.30 23.70 39.80 28.20 33.90 23.80 22.20 36.00 19.50 22.40 34.80 37.10 43.40 28.60 42.70 35.60 41.50 46.80 23.00 20.40 28.30 44.20 38.00 22.60 43.50 31.90 36.40 40.90 31.00 23.30 47.90 25.80 27.90 44.50 22.90 52.30 49.30 38.90 57.30 24.10 41.20 49.60 44.60 37.00 33.50 20.10 23.40 30.20 46.50 40.70 37.30 38.80 30.30 26.30 45.70 26.70 24.50 26.90 38.60 31.30 21.20 40.80 59.40 32.20 21.70 67.10 22.30 19.40 55.00 53.20 39.60 49.70 46.70 19.10 48.80 43.20 32.60 42.00 20.00 45.40 22.70 40.20 19.90 31.10 39.30 45.80 43.10 28.10 38.30 50.00 45.00 40.10 48.30 36.20 42.20 41.00 45.50 19.30 39.70 52.90 30.70 24.90 32.10 29.20 18.40 44.10 45.20 36.70 41.80 42.60 42.80 46.30\n",
            "Counts:         13.00 12.00 12.00 11.00 10.00 10.00  9.00  9.00  9.00  9.00  8.00  8.00  8.00  7.00  7.00  7.00  7.00  7.00  7.00  7.00  7.00  7.00  7.00  6.00  6.00  6.00  6.00  6.00  6.00  6.00  6.00  6.00  6.00  6.00  6.00  5.00  5.00  5.00  5.00  5.00  5.00  5.00  5.00  5.00  5.00  5.00  5.00  5.00  5.00  5.00  5.00  5.00  5.00  5.00  5.00  4.00  4.00  4.00  4.00  4.00  4.00  4.00  4.00  4.00  4.00  4.00  4.00  4.00  4.00  4.00  4.00  4.00  4.00  4.00  4.00  4.00  4.00  4.00  4.00  4.00  4.00  4.00  3.00  3.00  3.00  3.00  3.00  3.00  3.00  3.00  3.00  3.00  3.00  3.00  3.00  3.00  3.00  3.00  3.00  3.00  3.00  3.00  3.00  3.00  3.00  3.00  3.00  3.00  3.00  3.00  3.00  3.00  3.00  3.00  3.00  3.00  2.00  2.00  2.00  2.00  2.00  2.00  2.00  2.00  2.00  2.00  2.00  2.00  2.00  2.00  2.00  2.00  2.00  2.00  2.00  2.00  2.00  2.00  2.00  2.00  2.00  2.00  2.00  2.00  2.00  2.00  2.00  2.00  2.00  2.00  2.00  2.00  2.00  2.00  2.00  2.00  2.00  2.00  2.00  2.00  2.00  2.00  2.00  2.00  2.00  2.00  2.00  2.00  2.00  2.00  2.00  2.00  1.00  1.00  1.00  1.00  1.00  1.00  1.00  1.00  1.00  1.00  1.00  1.00  1.00  1.00  1.00  1.00  1.00  1.00  1.00  1.00  1.00  1.00  1.00  1.00  1.00  1.00  1.00  1.00  1.00  1.00  1.00  1.00  1.00  1.00  1.00  1.00  1.00  1.00  1.00  1.00  1.00  1.00  1.00  1.00  1.00  1.00  1.00  1.00  1.00  1.00  1.00  1.00  1.00  1.00  1.00  1.00  1.00  1.00  1.00  1.00  1.00  1.00  1.00  1.00  1.00  1.00  1.00  1.00  1.00  1.00  1.00  1.00  1.00  1.00  1.00  1.00 \n",
            "\n",
            "Column: \t'DiabetesPedigreeFunction'\n",
            "Unique Values:  0.26 0.25 0.27 0.21 0.26 0.26 0.24 0.19 0.26 0.30 0.69 0.27 0.55 0.30 0.24 0.20 0.28 0.69 0.17 0.26 0.24 0.14 0.42 0.19 0.29 0.23 0.30 0.44 0.18 0.17 0.29 0.24 0.28 0.39 0.35 0.58 0.34 0.52 0.26 0.59 0.39 0.50 0.15 0.45 0.14 0.20 0.15 0.34 0.26 0.20 0.65 0.37 0.09 0.41 0.43 0.40 0.40 0.43 0.36 0.88 0.31 0.20 0.47 0.16 0.64 0.29 0.33 0.13 0.14 0.84 0.22 0.09 0.65 0.47 0.12 0.16 0.59 0.51 1.22 0.31 0.21 0.97 0.20 0.65 0.56 0.29 0.69 0.25 0.58 0.40 0.38 0.14 0.29 0.29 0.18 0.60 0.54 0.36 0.68 0.54 0.32 0.21 0.67 0.24 0.64 0.43 0.25 0.13 0.91 0.15 0.24 0.79 0.41 0.28 0.28 0.22 0.41 0.50 0.36 0.21 0.23 0.37 0.14 0.27 0.23 0.66 0.25 0.19 0.33 0.28 0.32 0.20 0.56 0.44 0.30 0.18 0.96 0.13 0.23 0.38 0.44 0.34 0.31 0.59 0.34 0.15 0.13 0.22 0.23 0.33 0.53 0.16 0.60 0.19 0.54 0.25 0.34 0.25 0.27 0.13 0.46 0.26 0.16 0.73 0.53 0.73 0.36 0.32 0.34 0.19 0.76 0.55 0.16 0.26 0.57 0.41 0.74 0.52 0.42 0.56 0.51 0.30 0.53 0.62 0.15 0.55 1.09 0.53 0.17 0.51 0.11 0.50 0.77 0.61 0.17 0.21 1.02 0.70 0.71 0.42 0.46 1.00 0.16 0.42 0.83 1.14 0.63 0.38 1.16 0.63 0.14 0.33 0.66 1.14 2.42 0.95 0.43 0.15 0.63 0.37 0.11 0.33 0.56 0.48 0.90 0.60 0.25 0.89 0.86 0.34 0.83 0.18 0.37 0.61 0.30 0.88 0.63 0.22 1.39 0.18 1.29 1.16 0.15 0.13 0.45 0.73 0.12 0.18 0.18 0.29 0.77 1.06 0.22 1.18 0.41 1.10 0.36 0.49 1.17 0.73 0.79 0.45 0.52 0.56 0.43 0.65 0.27 0.32 0.59 0.97 0.83 0.35 0.44 0.61 0.69 0.49 0.34 0.57 0.69 0.81 0.89 0.34 0.75 0.60 0.40 0.50 0.30 0.68 0.16 0.15 1.03 0.42 0.82 0.55 0.66 0.80 0.73 1.25 0.50 0.92 0.72 0.42 1.15 0.93 0.17 0.87 0.65 0.47 0.12 0.73 0.14 0.39 0.36 0.35 1.46 1.70 0.25 1.28 0.16 0.88 0.59 0.14 0.48 1.26 0.10 0.19 0.68 1.70 1.08 0.84 0.70 0.22 0.70 0.53 0.60 0.46 1.11 0.74 0.19 0.40 0.76 0.54 0.26 0.59 0.20 0.29 0.80 0.93 0.28 0.18 1.22 0.33 0.32 0.27 0.57 0.10 0.74 0.72 0.08 0.96 0.32 0.38 0.72 0.77 0.49 0.71 0.72 0.74 0.82 0.23 0.83 1.19 0.43 0.40 1.40 0.13 0.28 1.32 0.39 0.67 0.42 0.97 0.51 0.19 0.85 0.55 0.49 0.45 0.70 0.70 0.53 0.48 0.40 1.44 0.54 0.23 0.20 2.29 0.67 0.50 1.39 0.27 0.70 0.23 0.77 0.10 0.31 0.40 0.41 0.87 0.84 0.85 0.70 0.17 1.78 0.72 0.47 0.53 0.49 0.56 1.89 0.72 0.61 0.37 1.19 0.89 0.57 0.58 0.24 0.35 0.28 0.48 0.67 0.47 0.33 0.93 0.16 0.17 1.48 0.12 0.12 0.73 0.34 1.13 0.63 1.39 0.39 0.50 2.14 1.73 0.38 0.14 0.24 0.20 0.94 1.60 0.80 0.46 0.95 0.24 0.22 1.27 0.95 0.82 1.02 0.51 0.82 0.23 0.55 0.21 0.35 0.38 0.81 0.45 0.83 0.48 0.39 0.65 0.09 2.33 0.10 0.67 1.07 0.61 0.46 0.74 0.43 0.38 0.35 0.87 0.40 0.14 0.58 1.32 0.33 1.21 0.43 0.76 0.81 0.62 0.88 0.74 0.45 0.30 0.68 1.14 0.08 1.10 0.93 1.00 0.23 0.61 1.35 0.66 0.09 0.93 0.17\n",
            "Counts:         6.00 6.00 5.00 5.00 5.00 5.00 5.00 4.00 4.00 4.00 4.00 4.00 4.00 4.00 4.00 4.00 4.00 4.00 4.00 4.00 4.00 3.00 3.00 3.00 3.00 3.00 3.00 3.00 3.00 3.00 3.00 3.00 3.00 3.00 3.00 3.00 3.00 3.00 3.00 3.00 3.00 3.00 3.00 3.00 3.00 3.00 3.00 3.00 3.00 3.00 2.00 2.00 2.00 2.00 2.00 2.00 2.00 2.00 2.00 2.00 2.00 2.00 2.00 2.00 2.00 2.00 2.00 2.00 2.00 2.00 2.00 2.00 2.00 2.00 2.00 2.00 2.00 2.00 2.00 2.00 2.00 2.00 2.00 2.00 2.00 2.00 2.00 2.00 2.00 2.00 2.00 2.00 2.00 2.00 2.00 2.00 2.00 2.00 2.00 2.00 2.00 2.00 2.00 2.00 2.00 2.00 2.00 2.00 2.00 2.00 2.00 2.00 2.00 2.00 2.00 2.00 2.00 2.00 2.00 2.00 2.00 2.00 2.00 2.00 2.00 2.00 2.00 2.00 2.00 2.00 2.00 2.00 2.00 2.00 2.00 2.00 2.00 2.00 2.00 2.00 2.00 2.00 2.00 2.00 2.00 2.00 2.00 2.00 2.00 2.00 2.00 2.00 2.00 2.00 2.00 2.00 2.00 2.00 2.00 2.00 2.00 2.00 2.00 2.00 2.00 2.00 2.00 2.00 2.00 2.00 2.00 1.00 1.00 1.00 1.00 1.00 1.00 1.00 1.00 1.00 1.00 1.00 1.00 1.00 1.00 1.00 1.00 1.00 1.00 1.00 1.00 1.00 1.00 1.00 1.00 1.00 1.00 1.00 1.00 1.00 1.00 1.00 1.00 1.00 1.00 1.00 1.00 1.00 1.00 1.00 1.00 1.00 1.00 1.00 1.00 1.00 1.00 1.00 1.00 1.00 1.00 1.00 1.00 1.00 1.00 1.00 1.00 1.00 1.00 1.00 1.00 1.00 1.00 1.00 1.00 1.00 1.00 1.00 1.00 1.00 1.00 1.00 1.00 1.00 1.00 1.00 1.00 1.00 1.00 1.00 1.00 1.00 1.00 1.00 1.00 1.00 1.00 1.00 1.00 1.00 1.00 1.00 1.00 1.00 1.00 1.00 1.00 1.00 1.00 1.00 1.00 1.00 1.00 1.00 1.00 1.00 1.00 1.00 1.00 1.00 1.00 1.00 1.00 1.00 1.00 1.00 1.00 1.00 1.00 1.00 1.00 1.00 1.00 1.00 1.00 1.00 1.00 1.00 1.00 1.00 1.00 1.00 1.00 1.00 1.00 1.00 1.00 1.00 1.00 1.00 1.00 1.00 1.00 1.00 1.00 1.00 1.00 1.00 1.00 1.00 1.00 1.00 1.00 1.00 1.00 1.00 1.00 1.00 1.00 1.00 1.00 1.00 1.00 1.00 1.00 1.00 1.00 1.00 1.00 1.00 1.00 1.00 1.00 1.00 1.00 1.00 1.00 1.00 1.00 1.00 1.00 1.00 1.00 1.00 1.00 1.00 1.00 1.00 1.00 1.00 1.00 1.00 1.00 1.00 1.00 1.00 1.00 1.00 1.00 1.00 1.00 1.00 1.00 1.00 1.00 1.00 1.00 1.00 1.00 1.00 1.00 1.00 1.00 1.00 1.00 1.00 1.00 1.00 1.00 1.00 1.00 1.00 1.00 1.00 1.00 1.00 1.00 1.00 1.00 1.00 1.00 1.00 1.00 1.00 1.00 1.00 1.00 1.00 1.00 1.00 1.00 1.00 1.00 1.00 1.00 1.00 1.00 1.00 1.00 1.00 1.00 1.00 1.00 1.00 1.00 1.00 1.00 1.00 1.00 1.00 1.00 1.00 1.00 1.00 1.00 1.00 1.00 1.00 1.00 1.00 1.00 1.00 1.00 1.00 1.00 1.00 1.00 1.00 1.00 1.00 1.00 1.00 1.00 1.00 1.00 1.00 1.00 1.00 1.00 1.00 1.00 1.00 1.00 1.00 1.00 1.00 1.00 1.00 1.00 1.00 1.00 1.00 1.00 1.00 1.00 1.00 1.00 1.00 1.00 1.00 1.00 1.00 1.00 1.00 1.00 1.00 1.00 1.00 1.00 1.00 1.00 1.00 1.00 1.00 1.00 1.00 1.00 1.00 1.00 1.00 1.00 1.00 1.00 1.00 1.00 1.00 1.00 1.00 1.00 1.00 1.00 1.00 1.00 1.00 1.00 1.00 1.00 \n",
            "\n",
            "Column: \t'Age'\n",
            "Unique Values:   22  21  25  24  23  28  26  27  29  31  41  30  37  42  33  38  36  32  45  34  46  43  40  39  35  50  51  52  44  58  47  54  49  48  57  53  60  66  63  62  55  67  56  59  65  69  61  72  81  64  70  68\n",
            "Counts:          72  63  48  46  38  35  33  32  29  24  22  21  19  18  17  16  16  16  15  14  13  13  13  12  10   8   8   8   8   7   6   6   5   5   5   5   5   4   4   4   4   3   3   3   3   2   2   1   1   1   1   1 \n",
            "\n",
            "Column: \t'Outcome'\n",
            "Unique Values:     0    1\n",
            "Counts:          500  268 \n",
            "\n"
          ]
        }
      ]
    },
    {
      "cell_type": "markdown",
      "source": [
        "### Step-3.4: Checking for Stopwords and Stemming them:-"
      ],
      "metadata": {
        "id": "szLznVnf1W1h"
      }
    },
    {
      "cell_type": "code",
      "source": [
        "from nltk.corpus import stopwords\n",
        "from nltk.stem.porter import PorterStemmer\n",
        "\n",
        "# if categorical_cols.any():\n",
        "if categorical_cols.empty:\n",
        "  print(\"No Categorical Columns Found... \\n -> So, No Stemming Needed... \")\n",
        "else:\n",
        "  nltk.download('stopwords')\n",
        "\n",
        "  stop_words = set(stopwords.words('english'))\n",
        "\n",
        "  stemmer = PorterStemmer()\n",
        "\n",
        "  def stemming(text):\n",
        "      words = text.lower().split()\n",
        "      stemmed_words = [stemmer.stem(word) for word in words if word not in stop_words]\n",
        "      return ' '.join(stemmed_words)  # Join stemmed words back into a string\n",
        "\n",
        "  # Apply the stemming function to the specified columns\n",
        "  for column in categorical_cols:\n",
        "      dataset[column] = dataset[column].astype(str).apply(stemming)\n",
        "\n",
        "  print(\"\\n > Stemming Completed... \\n\")\n",
        "  print(dataset.head().to_string(header=True))\n",
        "# else:\n",
        "  # print(\"No Stemming Needed...\")"
      ],
      "metadata": {
        "id": "iMWNF_e5j0vb",
        "outputId": "27f49884-4940-4ebe-9303-428d7e8738e1",
        "colab": {
          "base_uri": "https://localhost:8080/"
        }
      },
      "execution_count": 11,
      "outputs": [
        {
          "output_type": "stream",
          "name": "stdout",
          "text": [
            "No Categorical Columns Found... \n",
            " -> So, No Stemming Needed... \n"
          ]
        }
      ]
    },
    {
      "cell_type": "markdown",
      "metadata": {
        "id": "kluQwU4vAry9"
      },
      "source": [
        "### Step-3.5: Checking any Categorical Data and Encoding them:-"
      ]
    },
    {
      "cell_type": "code",
      "source": [
        "# `sklearn.compose` is a module in scikit-learn (a popular Python machine learning library) used for combining different data transformations.\n",
        "# sklearn.preprocessing is a module within scikit-learn that provides tools for preparing your data for machine learning algorithms.\n",
        "# LabelEncoder is a specific class designed to convert categorical labels (like 'France', 'Spain', 'Germany') into numerical labels (like 0, 1, 2).\n",
        "from sklearn.compose import ColumnTransformer\n",
        "from sklearn.preprocessing import OneHotEncoder, LabelEncoder\n",
        "\n",
        "X = dataset.iloc[:, :-1]\n",
        "y = dataset.iloc[:, -1].values\n",
        "\n",
        "repeating_cols = []\n",
        "for col in categorical_cols:\n",
        "    # Matrix of Feature\n",
        "    if col != dataset.columns[-1]:\n",
        "      print(f\"> String Values present in Column '{col}'.\")\n",
        "      # Check for repeating values within the categorical column\n",
        "      value_counts = dataset[col].value_counts()\n",
        "      repeating_values = value_counts[value_counts > 1].index.tolist()\n",
        "      if repeating_values:\n",
        "        repeating_cols.append(col)\n",
        "        print(f\"\\t- Also, Categorical values found in column '{col}': {repeating_values}.\")\n",
        "        print(f\"\\t-'{col}' is Encoded Successfully...\\n\")\n",
        "\n",
        "      else:\n",
        "        print(f\"\\t- But No Categorical values found in column '{col}'.\\n\")\n",
        "\n",
        "    # Dependent Variable/Output\n",
        "    if col == dataset.columns[-1]:\n",
        "      print(f\"> String Values present in Column '{col}'(Output Column).\")\n",
        "      # Check for repeating values within the categorical column\n",
        "      value_counts = dataset[col].value_counts()\n",
        "      repeating_values = value_counts[value_counts > 1].index.tolist()\n",
        "      if repeating_values:\n",
        "        print(f\"\\t- Also, Categorical values found in column '{col}': {repeating_values}\")\n",
        "        le = LabelEncoder()\n",
        "        y = le.fit_transform(dataset[col])\n",
        "        print(f\"\\t-'{col}' is Encoded Successfully...\\n\")\n",
        "      else:\n",
        "        print(f\"\\t- But No Categorical values found in column '{col}'.\\n\")\n",
        "\n",
        "print(\"=> Repeating Columns in Matrix of Features(X): \", repeating_cols, \"\\n\")\n",
        "if repeating_cols:\n",
        "  encoder = ColumnTransformer(transformers=[('encoder', OneHotEncoder(), repeating_cols)], remainder='passthrough')\n",
        "  encoder_transform = encoder.fit_transform(X)\n",
        "\n",
        "  # Conditional conversion to dense array\n",
        "  if scipy.sparse.issparse(encoder_transform):  # Check if sparse\n",
        "    X = encoder_transform.toarray()\n",
        "  else:\n",
        "    X = encoder_transform\n",
        "\n",
        "else:\n",
        "  print(\"No Repeating Columns found in Matrix of Features(X). \\n\")\n",
        "\n",
        "print(\"Matrix of Features(X): \\n\", pd.DataFrame(X).head().to_string(header=True))\n",
        "print(\"\\n\")\n",
        "print(\"Dependent Variable(y): \\n\", pd.DataFrame(y).head().to_string(header=False, index=False))\n"
      ],
      "metadata": {
        "colab": {
          "base_uri": "https://localhost:8080/"
        },
        "id": "iliWxO0n-9UQ",
        "outputId": "34b5a901-e448-4c9d-c56b-7f3ce8d8b74c"
      },
      "execution_count": 12,
      "outputs": [
        {
          "output_type": "stream",
          "name": "stdout",
          "text": [
            "=> Repeating Columns in Matrix of Features(X):  [] \n",
            "\n",
            "No Repeating Columns found in Matrix of Features(X). \n",
            "\n",
            "Matrix of Features(X): \n",
            "    Pregnancies  Glucose  BloodPressure  SkinThickness  Insulin   BMI  DiabetesPedigreeFunction  Age\n",
            "0            6      148             72             35        0 33.60                      0.63   50\n",
            "1            1       85             66             29        0 26.60                      0.35   31\n",
            "2            8      183             64              0        0 23.30                      0.67   32\n",
            "3            1       89             66             23       94 28.10                      0.17   21\n",
            "4            0      137             40             35      168 43.10                      2.29   33\n",
            "\n",
            "\n",
            "Dependent Variable(y): \n",
            " 1\n",
            "0\n",
            "1\n",
            "0\n",
            "1\n"
          ]
        }
      ]
    },
    {
      "cell_type": "markdown",
      "metadata": {
        "id": "qb_vcgm3qZKW"
      },
      "source": [
        "## Step-4: Split the Dataset into the Training set and Test set:-"
      ]
    },
    {
      "cell_type": "code",
      "source": [
        "from sklearn.model_selection import train_test_split\n",
        "\n",
        "X_train, X_test, y_train, y_test = train_test_split(X, y, test_size=0.2, stratify=y, random_state=42)\n",
        "\n",
        "print(\"Printing Training Sets: \")\n",
        "print(\"> X_train: \\n\", X_train)\n",
        "print(\"> X_test: \\n\", X_test, \"\\n\")\n",
        "\n",
        "print(\"\\n\")\n",
        "\n",
        "print(\"Printing Test Sets: \")\n",
        "print(\"> y_train: \\n\", y_train)\n",
        "print(\"> y_test: \\n\", y_test)"
      ],
      "metadata": {
        "id": "4ML-zBGmBkeI",
        "colab": {
          "base_uri": "https://localhost:8080/"
        },
        "outputId": "4358859d-e286-4064-d9cb-9251a11ed881"
      },
      "execution_count": 13,
      "outputs": [
        {
          "output_type": "stream",
          "name": "stdout",
          "text": [
            "Printing Training Sets: \n",
            "> X_train: \n",
            "      Pregnancies  Glucose  BloodPressure  SkinThickness  Insulin   BMI  \\\n",
            "353            1       90             62             12       43 27.20   \n",
            "711            5      126             78             27       22 29.60   \n",
            "373            2      105             58             40       94 34.90   \n",
            "46             1      146             56              0        0 29.70   \n",
            "682            0       95             64             39      105 44.60   \n",
            "..           ...      ...            ...            ...      ...   ...   \n",
            "451            2      134             70              0        0 28.90   \n",
            "113            4       76             62              0        0 34.00   \n",
            "556            1       97             70             40        0 38.10   \n",
            "667           10      111             70             27        0 27.50   \n",
            "107            4      144             58             28      140 29.50   \n",
            "\n",
            "     DiabetesPedigreeFunction  Age  \n",
            "353                      0.58   24  \n",
            "711                      0.44   40  \n",
            "373                      0.23   25  \n",
            "46                       0.56   29  \n",
            "682                      0.37   22  \n",
            "..                        ...  ...  \n",
            "451                      0.54   23  \n",
            "113                      0.39   25  \n",
            "556                      0.22   30  \n",
            "667                      0.14   40  \n",
            "107                      0.29   37  \n",
            "\n",
            "[614 rows x 8 columns]\n",
            "> X_test: \n",
            "      Pregnancies  Glucose  BloodPressure  SkinThickness  Insulin   BMI  \\\n",
            "44             7      159             64              0        0 27.40   \n",
            "672           10       68            106             23       49 35.50   \n",
            "700            2      122             76             27      200 35.90   \n",
            "630            7      114             64              0        0 27.40   \n",
            "81             2       74              0              0        0  0.00   \n",
            "..           ...      ...            ...            ...      ...   ...   \n",
            "32             3       88             58             11       54 24.80   \n",
            "637            2       94             76             18       66 31.60   \n",
            "593            2       82             52             22      115 28.50   \n",
            "425            4      184             78             39      277 37.00   \n",
            "273            1       71             78             50       45 33.20   \n",
            "\n",
            "     DiabetesPedigreeFunction  Age  \n",
            "44                       0.29   40  \n",
            "672                      0.28   47  \n",
            "700                      0.48   26  \n",
            "630                      0.73   34  \n",
            "81                       0.10   22  \n",
            "..                        ...  ...  \n",
            "32                       0.27   22  \n",
            "637                      0.65   23  \n",
            "593                      1.70   25  \n",
            "425                      0.26   31  \n",
            "273                      0.42   21  \n",
            "\n",
            "[154 rows x 8 columns] \n",
            "\n",
            "\n",
            "\n",
            "Printing Test Sets: \n",
            "> y_train: \n",
            " [0 0 0 0 0 1 1 1 0 0 1 0 0 0 1 0 1 0 0 0 0 0 1 1 0 0 0 0 0 1 0 0 1 1 0 0 1\n",
            " 0 1 1 1 0 1 1 0 1 0 0 0 1 1 0 0 1 1 0 1 0 0 1 0 0 0 1 1 1 1 1 1 0 0 1 1 0\n",
            " 1 1 0 1 1 1 0 0 0 0 0 0 0 0 0 0 1 1 0 0 0 0 0 1 0 1 0 0 0 0 0 1 0 0 0 0 0\n",
            " 0 0 1 0 1 0 0 0 0 0 0 0 1 0 1 0 0 0 1 0 0 0 0 0 1 1 0 1 1 0 0 0 0 1 0 0 0\n",
            " 0 0 0 0 1 0 1 0 1 0 1 0 0 0 0 1 0 0 0 0 0 1 1 0 0 0 0 1 1 0 0 0 1 1 0 0 0\n",
            " 0 0 1 0 0 0 1 1 1 0 0 0 0 1 1 0 0 1 0 0 0 1 0 0 0 0 0 0 0 0 0 1 0 1 1 0 0\n",
            " 1 0 0 1 1 0 1 0 0 0 1 0 0 0 0 1 1 0 0 0 0 0 1 0 0 1 0 0 1 1 0 1 0 0 1 0 1\n",
            " 0 1 0 0 1 0 0 0 0 1 0 1 0 0 0 0 0 1 0 0 1 1 0 0 0 0 0 0 1 1 1 0 0 0 0 1 1\n",
            " 0 0 0 0 1 1 1 1 0 1 1 0 0 1 1 1 1 1 0 0 0 1 0 0 0 0 0 0 0 1 0 0 0 0 0 1 0\n",
            " 0 0 1 1 1 0 0 0 0 0 0 1 0 0 1 0 1 0 0 0 0 1 0 1 1 1 0 1 1 1 0 1 0 1 0 0 0\n",
            " 0 0 1 0 1 0 0 0 0 0 0 0 0 0 0 0 1 0 0 1 1 0 0 0 0 1 0 0 1 0 1 1 0 1 0 0 1\n",
            " 0 0 0 1 1 0 1 1 1 0 0 1 0 1 0 1 0 0 0 0 0 0 0 0 1 1 0 0 1 0 0 0 0 0 0 1 0\n",
            " 0 1 1 0 1 1 0 0 0 0 0 0 1 0 0 1 0 1 0 1 1 1 0 1 0 0 1 0 0 0 1 0 0 0 0 0 1\n",
            " 1 0 0 0 1 0 0 1 1 0 1 0 0 1 0 0 0 1 1 0 0 1 1 0 0 0 0 0 0 1 0 0 0 1 0 1 1\n",
            " 1 0 0 0 0 0 0 0 0 0 0 0 0 0 1 0 1 0 0 1 0 1 1 1 1 0 1 1 0 0 1 0 0 0 1 0 1\n",
            " 0 0 0 0 0 1 0 1 0 1 0 1 0 0 0 0 1 0 1 1 1 0 0 0 1 1 0 0 1 1 0 1 0 1 0 0 0\n",
            " 1 0 0 0 0 0 0 1 0 0 1 0 0 0 0 1 1 1 0 0 1 0]\n",
            "> y_test: \n",
            " [0 0 0 1 0 0 1 1 0 0 0 1 0 0 1 1 0 0 0 0 0 1 1 1 0 0 1 0 1 0 0 0 0 0 0 1 0\n",
            " 0 1 0 0 0 0 1 0 1 1 0 1 1 0 1 0 0 0 0 1 0 1 0 1 0 0 1 0 0 1 0 0 1 1 0 0 1\n",
            " 0 1 0 1 0 0 0 0 0 0 0 0 1 1 0 0 1 1 0 1 1 1 0 0 1 0 0 0 0 0 1 0 1 0 0 0 0\n",
            " 1 1 1 1 0 0 0 1 0 0 1 0 0 1 1 1 0 0 0 0 0 0 1 0 0 0 0 0 0 0 1 0 0 0 1 1 1\n",
            " 0 0 0 0 1 0]\n"
          ]
        }
      ]
    },
    {
      "cell_type": "markdown",
      "metadata": {
        "id": "TpGqbS4TqkIR"
      },
      "source": [
        "## Step-5: Feature Scaling:-"
      ]
    },
    {
      "cell_type": "code",
      "source": [
        "\"\"\" Here we are not applying Feature Scaling in Dependent Variable (y), because there are only 0 and 1 values in y \"\"\"\n",
        "# StandardScaler class from scikit-learn, which is a tool for standardization and Normalization.\n",
        "from sklearn.preprocessing import StandardScaler\n",
        "\n",
        "scaler = StandardScaler()\n",
        "\n",
        "# Convert X_train and X_test to NumPy arrays if they are DataFrames\n",
        "X_train = X_train.to_numpy() if isinstance(X_train, pd.DataFrame) else X_train\n",
        "X_test = X_test.to_numpy() if isinstance(X_test, pd.DataFrame) else X_test\n",
        "\n",
        "# Iterate through columns of X_train and X_test\n",
        "for col in range(X_train.shape[1]):  # Use range to get column indices\n",
        "    # Check if all values in the column are 0 or 1\n",
        "    if np.all(np.isin(X_train[:, col], [0, 1])):\n",
        "        continue  # Skip scaling for this column\n",
        "    else:\n",
        "        # Reshape the column before scaling\n",
        "        X_train[:, col] = scaler.fit_transform(X_train[:, col].reshape(-1, 1)).flatten()\n",
        "        X_test[:, col] = scaler.transform(X_test[:, col].reshape(-1, 1)).flatten()\n",
        "\n",
        "print(\"Printing Training Sets after Feature Scaling:\")\n",
        "print(\"> X_train: \\n\", X_train)\n",
        "print(\"\\n\")\n",
        "print(\"Printing Test Sets after Feature Scaling:\")\n",
        "print(\"> X_test: \\n\", X_test)"
      ],
      "metadata": {
        "id": "HKf1Or3_BlW1",
        "colab": {
          "base_uri": "https://localhost:8080/"
        },
        "outputId": "f01f6acf-9b96-4cda-f723-f8db23699dfc"
      },
      "execution_count": 14,
      "outputs": [
        {
          "output_type": "stream",
          "name": "stdout",
          "text": [
            "Printing Training Sets after Feature Scaling:\n",
            "> X_train: \n",
            " [[-0.85 -0.98 -0.40 ... -0.61 0.31 -0.79]\n",
            " [0.36 0.16 0.47 ... -0.30 -0.12 0.56]\n",
            " [-0.55 -0.50 -0.62 ... 0.37 -0.76 -0.71]\n",
            " ...\n",
            " [-0.85 -0.76 0.03 ... 0.78 -0.79 -0.28]\n",
            " [1.87 -0.31 0.03 ... -0.57 -1.02 0.56]\n",
            " [0.05 0.73 -0.62 ... -0.31 -0.58 0.31]]\n",
            "\n",
            "\n",
            "Printing Test Sets after Feature Scaling:\n",
            "> X_test: \n",
            " [[0.96 1.21 -0.30 ... -0.58 -0.56 0.56]\n",
            " [1.87 -1.68 1.99 ... 0.45 -0.58 1.15]\n",
            " [-0.55 0.03 0.36 ... 0.50 0.02 -0.62]\n",
            " ...\n",
            " [-0.55 -1.23 -0.95 ... -0.44 3.70 -0.71]\n",
            " [0.05 2.00 0.47 ... 0.64 -0.65 -0.20]\n",
            " [-0.85 -1.58 0.47 ... 0.16 -0.17 -1.05]]\n"
          ]
        }
      ]
    },
    {
      "cell_type": "markdown",
      "source": [
        "# ***Step-B: Model Building & Evaluation:-***"
      ],
      "metadata": {
        "id": "y6c207MKI0y9"
      }
    },
    {
      "cell_type": "markdown",
      "metadata": {
        "id": "ElJ3tkOtuC_n"
      },
      "source": [
        "## Step-1: Training the Model:-"
      ]
    },
    {
      "cell_type": "code",
      "metadata": {
        "id": "5szLWHlNt9xc",
        "outputId": "ebd3c5a3-9aeb-47a8-fd00-b6ba3ab45ca6",
        "colab": {
          "base_uri": "https://localhost:8080/",
          "height": 80
        }
      },
      "source": [
        "from sklearn.svm import SVC\n",
        "model = SVC(kernel='linear')\n",
        "\n",
        "#training the support vector Machine Classifier\n",
        "model.fit(X_train, y_train)"
      ],
      "execution_count": 15,
      "outputs": [
        {
          "output_type": "execute_result",
          "data": {
            "text/plain": [
              "SVC(kernel='linear')"
            ],
            "text/html": [
              "<style>#sk-container-id-1 {\n",
              "  /* Definition of color scheme common for light and dark mode */\n",
              "  --sklearn-color-text: #000;\n",
              "  --sklearn-color-text-muted: #666;\n",
              "  --sklearn-color-line: gray;\n",
              "  /* Definition of color scheme for unfitted estimators */\n",
              "  --sklearn-color-unfitted-level-0: #fff5e6;\n",
              "  --sklearn-color-unfitted-level-1: #f6e4d2;\n",
              "  --sklearn-color-unfitted-level-2: #ffe0b3;\n",
              "  --sklearn-color-unfitted-level-3: chocolate;\n",
              "  /* Definition of color scheme for fitted estimators */\n",
              "  --sklearn-color-fitted-level-0: #f0f8ff;\n",
              "  --sklearn-color-fitted-level-1: #d4ebff;\n",
              "  --sklearn-color-fitted-level-2: #b3dbfd;\n",
              "  --sklearn-color-fitted-level-3: cornflowerblue;\n",
              "\n",
              "  /* Specific color for light theme */\n",
              "  --sklearn-color-text-on-default-background: var(--sg-text-color, var(--theme-code-foreground, var(--jp-content-font-color1, black)));\n",
              "  --sklearn-color-background: var(--sg-background-color, var(--theme-background, var(--jp-layout-color0, white)));\n",
              "  --sklearn-color-border-box: var(--sg-text-color, var(--theme-code-foreground, var(--jp-content-font-color1, black)));\n",
              "  --sklearn-color-icon: #696969;\n",
              "\n",
              "  @media (prefers-color-scheme: dark) {\n",
              "    /* Redefinition of color scheme for dark theme */\n",
              "    --sklearn-color-text-on-default-background: var(--sg-text-color, var(--theme-code-foreground, var(--jp-content-font-color1, white)));\n",
              "    --sklearn-color-background: var(--sg-background-color, var(--theme-background, var(--jp-layout-color0, #111)));\n",
              "    --sklearn-color-border-box: var(--sg-text-color, var(--theme-code-foreground, var(--jp-content-font-color1, white)));\n",
              "    --sklearn-color-icon: #878787;\n",
              "  }\n",
              "}\n",
              "\n",
              "#sk-container-id-1 {\n",
              "  color: var(--sklearn-color-text);\n",
              "}\n",
              "\n",
              "#sk-container-id-1 pre {\n",
              "  padding: 0;\n",
              "}\n",
              "\n",
              "#sk-container-id-1 input.sk-hidden--visually {\n",
              "  border: 0;\n",
              "  clip: rect(1px 1px 1px 1px);\n",
              "  clip: rect(1px, 1px, 1px, 1px);\n",
              "  height: 1px;\n",
              "  margin: -1px;\n",
              "  overflow: hidden;\n",
              "  padding: 0;\n",
              "  position: absolute;\n",
              "  width: 1px;\n",
              "}\n",
              "\n",
              "#sk-container-id-1 div.sk-dashed-wrapped {\n",
              "  border: 1px dashed var(--sklearn-color-line);\n",
              "  margin: 0 0.4em 0.5em 0.4em;\n",
              "  box-sizing: border-box;\n",
              "  padding-bottom: 0.4em;\n",
              "  background-color: var(--sklearn-color-background);\n",
              "}\n",
              "\n",
              "#sk-container-id-1 div.sk-container {\n",
              "  /* jupyter's `normalize.less` sets `[hidden] { display: none; }`\n",
              "     but bootstrap.min.css set `[hidden] { display: none !important; }`\n",
              "     so we also need the `!important` here to be able to override the\n",
              "     default hidden behavior on the sphinx rendered scikit-learn.org.\n",
              "     See: https://github.com/scikit-learn/scikit-learn/issues/21755 */\n",
              "  display: inline-block !important;\n",
              "  position: relative;\n",
              "}\n",
              "\n",
              "#sk-container-id-1 div.sk-text-repr-fallback {\n",
              "  display: none;\n",
              "}\n",
              "\n",
              "div.sk-parallel-item,\n",
              "div.sk-serial,\n",
              "div.sk-item {\n",
              "  /* draw centered vertical line to link estimators */\n",
              "  background-image: linear-gradient(var(--sklearn-color-text-on-default-background), var(--sklearn-color-text-on-default-background));\n",
              "  background-size: 2px 100%;\n",
              "  background-repeat: no-repeat;\n",
              "  background-position: center center;\n",
              "}\n",
              "\n",
              "/* Parallel-specific style estimator block */\n",
              "\n",
              "#sk-container-id-1 div.sk-parallel-item::after {\n",
              "  content: \"\";\n",
              "  width: 100%;\n",
              "  border-bottom: 2px solid var(--sklearn-color-text-on-default-background);\n",
              "  flex-grow: 1;\n",
              "}\n",
              "\n",
              "#sk-container-id-1 div.sk-parallel {\n",
              "  display: flex;\n",
              "  align-items: stretch;\n",
              "  justify-content: center;\n",
              "  background-color: var(--sklearn-color-background);\n",
              "  position: relative;\n",
              "}\n",
              "\n",
              "#sk-container-id-1 div.sk-parallel-item {\n",
              "  display: flex;\n",
              "  flex-direction: column;\n",
              "}\n",
              "\n",
              "#sk-container-id-1 div.sk-parallel-item:first-child::after {\n",
              "  align-self: flex-end;\n",
              "  width: 50%;\n",
              "}\n",
              "\n",
              "#sk-container-id-1 div.sk-parallel-item:last-child::after {\n",
              "  align-self: flex-start;\n",
              "  width: 50%;\n",
              "}\n",
              "\n",
              "#sk-container-id-1 div.sk-parallel-item:only-child::after {\n",
              "  width: 0;\n",
              "}\n",
              "\n",
              "/* Serial-specific style estimator block */\n",
              "\n",
              "#sk-container-id-1 div.sk-serial {\n",
              "  display: flex;\n",
              "  flex-direction: column;\n",
              "  align-items: center;\n",
              "  background-color: var(--sklearn-color-background);\n",
              "  padding-right: 1em;\n",
              "  padding-left: 1em;\n",
              "}\n",
              "\n",
              "\n",
              "/* Toggleable style: style used for estimator/Pipeline/ColumnTransformer box that is\n",
              "clickable and can be expanded/collapsed.\n",
              "- Pipeline and ColumnTransformer use this feature and define the default style\n",
              "- Estimators will overwrite some part of the style using the `sk-estimator` class\n",
              "*/\n",
              "\n",
              "/* Pipeline and ColumnTransformer style (default) */\n",
              "\n",
              "#sk-container-id-1 div.sk-toggleable {\n",
              "  /* Default theme specific background. It is overwritten whether we have a\n",
              "  specific estimator or a Pipeline/ColumnTransformer */\n",
              "  background-color: var(--sklearn-color-background);\n",
              "}\n",
              "\n",
              "/* Toggleable label */\n",
              "#sk-container-id-1 label.sk-toggleable__label {\n",
              "  cursor: pointer;\n",
              "  display: flex;\n",
              "  width: 100%;\n",
              "  margin-bottom: 0;\n",
              "  padding: 0.5em;\n",
              "  box-sizing: border-box;\n",
              "  text-align: center;\n",
              "  align-items: start;\n",
              "  justify-content: space-between;\n",
              "  gap: 0.5em;\n",
              "}\n",
              "\n",
              "#sk-container-id-1 label.sk-toggleable__label .caption {\n",
              "  font-size: 0.6rem;\n",
              "  font-weight: lighter;\n",
              "  color: var(--sklearn-color-text-muted);\n",
              "}\n",
              "\n",
              "#sk-container-id-1 label.sk-toggleable__label-arrow:before {\n",
              "  /* Arrow on the left of the label */\n",
              "  content: \"▸\";\n",
              "  float: left;\n",
              "  margin-right: 0.25em;\n",
              "  color: var(--sklearn-color-icon);\n",
              "}\n",
              "\n",
              "#sk-container-id-1 label.sk-toggleable__label-arrow:hover:before {\n",
              "  color: var(--sklearn-color-text);\n",
              "}\n",
              "\n",
              "/* Toggleable content - dropdown */\n",
              "\n",
              "#sk-container-id-1 div.sk-toggleable__content {\n",
              "  max-height: 0;\n",
              "  max-width: 0;\n",
              "  overflow: hidden;\n",
              "  text-align: left;\n",
              "  /* unfitted */\n",
              "  background-color: var(--sklearn-color-unfitted-level-0);\n",
              "}\n",
              "\n",
              "#sk-container-id-1 div.sk-toggleable__content.fitted {\n",
              "  /* fitted */\n",
              "  background-color: var(--sklearn-color-fitted-level-0);\n",
              "}\n",
              "\n",
              "#sk-container-id-1 div.sk-toggleable__content pre {\n",
              "  margin: 0.2em;\n",
              "  border-radius: 0.25em;\n",
              "  color: var(--sklearn-color-text);\n",
              "  /* unfitted */\n",
              "  background-color: var(--sklearn-color-unfitted-level-0);\n",
              "}\n",
              "\n",
              "#sk-container-id-1 div.sk-toggleable__content.fitted pre {\n",
              "  /* unfitted */\n",
              "  background-color: var(--sklearn-color-fitted-level-0);\n",
              "}\n",
              "\n",
              "#sk-container-id-1 input.sk-toggleable__control:checked~div.sk-toggleable__content {\n",
              "  /* Expand drop-down */\n",
              "  max-height: 200px;\n",
              "  max-width: 100%;\n",
              "  overflow: auto;\n",
              "}\n",
              "\n",
              "#sk-container-id-1 input.sk-toggleable__control:checked~label.sk-toggleable__label-arrow:before {\n",
              "  content: \"▾\";\n",
              "}\n",
              "\n",
              "/* Pipeline/ColumnTransformer-specific style */\n",
              "\n",
              "#sk-container-id-1 div.sk-label input.sk-toggleable__control:checked~label.sk-toggleable__label {\n",
              "  color: var(--sklearn-color-text);\n",
              "  background-color: var(--sklearn-color-unfitted-level-2);\n",
              "}\n",
              "\n",
              "#sk-container-id-1 div.sk-label.fitted input.sk-toggleable__control:checked~label.sk-toggleable__label {\n",
              "  background-color: var(--sklearn-color-fitted-level-2);\n",
              "}\n",
              "\n",
              "/* Estimator-specific style */\n",
              "\n",
              "/* Colorize estimator box */\n",
              "#sk-container-id-1 div.sk-estimator input.sk-toggleable__control:checked~label.sk-toggleable__label {\n",
              "  /* unfitted */\n",
              "  background-color: var(--sklearn-color-unfitted-level-2);\n",
              "}\n",
              "\n",
              "#sk-container-id-1 div.sk-estimator.fitted input.sk-toggleable__control:checked~label.sk-toggleable__label {\n",
              "  /* fitted */\n",
              "  background-color: var(--sklearn-color-fitted-level-2);\n",
              "}\n",
              "\n",
              "#sk-container-id-1 div.sk-label label.sk-toggleable__label,\n",
              "#sk-container-id-1 div.sk-label label {\n",
              "  /* The background is the default theme color */\n",
              "  color: var(--sklearn-color-text-on-default-background);\n",
              "}\n",
              "\n",
              "/* On hover, darken the color of the background */\n",
              "#sk-container-id-1 div.sk-label:hover label.sk-toggleable__label {\n",
              "  color: var(--sklearn-color-text);\n",
              "  background-color: var(--sklearn-color-unfitted-level-2);\n",
              "}\n",
              "\n",
              "/* Label box, darken color on hover, fitted */\n",
              "#sk-container-id-1 div.sk-label.fitted:hover label.sk-toggleable__label.fitted {\n",
              "  color: var(--sklearn-color-text);\n",
              "  background-color: var(--sklearn-color-fitted-level-2);\n",
              "}\n",
              "\n",
              "/* Estimator label */\n",
              "\n",
              "#sk-container-id-1 div.sk-label label {\n",
              "  font-family: monospace;\n",
              "  font-weight: bold;\n",
              "  display: inline-block;\n",
              "  line-height: 1.2em;\n",
              "}\n",
              "\n",
              "#sk-container-id-1 div.sk-label-container {\n",
              "  text-align: center;\n",
              "}\n",
              "\n",
              "/* Estimator-specific */\n",
              "#sk-container-id-1 div.sk-estimator {\n",
              "  font-family: monospace;\n",
              "  border: 1px dotted var(--sklearn-color-border-box);\n",
              "  border-radius: 0.25em;\n",
              "  box-sizing: border-box;\n",
              "  margin-bottom: 0.5em;\n",
              "  /* unfitted */\n",
              "  background-color: var(--sklearn-color-unfitted-level-0);\n",
              "}\n",
              "\n",
              "#sk-container-id-1 div.sk-estimator.fitted {\n",
              "  /* fitted */\n",
              "  background-color: var(--sklearn-color-fitted-level-0);\n",
              "}\n",
              "\n",
              "/* on hover */\n",
              "#sk-container-id-1 div.sk-estimator:hover {\n",
              "  /* unfitted */\n",
              "  background-color: var(--sklearn-color-unfitted-level-2);\n",
              "}\n",
              "\n",
              "#sk-container-id-1 div.sk-estimator.fitted:hover {\n",
              "  /* fitted */\n",
              "  background-color: var(--sklearn-color-fitted-level-2);\n",
              "}\n",
              "\n",
              "/* Specification for estimator info (e.g. \"i\" and \"?\") */\n",
              "\n",
              "/* Common style for \"i\" and \"?\" */\n",
              "\n",
              ".sk-estimator-doc-link,\n",
              "a:link.sk-estimator-doc-link,\n",
              "a:visited.sk-estimator-doc-link {\n",
              "  float: right;\n",
              "  font-size: smaller;\n",
              "  line-height: 1em;\n",
              "  font-family: monospace;\n",
              "  background-color: var(--sklearn-color-background);\n",
              "  border-radius: 1em;\n",
              "  height: 1em;\n",
              "  width: 1em;\n",
              "  text-decoration: none !important;\n",
              "  margin-left: 0.5em;\n",
              "  text-align: center;\n",
              "  /* unfitted */\n",
              "  border: var(--sklearn-color-unfitted-level-1) 1pt solid;\n",
              "  color: var(--sklearn-color-unfitted-level-1);\n",
              "}\n",
              "\n",
              ".sk-estimator-doc-link.fitted,\n",
              "a:link.sk-estimator-doc-link.fitted,\n",
              "a:visited.sk-estimator-doc-link.fitted {\n",
              "  /* fitted */\n",
              "  border: var(--sklearn-color-fitted-level-1) 1pt solid;\n",
              "  color: var(--sklearn-color-fitted-level-1);\n",
              "}\n",
              "\n",
              "/* On hover */\n",
              "div.sk-estimator:hover .sk-estimator-doc-link:hover,\n",
              ".sk-estimator-doc-link:hover,\n",
              "div.sk-label-container:hover .sk-estimator-doc-link:hover,\n",
              ".sk-estimator-doc-link:hover {\n",
              "  /* unfitted */\n",
              "  background-color: var(--sklearn-color-unfitted-level-3);\n",
              "  color: var(--sklearn-color-background);\n",
              "  text-decoration: none;\n",
              "}\n",
              "\n",
              "div.sk-estimator.fitted:hover .sk-estimator-doc-link.fitted:hover,\n",
              ".sk-estimator-doc-link.fitted:hover,\n",
              "div.sk-label-container:hover .sk-estimator-doc-link.fitted:hover,\n",
              ".sk-estimator-doc-link.fitted:hover {\n",
              "  /* fitted */\n",
              "  background-color: var(--sklearn-color-fitted-level-3);\n",
              "  color: var(--sklearn-color-background);\n",
              "  text-decoration: none;\n",
              "}\n",
              "\n",
              "/* Span, style for the box shown on hovering the info icon */\n",
              ".sk-estimator-doc-link span {\n",
              "  display: none;\n",
              "  z-index: 9999;\n",
              "  position: relative;\n",
              "  font-weight: normal;\n",
              "  right: .2ex;\n",
              "  padding: .5ex;\n",
              "  margin: .5ex;\n",
              "  width: min-content;\n",
              "  min-width: 20ex;\n",
              "  max-width: 50ex;\n",
              "  color: var(--sklearn-color-text);\n",
              "  box-shadow: 2pt 2pt 4pt #999;\n",
              "  /* unfitted */\n",
              "  background: var(--sklearn-color-unfitted-level-0);\n",
              "  border: .5pt solid var(--sklearn-color-unfitted-level-3);\n",
              "}\n",
              "\n",
              ".sk-estimator-doc-link.fitted span {\n",
              "  /* fitted */\n",
              "  background: var(--sklearn-color-fitted-level-0);\n",
              "  border: var(--sklearn-color-fitted-level-3);\n",
              "}\n",
              "\n",
              ".sk-estimator-doc-link:hover span {\n",
              "  display: block;\n",
              "}\n",
              "\n",
              "/* \"?\"-specific style due to the `<a>` HTML tag */\n",
              "\n",
              "#sk-container-id-1 a.estimator_doc_link {\n",
              "  float: right;\n",
              "  font-size: 1rem;\n",
              "  line-height: 1em;\n",
              "  font-family: monospace;\n",
              "  background-color: var(--sklearn-color-background);\n",
              "  border-radius: 1rem;\n",
              "  height: 1rem;\n",
              "  width: 1rem;\n",
              "  text-decoration: none;\n",
              "  /* unfitted */\n",
              "  color: var(--sklearn-color-unfitted-level-1);\n",
              "  border: var(--sklearn-color-unfitted-level-1) 1pt solid;\n",
              "}\n",
              "\n",
              "#sk-container-id-1 a.estimator_doc_link.fitted {\n",
              "  /* fitted */\n",
              "  border: var(--sklearn-color-fitted-level-1) 1pt solid;\n",
              "  color: var(--sklearn-color-fitted-level-1);\n",
              "}\n",
              "\n",
              "/* On hover */\n",
              "#sk-container-id-1 a.estimator_doc_link:hover {\n",
              "  /* unfitted */\n",
              "  background-color: var(--sklearn-color-unfitted-level-3);\n",
              "  color: var(--sklearn-color-background);\n",
              "  text-decoration: none;\n",
              "}\n",
              "\n",
              "#sk-container-id-1 a.estimator_doc_link.fitted:hover {\n",
              "  /* fitted */\n",
              "  background-color: var(--sklearn-color-fitted-level-3);\n",
              "}\n",
              "</style><div id=\"sk-container-id-1\" class=\"sk-top-container\"><div class=\"sk-text-repr-fallback\"><pre>SVC(kernel=&#x27;linear&#x27;)</pre><b>In a Jupyter environment, please rerun this cell to show the HTML representation or trust the notebook. <br />On GitHub, the HTML representation is unable to render, please try loading this page with nbviewer.org.</b></div><div class=\"sk-container\" hidden><div class=\"sk-item\"><div class=\"sk-estimator fitted sk-toggleable\"><input class=\"sk-toggleable__control sk-hidden--visually\" id=\"sk-estimator-id-1\" type=\"checkbox\" checked><label for=\"sk-estimator-id-1\" class=\"sk-toggleable__label fitted sk-toggleable__label-arrow\"><div><div>SVC</div></div><div><a class=\"sk-estimator-doc-link fitted\" rel=\"noreferrer\" target=\"_blank\" href=\"https://scikit-learn.org/1.6/modules/generated/sklearn.svm.SVC.html\">?<span>Documentation for SVC</span></a><span class=\"sk-estimator-doc-link fitted\">i<span>Fitted</span></span></div></label><div class=\"sk-toggleable__content fitted\"><pre>SVC(kernel=&#x27;linear&#x27;)</pre></div> </div></div></div></div>"
            ]
          },
          "metadata": {},
          "execution_count": 15
        }
      ]
    },
    {
      "cell_type": "markdown",
      "metadata": {
        "id": "UV4-CAfquiyP"
      },
      "source": [
        "## Step-2: Model Evaluation:-"
      ]
    },
    {
      "cell_type": "markdown",
      "metadata": {
        "id": "yhAjGPJWunXa"
      },
      "source": [
        "### Step-2.1: Accuracy Score:-"
      ]
    },
    {
      "cell_type": "code",
      "metadata": {
        "id": "fJLEPQK7ueXp",
        "outputId": "3c7fc027-5142-4ed1-d6e9-712807b7ace8",
        "colab": {
          "base_uri": "https://localhost:8080/"
        }
      },
      "source": [
        "from sklearn.metrics import accuracy_score\n",
        "\n",
        "# accuracy score on the training data\n",
        "X_train_prediction = model.predict(X_train)\n",
        "training_data_accuracy = accuracy_score(X_train_prediction, y_train)\n",
        "print('Accuracy score of the training data : ', training_data_accuracy)"
      ],
      "execution_count": 16,
      "outputs": [
        {
          "output_type": "stream",
          "name": "stdout",
          "text": [
            "Accuracy score of the training data :  0.7915309446254072\n"
          ]
        }
      ]
    },
    {
      "cell_type": "code",
      "metadata": {
        "id": "G2CICFMEvcCl",
        "outputId": "448fdd18-ad93-47db-e8f1-e6fdb53d88df",
        "colab": {
          "base_uri": "https://localhost:8080/"
        }
      },
      "source": [
        "# accuracy score on the test data\n",
        "X_test_prediction = model.predict(X_test)\n",
        "test_data_accuracy = accuracy_score(X_test_prediction, y_test)\n",
        "print('Accuracy score of the test data : ', test_data_accuracy)"
      ],
      "execution_count": 17,
      "outputs": [
        {
          "output_type": "stream",
          "name": "stdout",
          "text": [
            "Accuracy score of the test data :  0.7207792207792207\n"
          ]
        }
      ]
    },
    {
      "cell_type": "markdown",
      "metadata": {
        "id": "gq8ZX1xpwPF5"
      },
      "source": [
        "### Step-2.2: Making a Predictive System:-"
      ]
    },
    {
      "cell_type": "code",
      "metadata": {
        "colab": {
          "base_uri": "https://localhost:8080/"
        },
        "id": "U-ULRe4yv5tH",
        "outputId": "820a3e1f-4d25-4fe3-93e0-a77256f11ff2"
      },
      "source": [
        "# input_data = (5,116,74,0,0,25.6,0.201,30)\n",
        "input_data = np.array([5,116,74,0,0,25.6,0.201,30])\n",
        "\n",
        "# reshape the array as we are predicting for one instance\n",
        "input_data_reshaped = input_data.reshape(1,-1)\n",
        "\n",
        "# standardize the input data\n",
        "std_data = scaler.fit_transform(input_data_reshaped)\n",
        "print(std_data)\n",
        "\n",
        "prediction = model.predict(std_data)\n",
        "print(f\"Prediction: {prediction} \\n\")\n",
        "\n",
        "if (prediction[0] == 0):\n",
        "  print('The person is not diabetic')\n",
        "else:\n",
        "  print('The person is diabetic')"
      ],
      "execution_count": 18,
      "outputs": [
        {
          "output_type": "stream",
          "name": "stdout",
          "text": [
            "[[0.00 0.00 0.00 0.00 0.00 0.00 0.00 0.00]]\n",
            "Prediction: [0] \n",
            "\n",
            "The person is not diabetic\n"
          ]
        }
      ]
    },
    {
      "cell_type": "markdown",
      "source": [
        "# Saving the Model"
      ],
      "metadata": {
        "id": "dVP0bWMcYwbO"
      }
    },
    {
      "cell_type": "code",
      "source": [
        "import pickle\n",
        "\n",
        "filename = 'diabetes_prediction.sav'\n",
        "pickle.dump(model, open(filename, 'wb'))"
      ],
      "metadata": {
        "id": "nstMhR_kZHIe"
      },
      "execution_count": 19,
      "outputs": []
    },
    {
      "cell_type": "code",
      "source": [
        "#loading the saved model...\n",
        "loaded_model = pickle.load(open('diabetes_prediction.sav', 'rb'))"
      ],
      "metadata": {
        "id": "z6uQl2dbZJJZ"
      },
      "execution_count": 20,
      "outputs": []
    },
    {
      "cell_type": "code",
      "source": [
        "# input_data = (5,116,74,0,0,25.6,0.201,30)\n",
        "input_data = np.array([5,116,74,0,0,25.6,0.201,30])\n",
        "\n",
        "# reshape the array as we are predicting for one instance\n",
        "input_data_reshaped = input_data.reshape(1,-1)\n",
        "\n",
        "# standardize the input data\n",
        "std_data = scaler.fit_transform(input_data_reshaped)\n",
        "print(std_data)\n",
        "\n",
        "prediction = model.predict(std_data)\n",
        "print(f\"Prediction: {prediction} \\n\")\n",
        "\n",
        "if (prediction[0] == 0):\n",
        "  print('The person is not diabetic')\n",
        "else:\n",
        "  print('The person is diabetic')"
      ],
      "metadata": {
        "colab": {
          "base_uri": "https://localhost:8080/"
        },
        "id": "IEHsLTggf6b4",
        "outputId": "9c25e55c-b82a-4779-8bf0-824de589fc73"
      },
      "execution_count": 21,
      "outputs": [
        {
          "output_type": "stream",
          "name": "stdout",
          "text": [
            "[[0.00 0.00 0.00 0.00 0.00 0.00 0.00 0.00]]\n",
            "Prediction: [0] \n",
            "\n",
            "The person is not diabetic\n"
          ]
        }
      ]
    }
  ]
}