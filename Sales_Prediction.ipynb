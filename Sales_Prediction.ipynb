{
  "nbformat": 4,
  "nbformat_minor": 0,
  "metadata": {
    "colab": {
      "provenance": [],
      "authorship_tag": "ABX9TyMqHil9i7FwQW1j4iQbikMZ",
      "include_colab_link": true
    },
    "kernelspec": {
      "name": "python3",
      "display_name": "Python 3"
    },
    "language_info": {
      "name": "python"
    }
  },
  "cells": [
    {
      "cell_type": "markdown",
      "metadata": {
        "id": "view-in-github",
        "colab_type": "text"
      },
      "source": [
        "<a href=\"https://colab.research.google.com/github/rajan-dhinoja/machine_learning_projects/blob/main/Sales_Prediction.ipynb\" target=\"_parent\"><img src=\"https://colab.research.google.com/assets/colab-badge.svg\" alt=\"Open In Colab\"/></a>"
      ]
    },
    {
      "cell_type": "markdown",
      "metadata": {
        "id": "37puETfgRzzg"
      },
      "source": [
        "# ***Step-A: Data Preprocessing:-***"
      ]
    },
    {
      "cell_type": "markdown",
      "metadata": {
        "id": "EoRP98MpR-qj"
      },
      "source": [
        "## Step-1: Import Required Dependencies:-\n",
        "Import essential libraries and modules for Data manipulation, visualization, and preprocessing..."
      ]
    },
    {
      "cell_type": "code",
      "source": [
        "import numpy as np\n",
        "import matplotlib.pyplot as plt\n",
        "import pandas as pd\n",
        "import seaborn as sns\n",
        "import warnings\n",
        "\n",
        "warnings.filterwarnings('ignore')\n",
        "\n",
        "# Set the option to prevent silent downcasting\n",
        "pd.set_option('future.no_silent_downcasting', True)"
      ],
      "metadata": {
        "id": "GmH0B8spjV_Y"
      },
      "execution_count": null,
      "outputs": []
    },
    {
      "cell_type": "markdown",
      "metadata": {
        "id": "RopL7tUZSQkT"
      },
      "source": [
        "## Step-2: Load & have Fun with the Dataset:-"
      ]
    },
    {
      "cell_type": "code",
      "source": [
        "# dataset = pd.DataFrame(pd.read_csv('train_set.csv'))\n",
        "dataset = pd.DataFrame(pd.read_csv('data.csv'))\n",
        "dataset.head()\n",
        "# dataset"
      ],
      "metadata": {
        "colab": {
          "base_uri": "https://localhost:8080/",
          "height": 206
        },
        "id": "22jQxj5pWkhz",
        "outputId": "9466b54d-5cca-48a2-d80e-9cbb869ea246"
      },
      "execution_count": null,
      "outputs": [
        {
          "output_type": "execute_result",
          "data": {
            "text/plain": [
              "   Country   Age   Salary Purchased\n",
              "0   France  44.0  72000.0        No\n",
              "1    Spain  27.0  48000.0       Yes\n",
              "2  Germany  30.0  54000.0        No\n",
              "3    Spain   NaN  61000.0        No\n",
              "4  Germany  40.0  62500.0       Yes"
            ],
            "text/html": [
              "\n",
              "  <div id=\"df-e144bf7c-23e3-4307-b626-0d1f466ed003\" class=\"colab-df-container\">\n",
              "    <div>\n",
              "<style scoped>\n",
              "    .dataframe tbody tr th:only-of-type {\n",
              "        vertical-align: middle;\n",
              "    }\n",
              "\n",
              "    .dataframe tbody tr th {\n",
              "        vertical-align: top;\n",
              "    }\n",
              "\n",
              "    .dataframe thead th {\n",
              "        text-align: right;\n",
              "    }\n",
              "</style>\n",
              "<table border=\"1\" class=\"dataframe\">\n",
              "  <thead>\n",
              "    <tr style=\"text-align: right;\">\n",
              "      <th></th>\n",
              "      <th>Country</th>\n",
              "      <th>Age</th>\n",
              "      <th>Salary</th>\n",
              "      <th>Purchased</th>\n",
              "    </tr>\n",
              "  </thead>\n",
              "  <tbody>\n",
              "    <tr>\n",
              "      <th>0</th>\n",
              "      <td>France</td>\n",
              "      <td>44.0</td>\n",
              "      <td>72000.0</td>\n",
              "      <td>No</td>\n",
              "    </tr>\n",
              "    <tr>\n",
              "      <th>1</th>\n",
              "      <td>Spain</td>\n",
              "      <td>27.0</td>\n",
              "      <td>48000.0</td>\n",
              "      <td>Yes</td>\n",
              "    </tr>\n",
              "    <tr>\n",
              "      <th>2</th>\n",
              "      <td>Germany</td>\n",
              "      <td>30.0</td>\n",
              "      <td>54000.0</td>\n",
              "      <td>No</td>\n",
              "    </tr>\n",
              "    <tr>\n",
              "      <th>3</th>\n",
              "      <td>Spain</td>\n",
              "      <td>NaN</td>\n",
              "      <td>61000.0</td>\n",
              "      <td>No</td>\n",
              "    </tr>\n",
              "    <tr>\n",
              "      <th>4</th>\n",
              "      <td>Germany</td>\n",
              "      <td>40.0</td>\n",
              "      <td>62500.0</td>\n",
              "      <td>Yes</td>\n",
              "    </tr>\n",
              "  </tbody>\n",
              "</table>\n",
              "</div>\n",
              "    <div class=\"colab-df-buttons\">\n",
              "\n",
              "  <div class=\"colab-df-container\">\n",
              "    <button class=\"colab-df-convert\" onclick=\"convertToInteractive('df-e144bf7c-23e3-4307-b626-0d1f466ed003')\"\n",
              "            title=\"Convert this dataframe to an interactive table.\"\n",
              "            style=\"display:none;\">\n",
              "\n",
              "  <svg xmlns=\"http://www.w3.org/2000/svg\" height=\"24px\" viewBox=\"0 -960 960 960\">\n",
              "    <path d=\"M120-120v-720h720v720H120Zm60-500h600v-160H180v160Zm220 220h160v-160H400v160Zm0 220h160v-160H400v160ZM180-400h160v-160H180v160Zm440 0h160v-160H620v160ZM180-180h160v-160H180v160Zm440 0h160v-160H620v160Z\"/>\n",
              "  </svg>\n",
              "    </button>\n",
              "\n",
              "  <style>\n",
              "    .colab-df-container {\n",
              "      display:flex;\n",
              "      gap: 12px;\n",
              "    }\n",
              "\n",
              "    .colab-df-convert {\n",
              "      background-color: #E8F0FE;\n",
              "      border: none;\n",
              "      border-radius: 50%;\n",
              "      cursor: pointer;\n",
              "      display: none;\n",
              "      fill: #1967D2;\n",
              "      height: 32px;\n",
              "      padding: 0 0 0 0;\n",
              "      width: 32px;\n",
              "    }\n",
              "\n",
              "    .colab-df-convert:hover {\n",
              "      background-color: #E2EBFA;\n",
              "      box-shadow: 0px 1px 2px rgba(60, 64, 67, 0.3), 0px 1px 3px 1px rgba(60, 64, 67, 0.15);\n",
              "      fill: #174EA6;\n",
              "    }\n",
              "\n",
              "    .colab-df-buttons div {\n",
              "      margin-bottom: 4px;\n",
              "    }\n",
              "\n",
              "    [theme=dark] .colab-df-convert {\n",
              "      background-color: #3B4455;\n",
              "      fill: #D2E3FC;\n",
              "    }\n",
              "\n",
              "    [theme=dark] .colab-df-convert:hover {\n",
              "      background-color: #434B5C;\n",
              "      box-shadow: 0px 1px 3px 1px rgba(0, 0, 0, 0.15);\n",
              "      filter: drop-shadow(0px 1px 2px rgba(0, 0, 0, 0.3));\n",
              "      fill: #FFFFFF;\n",
              "    }\n",
              "  </style>\n",
              "\n",
              "    <script>\n",
              "      const buttonEl =\n",
              "        document.querySelector('#df-e144bf7c-23e3-4307-b626-0d1f466ed003 button.colab-df-convert');\n",
              "      buttonEl.style.display =\n",
              "        google.colab.kernel.accessAllowed ? 'block' : 'none';\n",
              "\n",
              "      async function convertToInteractive(key) {\n",
              "        const element = document.querySelector('#df-e144bf7c-23e3-4307-b626-0d1f466ed003');\n",
              "        const dataTable =\n",
              "          await google.colab.kernel.invokeFunction('convertToInteractive',\n",
              "                                                    [key], {});\n",
              "        if (!dataTable) return;\n",
              "\n",
              "        const docLinkHtml = 'Like what you see? Visit the ' +\n",
              "          '<a target=\"_blank\" href=https://colab.research.google.com/notebooks/data_table.ipynb>data table notebook</a>'\n",
              "          + ' to learn more about interactive tables.';\n",
              "        element.innerHTML = '';\n",
              "        dataTable['output_type'] = 'display_data';\n",
              "        await google.colab.output.renderOutput(dataTable, element);\n",
              "        const docLink = document.createElement('div');\n",
              "        docLink.innerHTML = docLinkHtml;\n",
              "        element.appendChild(docLink);\n",
              "      }\n",
              "    </script>\n",
              "  </div>\n",
              "\n",
              "\n",
              "<div id=\"df-2d2946bf-dd96-4f0a-b458-2fe4c77deda0\">\n",
              "  <button class=\"colab-df-quickchart\" onclick=\"quickchart('df-2d2946bf-dd96-4f0a-b458-2fe4c77deda0')\"\n",
              "            title=\"Suggest charts\"\n",
              "            style=\"display:none;\">\n",
              "\n",
              "<svg xmlns=\"http://www.w3.org/2000/svg\" height=\"24px\"viewBox=\"0 0 24 24\"\n",
              "     width=\"24px\">\n",
              "    <g>\n",
              "        <path d=\"M19 3H5c-1.1 0-2 .9-2 2v14c0 1.1.9 2 2 2h14c1.1 0 2-.9 2-2V5c0-1.1-.9-2-2-2zM9 17H7v-7h2v7zm4 0h-2V7h2v10zm4 0h-2v-4h2v4z\"/>\n",
              "    </g>\n",
              "</svg>\n",
              "  </button>\n",
              "\n",
              "<style>\n",
              "  .colab-df-quickchart {\n",
              "      --bg-color: #E8F0FE;\n",
              "      --fill-color: #1967D2;\n",
              "      --hover-bg-color: #E2EBFA;\n",
              "      --hover-fill-color: #174EA6;\n",
              "      --disabled-fill-color: #AAA;\n",
              "      --disabled-bg-color: #DDD;\n",
              "  }\n",
              "\n",
              "  [theme=dark] .colab-df-quickchart {\n",
              "      --bg-color: #3B4455;\n",
              "      --fill-color: #D2E3FC;\n",
              "      --hover-bg-color: #434B5C;\n",
              "      --hover-fill-color: #FFFFFF;\n",
              "      --disabled-bg-color: #3B4455;\n",
              "      --disabled-fill-color: #666;\n",
              "  }\n",
              "\n",
              "  .colab-df-quickchart {\n",
              "    background-color: var(--bg-color);\n",
              "    border: none;\n",
              "    border-radius: 50%;\n",
              "    cursor: pointer;\n",
              "    display: none;\n",
              "    fill: var(--fill-color);\n",
              "    height: 32px;\n",
              "    padding: 0;\n",
              "    width: 32px;\n",
              "  }\n",
              "\n",
              "  .colab-df-quickchart:hover {\n",
              "    background-color: var(--hover-bg-color);\n",
              "    box-shadow: 0 1px 2px rgba(60, 64, 67, 0.3), 0 1px 3px 1px rgba(60, 64, 67, 0.15);\n",
              "    fill: var(--button-hover-fill-color);\n",
              "  }\n",
              "\n",
              "  .colab-df-quickchart-complete:disabled,\n",
              "  .colab-df-quickchart-complete:disabled:hover {\n",
              "    background-color: var(--disabled-bg-color);\n",
              "    fill: var(--disabled-fill-color);\n",
              "    box-shadow: none;\n",
              "  }\n",
              "\n",
              "  .colab-df-spinner {\n",
              "    border: 2px solid var(--fill-color);\n",
              "    border-color: transparent;\n",
              "    border-bottom-color: var(--fill-color);\n",
              "    animation:\n",
              "      spin 1s steps(1) infinite;\n",
              "  }\n",
              "\n",
              "  @keyframes spin {\n",
              "    0% {\n",
              "      border-color: transparent;\n",
              "      border-bottom-color: var(--fill-color);\n",
              "      border-left-color: var(--fill-color);\n",
              "    }\n",
              "    20% {\n",
              "      border-color: transparent;\n",
              "      border-left-color: var(--fill-color);\n",
              "      border-top-color: var(--fill-color);\n",
              "    }\n",
              "    30% {\n",
              "      border-color: transparent;\n",
              "      border-left-color: var(--fill-color);\n",
              "      border-top-color: var(--fill-color);\n",
              "      border-right-color: var(--fill-color);\n",
              "    }\n",
              "    40% {\n",
              "      border-color: transparent;\n",
              "      border-right-color: var(--fill-color);\n",
              "      border-top-color: var(--fill-color);\n",
              "    }\n",
              "    60% {\n",
              "      border-color: transparent;\n",
              "      border-right-color: var(--fill-color);\n",
              "    }\n",
              "    80% {\n",
              "      border-color: transparent;\n",
              "      border-right-color: var(--fill-color);\n",
              "      border-bottom-color: var(--fill-color);\n",
              "    }\n",
              "    90% {\n",
              "      border-color: transparent;\n",
              "      border-bottom-color: var(--fill-color);\n",
              "    }\n",
              "  }\n",
              "</style>\n",
              "\n",
              "  <script>\n",
              "    async function quickchart(key) {\n",
              "      const quickchartButtonEl =\n",
              "        document.querySelector('#' + key + ' button');\n",
              "      quickchartButtonEl.disabled = true;  // To prevent multiple clicks.\n",
              "      quickchartButtonEl.classList.add('colab-df-spinner');\n",
              "      try {\n",
              "        const charts = await google.colab.kernel.invokeFunction(\n",
              "            'suggestCharts', [key], {});\n",
              "      } catch (error) {\n",
              "        console.error('Error during call to suggestCharts:', error);\n",
              "      }\n",
              "      quickchartButtonEl.classList.remove('colab-df-spinner');\n",
              "      quickchartButtonEl.classList.add('colab-df-quickchart-complete');\n",
              "    }\n",
              "    (() => {\n",
              "      let quickchartButtonEl =\n",
              "        document.querySelector('#df-2d2946bf-dd96-4f0a-b458-2fe4c77deda0 button');\n",
              "      quickchartButtonEl.style.display =\n",
              "        google.colab.kernel.accessAllowed ? 'block' : 'none';\n",
              "    })();\n",
              "  </script>\n",
              "</div>\n",
              "\n",
              "    </div>\n",
              "  </div>\n"
            ],
            "application/vnd.google.colaboratory.intrinsic+json": {
              "type": "dataframe",
              "summary": "{\n  \"name\": \"# dataset\",\n  \"rows\": 5,\n  \"fields\": [\n    {\n      \"column\": \"Country\",\n      \"properties\": {\n        \"dtype\": \"string\",\n        \"num_unique_values\": 3,\n        \"samples\": [\n          \"France\",\n          \"Spain\",\n          \"Germany\"\n        ],\n        \"semantic_type\": \"\",\n        \"description\": \"\"\n      }\n    },\n    {\n      \"column\": \"Age\",\n      \"properties\": {\n        \"dtype\": \"number\",\n        \"std\": 8.05708797684788,\n        \"min\": 27.0,\n        \"max\": 44.0,\n        \"num_unique_values\": 4,\n        \"samples\": [\n          27.0,\n          40.0,\n          44.0\n        ],\n        \"semantic_type\": \"\",\n        \"description\": \"\"\n      }\n    },\n    {\n      \"column\": \"Salary\",\n      \"properties\": {\n        \"dtype\": \"number\",\n        \"std\": 9082.951062292475,\n        \"min\": 48000.0,\n        \"max\": 72000.0,\n        \"num_unique_values\": 5,\n        \"samples\": [\n          48000.0,\n          62500.0,\n          54000.0\n        ],\n        \"semantic_type\": \"\",\n        \"description\": \"\"\n      }\n    },\n    {\n      \"column\": \"Purchased\",\n      \"properties\": {\n        \"dtype\": \"category\",\n        \"num_unique_values\": 2,\n        \"samples\": [\n          \"Yes\",\n          \"No\"\n        ],\n        \"semantic_type\": \"\",\n        \"description\": \"\"\n      }\n    }\n  ]\n}"
            }
          },
          "metadata": {},
          "execution_count": 2
        }
      ]
    },
    {
      "cell_type": "code",
      "source": [
        "# Seperate the whole datset into categorical and numerical columns...\n",
        "\n",
        "categorical_cols = dataset.select_dtypes(include=['object']).columns\n",
        "numerical_cols = dataset.select_dtypes(exclude=['object']).columns\n",
        "\n",
        "print(\"Categorical Columns: \\n\", categorical_cols, \"\\n\")\n",
        "print(\"Numerical Columns: \\n\", numerical_cols)"
      ],
      "metadata": {
        "colab": {
          "base_uri": "https://localhost:8080/"
        },
        "id": "88IHIHYSGp1E",
        "outputId": "d1346a67-9438-43a1-9790-e5133a7fb6f4"
      },
      "execution_count": null,
      "outputs": [
        {
          "output_type": "stream",
          "name": "stdout",
          "text": [
            "Categorical Columns: \n",
            " Index(['Country', 'Purchased'], dtype='object') \n",
            "\n",
            "Numerical Columns: \n",
            " Index(['Age', 'Salary'], dtype='object')\n"
          ]
        }
      ]
    },
    {
      "cell_type": "code",
      "source": [
        "# Different Information of the Dataset...\n",
        "\n",
        "print(\"> Shape of the Dataset: \\n\", dataset.shape)\n",
        "print(\"\\n\")\n",
        "print(\"> Information about Dataset: \\n\")\n",
        "print(dataset.info())\n",
        "print(\"\\n\")\n",
        "print(\"> Statistical summary of the Dataset: \\n\")\n",
        "print(dataset.describe().map(lambda x: round(x, 4)) )"
      ],
      "metadata": {
        "id": "lSbm_DLHsJnU",
        "outputId": "24f9525a-0344-4b7e-9553-1dd07d9a9e23",
        "colab": {
          "base_uri": "https://localhost:8080/"
        }
      },
      "execution_count": null,
      "outputs": [
        {
          "output_type": "stream",
          "name": "stdout",
          "text": [
            "> Shape of the Dataset: \n",
            " (11, 4)\n",
            "\n",
            "\n",
            "> Information about Dataset: \n",
            "\n",
            "<class 'pandas.core.frame.DataFrame'>\n",
            "RangeIndex: 11 entries, 0 to 10\n",
            "Data columns (total 4 columns):\n",
            " #   Column     Non-Null Count  Dtype  \n",
            "---  ------     --------------  -----  \n",
            " 0   Country    10 non-null     object \n",
            " 1   Age        9 non-null      float64\n",
            " 2   Salary     10 non-null     float64\n",
            " 3   Purchased  11 non-null     object \n",
            "dtypes: float64(2), object(2)\n",
            "memory usage: 480.0+ bytes\n",
            "None\n",
            "\n",
            "\n",
            "> Statistical summary of the Dataset: \n",
            "\n",
            "           Age      Salary\n",
            "count   9.0000     10.0000\n",
            "mean   37.3333  63700.0000\n",
            "std     6.8920  11545.0807\n",
            "min    27.0000  48000.0000\n",
            "25%    35.0000  55125.0000\n",
            "50%    37.0000  61750.0000\n",
            "75%    40.0000  70750.0000\n",
            "max    50.0000  83000.0000\n"
          ]
        }
      ]
    },
    {
      "cell_type": "code",
      "source": [
        "# Correlation Matrix Heatmap\n",
        "sns.heatmap(dataset[numerical_cols].corr(), annot=True, cmap='coolwarm')\n",
        "plt.title('Correlation Matrix \\n',fontsize=20,  fontweight=800)\n",
        "plt.show()"
      ],
      "metadata": {
        "colab": {
          "base_uri": "https://localhost:8080/",
          "height": 493
        },
        "id": "6PbnmmKJIZOP",
        "outputId": "2f4aa86e-7831-424f-e53d-71e759a11d44"
      },
      "execution_count": null,
      "outputs": [
        {
          "output_type": "display_data",
          "data": {
            "text/plain": [
              "<Figure size 640x480 with 2 Axes>"
            ],
            "image/png": "[encoded data removed]"
          },
          "metadata": {}
        }
      ]
    },
    {
      "cell_type": "code",
      "source": [
        "# Plot target distribution\n",
        "sns.histplot(dataset.iloc[:, -1], bins=30, kde=True)\n",
        "plt.title('Distribution of Last Column')\n",
        "plt.show()"
      ],
      "metadata": {
        "id": "nfNAkdSllZbC",
        "outputId": "a955515c-711b-4d1c-9d82-2d5630ab110b",
        "colab": {
          "base_uri": "https://localhost:8080/",
          "height": 472
        }
      },
      "execution_count": null,
      "outputs": [
        {
          "output_type": "display_data",
          "data": {
            "text/plain": [
              "<Figure size 640x480 with 1 Axes>"
            ],
            "image/png": "[encoded data removed]"
          },
          "metadata": {}
        }
      ]
    },
    {
      "cell_type": "code",
      "source": [
        "# # Boxplot for OutletType vs OutletSales\n",
        "# plt.figure(figsize=(10, 6))\n",
        "# sns.boxplot(x='OutletType', y='OutletSales', data=dataset)\n",
        "# plt.xticks(rotation=45)\n",
        "# plt.title('OutletType vs OutletSales')\n",
        "# plt.show()"
      ],
      "metadata": {
        "id": "vJL70uKPlcZp"
      },
      "execution_count": null,
      "outputs": []
    },
    {
      "cell_type": "markdown",
      "source": [
        "## Step-3:- Checking the Dataset:-"
      ],
      "metadata": {
        "id": "P3MbT4ZjKYg6"
      }
    },
    {
      "cell_type": "markdown",
      "source": [
        "### Step-3.1: Checking any Duplicate Data and Handling them:-"
      ],
      "metadata": {
        "id": "9MD3KbxQEnry"
      }
    },
    {
      "cell_type": "code",
      "source": [
        "if dataset.duplicated().any():\n",
        "  dataset.drop_duplicates(inplace=True)\n",
        "  print(\"Duplicate Data(or Identical Rows) found and Removed...\")\n",
        "else:\n",
        "    print(\"No Duplicate Data(or Identical Rows) found...\")"
      ],
      "metadata": {
        "id": "RTK3_CbhDOst",
        "outputId": "f1cfe1ef-dbea-4c3c-ebcd-9e046ea20dc6",
        "colab": {
          "base_uri": "https://localhost:8080/"
        }
      },
      "execution_count": null,
      "outputs": [
        {
          "output_type": "stream",
          "name": "stdout",
          "text": [
            "No Duplicate Data(or Identical Rows) found...\n"
          ]
        }
      ]
    },
    {
      "cell_type": "markdown",
      "source": [
        "### Step-3.2: Cheking any Missing Data and Handling them:-"
      ],
      "metadata": {
        "id": "ARYRmYj4W6MM"
      }
    },
    {
      "cell_type": "code",
      "source": [
        "# # Calculating Missing Data Counts...\n",
        "# missing_data_counts = dataset.isnull().sum() + dataset.isin(['', 'N/A', 'Unknown', 'NaN']).sum()\n",
        "# print(\"Missing Data Counts: \\n\", missing_data_counts)\n",
        "\n",
        "# X = pd.DataFrame(X)\n",
        "\n",
        "# # Check if \"Unknown\" exists in any column\n",
        "# if X.isin(['Unknown']).any().any():\n",
        "#     X.replace('Unknown', np.nan, inplace=True)\n",
        "#     X = X.values\n",
        "#     print(\"> All Unknown values Changed... \\n \\n\", X)\n",
        "# else:\n",
        "#     print(\"No 'Unknown' values found in the DataFrame.\")"
      ],
      "metadata": {
        "id": "xS5n9MnuYQzF"
      },
      "execution_count": null,
      "outputs": []
    },
    {
      "cell_type": "code",
      "source": [
        "# Here from the module named impute of the library scikit-learn, we are using the SimpleImputer Class to Handle the Missing Values.\n",
        "from sklearn.impute import SimpleImputer\n",
        "\n",
        "missing_data_counts = dataset.isnull().sum() + dataset.isin(['', 'N/A', 'Unknown', 'NaN']).sum()\n",
        "\n",
        "if missing_data_counts.any():\n",
        "\n",
        "  categorical_missing_counts = dataset[categorical_cols].isnull().sum() + dataset[categorical_cols].isin(['', 'N/A', 'Unknown', 'NaN']).sum()\n",
        "  numerical_missing_counts = dataset[numerical_cols].isnull().sum()\n",
        "\n",
        "  # Replace \"Unknown\" with NaN in categorical columns\n",
        "  for col in categorical_cols:\n",
        "    dataset[col] = dataset[col].replace('Unknown', np.nan)\n",
        "\n",
        "\n",
        "  # Check if there are any missing values (categorical or numerical)\n",
        "  if categorical_missing_counts.any() or numerical_missing_counts.any():\n",
        "      # Print missing counts for categorical columns in the desired format\n",
        "      print(\"Missing Data Counts in Categorical Columns: \\n\", categorical_missing_counts)\n",
        "      print(\"\\n\")\n",
        "      print(\"Missing Data Counts in Numerical Columns: \\n\", numerical_missing_counts)\n",
        "\n",
        "      # Create imputers for categorical and numerical features\n",
        "      categorical_imputer = SimpleImputer(missing_values=np.nan, strategy='most_frequent')\n",
        "      numerical_imputer = SimpleImputer(missing_values=np.nan, strategy='mean')\n",
        "\n",
        "      # Apply imputers to the selected columns in X\n",
        "      if len(categorical_cols) > 0:\n",
        "        categorical_cols_for_impution = [col for col in categorical_cols if col != dataset.columns[-1]]\n",
        "        dataset[categorical_cols_for_impution] = categorical_imputer.fit_transform(dataset[categorical_cols_for_impution])\n",
        "\n",
        "      # Exclude the dependent variable column (last column) if it's numerical\n",
        "      numerical_cols_for_impution = [col for col in numerical_cols if col != dataset.columns[-1]]\n",
        "      if len(numerical_cols_for_impution) > 0:\n",
        "          dataset[numerical_cols_for_impution] = numerical_imputer.fit_transform(dataset[numerical_cols_for_impution])\n",
        "      # if len(numerical_cols) > 0:\n",
        "          # dataset[numerical_cols] = numerical_imputer.fit_transform(dataset[numerical_cols])\n",
        "\n",
        "      print(\"\\n\")\n",
        "      print(\"New Data with replaced missing values: \\n\", dataset)\n",
        "else:\n",
        "    print(\"No missing data found.\")\n",
        "\n"
      ],
      "metadata": {
        "colab": {
          "base_uri": "https://localhost:8080/"
        },
        "outputId": "a2a786ce-1493-4beb-9632-4a2fe369542a",
        "id": "FHfbBcyqMILD"
      },
      "execution_count": null,
      "outputs": [
        {
          "output_type": "stream",
          "name": "stdout",
          "text": [
            "Missing Data Counts in Categorical Columns: \n",
            " Country      2\n",
            "Purchased    0\n",
            "dtype: int64\n",
            "\n",
            "\n",
            "Missing Data Counts in Numerical Columns: \n",
            " Age       2\n",
            "Salary    1\n",
            "dtype: int64\n",
            "\n",
            "\n",
            "New Data with replaced missing values: \n",
            "     Country        Age   Salary Purchased\n",
            "0    France  44.000000  72000.0        No\n",
            "1     Spain  27.000000  48000.0       Yes\n",
            "2   Germany  30.000000  54000.0        No\n",
            "3     Spain  37.333333  61000.0        No\n",
            "4   Germany  40.000000  62500.0       Yes\n",
            "5    France  35.000000  63700.0       Yes\n",
            "6    France  36.000000  52000.0        No\n",
            "7    France  37.333333  79000.0       Yes\n",
            "8   Germany  50.000000  83000.0        No\n",
            "9    France  37.000000  58500.0       Yes\n",
            "10   France  37.000000  67000.0       Yes\n"
          ]
        }
      ]
    },
    {
      "cell_type": "markdown",
      "source": [
        "### Step-3.3: Checking any Synonyms or Aliases and Handling them:-"
      ],
      "metadata": {
        "id": "7R1bgdUOSKLX"
      }
    },
    {
      "cell_type": "code",
      "source": [
        "for col in dataset.columns:\n",
        "  # Get value counts and convert to DataFrame with column name\n",
        "  value_counts_dataset = dataset[col].value_counts().rename_axis('Unique Values: ').reset_index(name='Counts: ')\n",
        "\n",
        "  # Transpose and print with formatting\n",
        "  print(f\"Column: \\t'{col}'\")\n",
        "  print(value_counts_dataset.T.to_string(header=False), \"\\n\")\n"
      ],
      "metadata": {
        "id": "Z2k59LVqTC8u",
        "outputId": "35c5d679-3a03-4f7c-ccfa-02e7a8b161c9",
        "colab": {
          "base_uri": "https://localhost:8080/"
        }
      },
      "execution_count": null,
      "outputs": [
        {
          "output_type": "stream",
          "name": "stdout",
          "text": [
            "Column: \t'Country'\n",
            "Unique Values:   France  Germany  Spain\n",
            "Counts:               6        3      2 \n",
            "\n",
            "Column: \t'Age'\n",
            "Unique Values:   37.333333  37.0  44.0  27.0  30.0  40.0  35.0  36.0  50.0\n",
            "Counts:           2.000000   2.0   1.0   1.0   1.0   1.0   1.0   1.0   1.0 \n",
            "\n",
            "Column: \t'Salary'\n",
            "Unique Values:   72000.0  48000.0  54000.0  61000.0  62500.0  63700.0  52000.0  79000.0  83000.0  58500.0  67000.0\n",
            "Counts:              1.0      1.0      1.0      1.0      1.0      1.0      1.0      1.0      1.0      1.0      1.0 \n",
            "\n",
            "Column: \t'Purchased'\n",
            "Unique Values:   Yes  No\n",
            "Counts:            6   5 \n",
            "\n"
          ]
        }
      ]
    },
    {
      "cell_type": "code",
      "source": [
        "# # # Handling ProductID Column\n",
        "# dataset['ProductID'] = dataset['ProductID'].apply(lambda x: x[:2])\n",
        "# # dataset['ProductID'] = dataset['ProductID'].map({'FD': 'Food', 'NC': 'Non-Consumable', 'DR': 'Drinks'})\n",
        "# print(\"> After Handling the Prefixes of 'ProductID' Column and changed to new Name:\")\n",
        "# print(dataset['ProductID'].value_counts())\n",
        "\n",
        "# # print(\"\\n\")\n",
        "\n",
        "# # Handling FatContent Column\n",
        "# dataset['FatContent'] = dataset['FatContent'].replace({ 'LF': 'Low Fat', 'low fat': 'Low Fat', 'Low fat': 'Low Fat', 'reg': 'Regular'})\n",
        "# dataset.loc[dataset['ProductID'] == 'NC', 'FatContent'] = 'Non-Edible'\n",
        "# print(\"> After Handling the Aliases of 'FatContent' Column:\")\n",
        "# print(dataset['FatContent'].value_counts())\n",
        "\n",
        "# print(\"\\n\")\n",
        "\n",
        "# # Handling EstablishmentYear Column\n",
        "# import datetime as dt\n",
        "# current_year = dt.datetime.today().year\n",
        "# dataset['OutletAge'] = current_year - dataset['EstablishmentYear']\n",
        "# dataset = dataset.drop('EstablishmentYear', axis=1)\n",
        "# print(\"> 'EstablishmentYear' column is Deleted, Instead 'OutletAge' column is created...\")\n",
        "# print(dataset['OutletAge'].value_counts())"
      ],
      "metadata": {
        "id": "mbEc6Rso9_L4"
      },
      "execution_count": null,
      "outputs": []
    },
    {
      "cell_type": "markdown",
      "metadata": {
        "id": "CriG6VzVSjcK"
      },
      "source": [
        "### Step-3.4: Checking any Categorical Data and Encoding them:-"
      ]
    },
    {
      "cell_type": "code",
      "source": [
        "# `sklearn.compose` is a module in scikit-learn (a popular Python machine learning library) used for combining different data transformations.\n",
        "# sklearn.preprocessing is a module within scikit-learn that provides tools for preparing your data for machine learning algorithms.\n",
        "# LabelEncoder is a specific class designed to convert categorical labels (like 'France', 'Spain', 'Germany') into numerical labels (like 0, 1, 2).\n",
        "from sklearn.compose import ColumnTransformer\n",
        "from sklearn.preprocessing import OneHotEncoder, LabelEncoder\n",
        "\n",
        "X = dataset.iloc[:, :-1]\n",
        "y = dataset.iloc[:, -1].values\n",
        "repeating_cols = []\n",
        "\n",
        "for col in categorical_cols:\n",
        "    # Matrix of Feature\n",
        "    if col != dataset.columns[-1]:\n",
        "      print(f\"> String Values present in Column '{col}'.\")\n",
        "      # Check for repeating values within the categorical column\n",
        "      value_counts = dataset[col].value_counts()\n",
        "      repeating_values = value_counts[value_counts > 1].index.tolist()\n",
        "      if repeating_values:\n",
        "        repeating_cols.append(col)\n",
        "        print(f\"\\t- Also, Categorical values found in column '{col}': {repeating_values}.\")\n",
        "        print(f\"\\t-'{col}' is Encoded Successfully...\\n\")\n",
        "\n",
        "      else:\n",
        "        print(f\"\\t- But No Categorical values found in column '{col}'.\\n\")\n",
        "\n",
        "    # Dependent Variable/Output\n",
        "    elif col == dataset.columns[-1]:\n",
        "      print(f\"> String Values present in Column '{col}'(Output Column).\")\n",
        "      # Check for repeating values within the categorical column\n",
        "      value_counts = dataset[col].value_counts()\n",
        "      repeating_values = value_counts[value_counts > 1].index.tolist()\n",
        "      if repeating_values:\n",
        "        print(f\"\\t- Also, Categorical values found in column '{col}': {repeating_values}\")\n",
        "        le = LabelEncoder()\n",
        "        y = le.fit_transform(dataset[col])\n",
        "        print(f\"\\t-'{col}' is Encoded Successfully...\\n\")\n",
        "      else:\n",
        "        print(f\"\\t- But No Categorical values found in column '{col}'.\\n\")\n",
        "\n",
        "print(\"Repeating Columns in Matrix of Features(X): \", repeating_cols, \"\\n\")\n",
        "\n",
        "if repeating_cols:\n",
        "    encoder = ColumnTransformer(transformers=[('encoder', OneHotEncoder(), repeating_cols)], remainder='passthrough')\n",
        "    X = np.array(encoder.fit_transform(X))"
      ],
      "metadata": {
        "id": "GvyaPSzfl1hZ",
        "outputId": "2031a1a2-8288-470a-cb4f-38e465e1a7b4",
        "colab": {
          "base_uri": "https://localhost:8080/"
        }
      },
      "execution_count": null,
      "outputs": [
        {
          "output_type": "stream",
          "name": "stdout",
          "text": [
            "> String Values present in Column 'Country'.\n",
            "\t- Also, Categorical values found in column 'Country': ['France', 'Germany', 'Spain'].\n",
            "\t-'Country' is Encoded Successfully...\n",
            "\n",
            "> String Values present in Column 'Purchased'(Output Column).\n",
            "\t- Also, Categorical values found in column 'Purchased': ['Yes', 'No']\n",
            "\t-'Purchased' is Encoded Successfully...\n",
            "\n",
            "Repeating Columns:  ['Country'] \n",
            "\n"
          ]
        }
      ]
    },
    {
      "cell_type": "code",
      "source": [
        "print(\"> Encoded data of Matrix of Features/Independent variable (X): \\n\",X, \"\\n\")\n",
        "print(\"> Encoded data of Dependent Variable (y): \\n\",y)"
      ],
      "metadata": {
        "id": "yFKpKDfWMfMd",
        "outputId": "254227b9-ebf0-43f1-bebb-8412ec21f6d9",
        "colab": {
          "base_uri": "https://localhost:8080/"
        }
      },
      "execution_count": null,
      "outputs": [
        {
          "output_type": "stream",
          "name": "stdout",
          "text": [
            "> Encoded data of Matrix of Features/Independent variable (X): \n",
            " [[1.00000000e+00 0.00000000e+00 0.00000000e+00 4.40000000e+01\n",
            "  7.20000000e+04]\n",
            " [0.00000000e+00 0.00000000e+00 1.00000000e+00 2.70000000e+01\n",
            "  4.80000000e+04]\n",
            " [0.00000000e+00 1.00000000e+00 0.00000000e+00 3.00000000e+01\n",
            "  5.40000000e+04]\n",
            " [0.00000000e+00 0.00000000e+00 1.00000000e+00 3.73333333e+01\n",
            "  6.10000000e+04]\n",
            " [0.00000000e+00 1.00000000e+00 0.00000000e+00 4.00000000e+01\n",
            "  6.25000000e+04]\n",
            " [1.00000000e+00 0.00000000e+00 0.00000000e+00 3.50000000e+01\n",
            "  6.37000000e+04]\n",
            " [1.00000000e+00 0.00000000e+00 0.00000000e+00 3.60000000e+01\n",
            "  5.20000000e+04]\n",
            " [1.00000000e+00 0.00000000e+00 0.00000000e+00 3.73333333e+01\n",
            "  7.90000000e+04]\n",
            " [0.00000000e+00 1.00000000e+00 0.00000000e+00 5.00000000e+01\n",
            "  8.30000000e+04]\n",
            " [1.00000000e+00 0.00000000e+00 0.00000000e+00 3.70000000e+01\n",
            "  5.85000000e+04]\n",
            " [1.00000000e+00 0.00000000e+00 0.00000000e+00 3.70000000e+01\n",
            "  6.70000000e+04]] \n",
            "\n",
            "> Encoded data of Dependent Variable (y): \n",
            " [0 1 0 0 1 1 0 1 0 1 1]\n"
          ]
        }
      ]
    },
    {
      "cell_type": "markdown",
      "metadata": {
        "id": "2hPc35_aidRM"
      },
      "source": [
        "## Step-4: Split the Dataset into the Training set and Test set:-"
      ]
    },
    {
      "cell_type": "code",
      "source": [
        "from sklearn.model_selection import train_test_split\n",
        "X_train, X_test, y_train, y_test = train_test_split(X, y, test_size=0.2, random_state=42)\n",
        "\n",
        "print(\"Printing Training Sets:\")\n",
        "print(\"> X_train: \\n\", X_train)\n",
        "print(\"> X_test: \\n\", X_test)\n",
        "print(\"\\n\")\n",
        "print(\"Printing Test Sets:\")\n",
        "print(\"> y_train: \\n\", y_train)\n",
        "print(\"> y_test: \\n\", y_test)"
      ],
      "metadata": {
        "id": "Le2yQGM0idRM",
        "outputId": "a8fab521-9732-4bdc-e8cf-0d80b9b20099",
        "colab": {
          "base_uri": "https://localhost:8080/"
        }
      },
      "execution_count": null,
      "outputs": [
        {
          "output_type": "stream",
          "name": "stdout",
          "text": [
            "Printing Training Sets:\n",
            "> X_train: \n",
            " [[1.00000000e+00 0.00000000e+00 0.00000000e+00 3.70000000e+01\n",
            "  6.70000000e+04]\n",
            " [0.00000000e+00 1.00000000e+00 0.00000000e+00 3.00000000e+01\n",
            "  5.40000000e+04]\n",
            " [0.00000000e+00 0.00000000e+00 1.00000000e+00 2.70000000e+01\n",
            "  4.80000000e+04]\n",
            " [0.00000000e+00 1.00000000e+00 0.00000000e+00 5.00000000e+01\n",
            "  8.30000000e+04]\n",
            " [0.00000000e+00 1.00000000e+00 0.00000000e+00 4.00000000e+01\n",
            "  6.25000000e+04]\n",
            " [1.00000000e+00 0.00000000e+00 0.00000000e+00 3.73333333e+01\n",
            "  7.90000000e+04]\n",
            " [0.00000000e+00 0.00000000e+00 1.00000000e+00 3.73333333e+01\n",
            "  6.10000000e+04]\n",
            " [1.00000000e+00 0.00000000e+00 0.00000000e+00 3.60000000e+01\n",
            "  5.20000000e+04]]\n",
            "> X_test: \n",
            " [[1.00e+00 0.00e+00 0.00e+00 3.50e+01 6.37e+04]\n",
            " [1.00e+00 0.00e+00 0.00e+00 4.40e+01 7.20e+04]\n",
            " [1.00e+00 0.00e+00 0.00e+00 3.70e+01 5.85e+04]]\n",
            "\n",
            "\n",
            "Printing Test Sets:\n",
            "> y_train: \n",
            " [1 0 1 0 1 1 0 0]\n",
            "> y_test: \n",
            " [1 0 1]\n"
          ]
        }
      ]
    },
    {
      "cell_type": "markdown",
      "metadata": {
        "id": "tFr5kTsxidRM"
      },
      "source": [
        "## Step-5: Feature Scaling:-"
      ]
    },
    {
      "cell_type": "code",
      "source": [
        "# \"\"\" Here we are not applying Feature Scaling in Dependent Variable (y), because there are only 0 and 1 values in y \"\"\"\n",
        "# # StandardScaler class from scikit-learn, which is a tool for standardization and Normalization.\n",
        "# from sklearn.preprocessing import StandardScaler\n",
        "\n",
        "# sc = StandardScaler()\n",
        "# X_train[:, 3: ] = sc.fit_transform(X_train[:, 3:])\n",
        "# X_test[:, 3: ] = sc.transform(X_test[:, 3:])\n",
        "\n",
        "# print(\"Printing Training Sets after Feature Scaling:\")\n",
        "# print(\"> X_train: \\n\", X_train)\n",
        "# print(\"\\n\")\n",
        "# print(\"Printing Test Sets after Feature Scaling:\")\n",
        "# print(\"> X_test: \\n\", X_test)"
      ],
      "metadata": {
        "id": "qRNPDQALidRN"
      },
      "execution_count": null,
      "outputs": []
    },
    {
      "cell_type": "markdown",
      "source": [
        "# ***Step-B: Model Builing (Regression):-***"
      ],
      "metadata": {
        "id": "hvV8DZ4YRkcQ"
      }
    },
    {
      "cell_type": "markdown",
      "source": [
        "## Step-1: Model Building"
      ],
      "metadata": {
        "id": "n2DKjJRORv2p"
      }
    },
    {
      "cell_type": "code",
      "source": [
        "# from sklearn.ensemble import RandomForestRegressor\n",
        "# model = RandomForestRegressor(random_state=42)\n",
        "# model.fit(X_train, y_train)"
      ],
      "metadata": {
        "id": "3TqiJbbpBKBb"
      },
      "execution_count": null,
      "outputs": []
    },
    {
      "cell_type": "markdown",
      "source": [
        "## Step-2: Predicting a new result"
      ],
      "metadata": {
        "id": "5ARQkiktOtsc"
      }
    },
    {
      "cell_type": "code",
      "source": [
        "# y_pred = model.predict(X_test)"
      ],
      "metadata": {
        "id": "_blJIeZXPBoF"
      },
      "execution_count": null,
      "outputs": []
    },
    {
      "cell_type": "code",
      "source": [
        "# from sklearn.metrics import r2_score\n",
        "# r2_score(y_test, y_pred)"
      ],
      "metadata": {
        "id": "9mPnH1l3PI3Y"
      },
      "execution_count": null,
      "outputs": []
    }
  ]
}