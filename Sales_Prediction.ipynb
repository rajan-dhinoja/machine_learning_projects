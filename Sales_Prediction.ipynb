{
  "nbformat": 4,
  "nbformat_minor": 0,
  "metadata": {
    "colab": {
      "provenance": [],
      "authorship_tag": "ABX9TyOOPZ75gSUSnOo1Lxtjx9cZ",
      "include_colab_link": true
    },
    "kernelspec": {
      "name": "python3",
      "display_name": "Python 3"
    },
    "language_info": {
      "name": "python"
    }
  },
  "cells": [
    {
      "cell_type": "markdown",
      "metadata": {
        "id": "view-in-github",
        "colab_type": "text"
      },
      "source": [
        "<a href=\"https://colab.research.google.com/github/rajan-dhinoja/machine_learning_projects/blob/main/Sales_Prediction.ipynb\" target=\"_parent\"><img src=\"https://colab.research.google.com/assets/colab-badge.svg\" alt=\"Open In Colab\"/></a>"
      ]
    },
    {
      "cell_type": "markdown",
      "metadata": {
        "id": "37puETfgRzzg"
      },
      "source": [
        "# ***Step-A: Data Preprocessing:-***"
      ]
    },
    {
      "cell_type": "markdown",
      "metadata": {
        "id": "sWH8JjBLLeO9"
      },
      "source": [
        "## Step-1: Import Required Dependencies:-\n",
        "Import essential libraries and modules for data manipulation, visualization, and preprocessing:"
      ]
    },
    {
      "cell_type": "code",
      "source": [
        "import numpy as np\n",
        "import matplotlib.pyplot as plt\n",
        "import pandas as pd\n",
        "import seaborn as sns\n",
        "import warnings\n",
        "warnings.filterwarnings('ignore')"
      ],
      "metadata": {
        "id": "7wtRGhQ0LeO9"
      },
      "execution_count": 1,
      "outputs": []
    },
    {
      "cell_type": "markdown",
      "metadata": {
        "id": "rX0sEWtZLeO9"
      },
      "source": [
        "## Step-2: Load and Display different function of Dataset:-"
      ]
    },
    {
      "cell_type": "code",
      "source": [
        "dataset = pd.DataFrame(pd.read_csv('train_set.csv'))\n",
        "dataset.head()\n",
        "# dataset"
      ],
      "metadata": {
        "colab": {
          "base_uri": "https://localhost:8080/",
          "height": 293
        },
        "outputId": "5ea18600-83c3-49e3-a91c-0db4399a245e",
        "id": "S--Eghw4LeO9"
      },
      "execution_count": 3,
      "outputs": [
        {
          "output_type": "execute_result",
          "data": {
            "text/plain": [
              "  ProductID  Weight FatContent  ProductVisibility            ProductType  \\\n",
              "0     FDA15    9.30    Low Fat           0.016047                  Dairy   \n",
              "1     DRC01    5.92    Regular           0.019278            Soft Drinks   \n",
              "2     FDN15   17.50    Low Fat           0.016760                   Meat   \n",
              "3     FDX07   19.20    Regular           0.000000  Fruits and Vegetables   \n",
              "4     NCD19    8.93    Low Fat           0.000000              Household   \n",
              "\n",
              "        MRP OutletID  EstablishmentYear OutletSize LocationType  \\\n",
              "0  249.8092   OUT049               1999     Medium       Tier 1   \n",
              "1   48.2692   OUT018               2009     Medium       Tier 3   \n",
              "2  141.6180   OUT049               1999     Medium       Tier 1   \n",
              "3  182.0950   OUT010               1998        NaN       Tier 3   \n",
              "4   53.8614   OUT013               1987       High       Tier 3   \n",
              "\n",
              "          OutletType  OutletSales  \n",
              "0  Supermarket Type1    3735.1380  \n",
              "1  Supermarket Type2     443.4228  \n",
              "2  Supermarket Type1    2097.2700  \n",
              "3      Grocery Store     732.3800  \n",
              "4  Supermarket Type1     994.7052  "
            ],
            "text/html": [
              "\n",
              "  <div id=\"df-0a1b2d0b-57b3-419f-9bad-41afedf7fd31\" class=\"colab-df-container\">\n",
              "    <div>\n",
              "<style scoped>\n",
              "    .dataframe tbody tr th:only-of-type {\n",
              "        vertical-align: middle;\n",
              "    }\n",
              "\n",
              "    .dataframe tbody tr th {\n",
              "        vertical-align: top;\n",
              "    }\n",
              "\n",
              "    .dataframe thead th {\n",
              "        text-align: right;\n",
              "    }\n",
              "</style>\n",
              "<table border=\"1\" class=\"dataframe\">\n",
              "  <thead>\n",
              "    <tr style=\"text-align: right;\">\n",
              "      <th></th>\n",
              "      <th>ProductID</th>\n",
              "      <th>Weight</th>\n",
              "      <th>FatContent</th>\n",
              "      <th>ProductVisibility</th>\n",
              "      <th>ProductType</th>\n",
              "      <th>MRP</th>\n",
              "      <th>OutletID</th>\n",
              "      <th>EstablishmentYear</th>\n",
              "      <th>OutletSize</th>\n",
              "      <th>LocationType</th>\n",
              "      <th>OutletType</th>\n",
              "      <th>OutletSales</th>\n",
              "    </tr>\n",
              "  </thead>\n",
              "  <tbody>\n",
              "    <tr>\n",
              "      <th>0</th>\n",
              "      <td>FDA15</td>\n",
              "      <td>9.30</td>\n",
              "      <td>Low Fat</td>\n",
              "      <td>0.016047</td>\n",
              "      <td>Dairy</td>\n",
              "      <td>249.8092</td>\n",
              "      <td>OUT049</td>\n",
              "      <td>1999</td>\n",
              "      <td>Medium</td>\n",
              "      <td>Tier 1</td>\n",
              "      <td>Supermarket Type1</td>\n",
              "      <td>3735.1380</td>\n",
              "    </tr>\n",
              "    <tr>\n",
              "      <th>1</th>\n",
              "      <td>DRC01</td>\n",
              "      <td>5.92</td>\n",
              "      <td>Regular</td>\n",
              "      <td>0.019278</td>\n",
              "      <td>Soft Drinks</td>\n",
              "      <td>48.2692</td>\n",
              "      <td>OUT018</td>\n",
              "      <td>2009</td>\n",
              "      <td>Medium</td>\n",
              "      <td>Tier 3</td>\n",
              "      <td>Supermarket Type2</td>\n",
              "      <td>443.4228</td>\n",
              "    </tr>\n",
              "    <tr>\n",
              "      <th>2</th>\n",
              "      <td>FDN15</td>\n",
              "      <td>17.50</td>\n",
              "      <td>Low Fat</td>\n",
              "      <td>0.016760</td>\n",
              "      <td>Meat</td>\n",
              "      <td>141.6180</td>\n",
              "      <td>OUT049</td>\n",
              "      <td>1999</td>\n",
              "      <td>Medium</td>\n",
              "      <td>Tier 1</td>\n",
              "      <td>Supermarket Type1</td>\n",
              "      <td>2097.2700</td>\n",
              "    </tr>\n",
              "    <tr>\n",
              "      <th>3</th>\n",
              "      <td>FDX07</td>\n",
              "      <td>19.20</td>\n",
              "      <td>Regular</td>\n",
              "      <td>0.000000</td>\n",
              "      <td>Fruits and Vegetables</td>\n",
              "      <td>182.0950</td>\n",
              "      <td>OUT010</td>\n",
              "      <td>1998</td>\n",
              "      <td>NaN</td>\n",
              "      <td>Tier 3</td>\n",
              "      <td>Grocery Store</td>\n",
              "      <td>732.3800</td>\n",
              "    </tr>\n",
              "    <tr>\n",
              "      <th>4</th>\n",
              "      <td>NCD19</td>\n",
              "      <td>8.93</td>\n",
              "      <td>Low Fat</td>\n",
              "      <td>0.000000</td>\n",
              "      <td>Household</td>\n",
              "      <td>53.8614</td>\n",
              "      <td>OUT013</td>\n",
              "      <td>1987</td>\n",
              "      <td>High</td>\n",
              "      <td>Tier 3</td>\n",
              "      <td>Supermarket Type1</td>\n",
              "      <td>994.7052</td>\n",
              "    </tr>\n",
              "  </tbody>\n",
              "</table>\n",
              "</div>\n",
              "    <div class=\"colab-df-buttons\">\n",
              "\n",
              "  <div class=\"colab-df-container\">\n",
              "    <button class=\"colab-df-convert\" onclick=\"convertToInteractive('df-0a1b2d0b-57b3-419f-9bad-41afedf7fd31')\"\n",
              "            title=\"Convert this dataframe to an interactive table.\"\n",
              "            style=\"display:none;\">\n",
              "\n",
              "  <svg xmlns=\"http://www.w3.org/2000/svg\" height=\"24px\" viewBox=\"0 -960 960 960\">\n",
              "    <path d=\"M120-120v-720h720v720H120Zm60-500h600v-160H180v160Zm220 220h160v-160H400v160Zm0 220h160v-160H400v160ZM180-400h160v-160H180v160Zm440 0h160v-160H620v160ZM180-180h160v-160H180v160Zm440 0h160v-160H620v160Z\"/>\n",
              "  </svg>\n",
              "    </button>\n",
              "\n",
              "  <style>\n",
              "    .colab-df-container {\n",
              "      display:flex;\n",
              "      gap: 12px;\n",
              "    }\n",
              "\n",
              "    .colab-df-convert {\n",
              "      background-color: #E8F0FE;\n",
              "      border: none;\n",
              "      border-radius: 50%;\n",
              "      cursor: pointer;\n",
              "      display: none;\n",
              "      fill: #1967D2;\n",
              "      height: 32px;\n",
              "      padding: 0 0 0 0;\n",
              "      width: 32px;\n",
              "    }\n",
              "\n",
              "    .colab-df-convert:hover {\n",
              "      background-color: #E2EBFA;\n",
              "      box-shadow: 0px 1px 2px rgba(60, 64, 67, 0.3), 0px 1px 3px 1px rgba(60, 64, 67, 0.15);\n",
              "      fill: #174EA6;\n",
              "    }\n",
              "\n",
              "    .colab-df-buttons div {\n",
              "      margin-bottom: 4px;\n",
              "    }\n",
              "\n",
              "    [theme=dark] .colab-df-convert {\n",
              "      background-color: #3B4455;\n",
              "      fill: #D2E3FC;\n",
              "    }\n",
              "\n",
              "    [theme=dark] .colab-df-convert:hover {\n",
              "      background-color: #434B5C;\n",
              "      box-shadow: 0px 1px 3px 1px rgba(0, 0, 0, 0.15);\n",
              "      filter: drop-shadow(0px 1px 2px rgba(0, 0, 0, 0.3));\n",
              "      fill: #FFFFFF;\n",
              "    }\n",
              "  </style>\n",
              "\n",
              "    <script>\n",
              "      const buttonEl =\n",
              "        document.querySelector('#df-0a1b2d0b-57b3-419f-9bad-41afedf7fd31 button.colab-df-convert');\n",
              "      buttonEl.style.display =\n",
              "        google.colab.kernel.accessAllowed ? 'block' : 'none';\n",
              "\n",
              "      async function convertToInteractive(key) {\n",
              "        const element = document.querySelector('#df-0a1b2d0b-57b3-419f-9bad-41afedf7fd31');\n",
              "        const dataTable =\n",
              "          await google.colab.kernel.invokeFunction('convertToInteractive',\n",
              "                                                    [key], {});\n",
              "        if (!dataTable) return;\n",
              "\n",
              "        const docLinkHtml = 'Like what you see? Visit the ' +\n",
              "          '<a target=\"_blank\" href=https://colab.research.google.com/notebooks/data_table.ipynb>data table notebook</a>'\n",
              "          + ' to learn more about interactive tables.';\n",
              "        element.innerHTML = '';\n",
              "        dataTable['output_type'] = 'display_data';\n",
              "        await google.colab.output.renderOutput(dataTable, element);\n",
              "        const docLink = document.createElement('div');\n",
              "        docLink.innerHTML = docLinkHtml;\n",
              "        element.appendChild(docLink);\n",
              "      }\n",
              "    </script>\n",
              "  </div>\n",
              "\n",
              "\n",
              "<div id=\"df-c14d27e3-ba85-4876-9700-f4cebe42baf2\">\n",
              "  <button class=\"colab-df-quickchart\" onclick=\"quickchart('df-c14d27e3-ba85-4876-9700-f4cebe42baf2')\"\n",
              "            title=\"Suggest charts\"\n",
              "            style=\"display:none;\">\n",
              "\n",
              "<svg xmlns=\"http://www.w3.org/2000/svg\" height=\"24px\"viewBox=\"0 0 24 24\"\n",
              "     width=\"24px\">\n",
              "    <g>\n",
              "        <path d=\"M19 3H5c-1.1 0-2 .9-2 2v14c0 1.1.9 2 2 2h14c1.1 0 2-.9 2-2V5c0-1.1-.9-2-2-2zM9 17H7v-7h2v7zm4 0h-2V7h2v10zm4 0h-2v-4h2v4z\"/>\n",
              "    </g>\n",
              "</svg>\n",
              "  </button>\n",
              "\n",
              "<style>\n",
              "  .colab-df-quickchart {\n",
              "      --bg-color: #E8F0FE;\n",
              "      --fill-color: #1967D2;\n",
              "      --hover-bg-color: #E2EBFA;\n",
              "      --hover-fill-color: #174EA6;\n",
              "      --disabled-fill-color: #AAA;\n",
              "      --disabled-bg-color: #DDD;\n",
              "  }\n",
              "\n",
              "  [theme=dark] .colab-df-quickchart {\n",
              "      --bg-color: #3B4455;\n",
              "      --fill-color: #D2E3FC;\n",
              "      --hover-bg-color: #434B5C;\n",
              "      --hover-fill-color: #FFFFFF;\n",
              "      --disabled-bg-color: #3B4455;\n",
              "      --disabled-fill-color: #666;\n",
              "  }\n",
              "\n",
              "  .colab-df-quickchart {\n",
              "    background-color: var(--bg-color);\n",
              "    border: none;\n",
              "    border-radius: 50%;\n",
              "    cursor: pointer;\n",
              "    display: none;\n",
              "    fill: var(--fill-color);\n",
              "    height: 32px;\n",
              "    padding: 0;\n",
              "    width: 32px;\n",
              "  }\n",
              "\n",
              "  .colab-df-quickchart:hover {\n",
              "    background-color: var(--hover-bg-color);\n",
              "    box-shadow: 0 1px 2px rgba(60, 64, 67, 0.3), 0 1px 3px 1px rgba(60, 64, 67, 0.15);\n",
              "    fill: var(--button-hover-fill-color);\n",
              "  }\n",
              "\n",
              "  .colab-df-quickchart-complete:disabled,\n",
              "  .colab-df-quickchart-complete:disabled:hover {\n",
              "    background-color: var(--disabled-bg-color);\n",
              "    fill: var(--disabled-fill-color);\n",
              "    box-shadow: none;\n",
              "  }\n",
              "\n",
              "  .colab-df-spinner {\n",
              "    border: 2px solid var(--fill-color);\n",
              "    border-color: transparent;\n",
              "    border-bottom-color: var(--fill-color);\n",
              "    animation:\n",
              "      spin 1s steps(1) infinite;\n",
              "  }\n",
              "\n",
              "  @keyframes spin {\n",
              "    0% {\n",
              "      border-color: transparent;\n",
              "      border-bottom-color: var(--fill-color);\n",
              "      border-left-color: var(--fill-color);\n",
              "    }\n",
              "    20% {\n",
              "      border-color: transparent;\n",
              "      border-left-color: var(--fill-color);\n",
              "      border-top-color: var(--fill-color);\n",
              "    }\n",
              "    30% {\n",
              "      border-color: transparent;\n",
              "      border-left-color: var(--fill-color);\n",
              "      border-top-color: var(--fill-color);\n",
              "      border-right-color: var(--fill-color);\n",
              "    }\n",
              "    40% {\n",
              "      border-color: transparent;\n",
              "      border-right-color: var(--fill-color);\n",
              "      border-top-color: var(--fill-color);\n",
              "    }\n",
              "    60% {\n",
              "      border-color: transparent;\n",
              "      border-right-color: var(--fill-color);\n",
              "    }\n",
              "    80% {\n",
              "      border-color: transparent;\n",
              "      border-right-color: var(--fill-color);\n",
              "      border-bottom-color: var(--fill-color);\n",
              "    }\n",
              "    90% {\n",
              "      border-color: transparent;\n",
              "      border-bottom-color: var(--fill-color);\n",
              "    }\n",
              "  }\n",
              "</style>\n",
              "\n",
              "  <script>\n",
              "    async function quickchart(key) {\n",
              "      const quickchartButtonEl =\n",
              "        document.querySelector('#' + key + ' button');\n",
              "      quickchartButtonEl.disabled = true;  // To prevent multiple clicks.\n",
              "      quickchartButtonEl.classList.add('colab-df-spinner');\n",
              "      try {\n",
              "        const charts = await google.colab.kernel.invokeFunction(\n",
              "            'suggestCharts', [key], {});\n",
              "      } catch (error) {\n",
              "        console.error('Error during call to suggestCharts:', error);\n",
              "      }\n",
              "      quickchartButtonEl.classList.remove('colab-df-spinner');\n",
              "      quickchartButtonEl.classList.add('colab-df-quickchart-complete');\n",
              "    }\n",
              "    (() => {\n",
              "      let quickchartButtonEl =\n",
              "        document.querySelector('#df-c14d27e3-ba85-4876-9700-f4cebe42baf2 button');\n",
              "      quickchartButtonEl.style.display =\n",
              "        google.colab.kernel.accessAllowed ? 'block' : 'none';\n",
              "    })();\n",
              "  </script>\n",
              "</div>\n",
              "\n",
              "    </div>\n",
              "  </div>\n"
            ],
            "application/vnd.google.colaboratory.intrinsic+json": {
              "type": "dataframe",
              "summary": "{\n  \"name\": \"# dataset\",\n  \"rows\": 5,\n  \"fields\": [\n    {\n      \"column\": \"ProductID\",\n      \"properties\": {\n        \"dtype\": \"string\",\n        \"num_unique_values\": 5,\n        \"samples\": [\n          \"DRC01\",\n          \"NCD19\",\n          \"FDN15\"\n        ],\n        \"semantic_type\": \"\",\n        \"description\": \"\"\n      }\n    },\n    {\n      \"column\": \"Weight\",\n      \"properties\": {\n        \"dtype\": \"number\",\n        \"std\": 5.822945989789017,\n        \"min\": 5.92,\n        \"max\": 19.2,\n        \"num_unique_values\": 5,\n        \"samples\": [\n          5.92,\n          8.93,\n          17.5\n        ],\n        \"semantic_type\": \"\",\n        \"description\": \"\"\n      }\n    },\n    {\n      \"column\": \"FatContent\",\n      \"properties\": {\n        \"dtype\": \"category\",\n        \"num_unique_values\": 2,\n        \"samples\": [\n          \"Regular\",\n          \"Low Fat\"\n        ],\n        \"semantic_type\": \"\",\n        \"description\": \"\"\n      }\n    },\n    {\n      \"column\": \"ProductVisibility\",\n      \"properties\": {\n        \"dtype\": \"number\",\n        \"std\": 0.009584933707840514,\n        \"min\": 0.0,\n        \"max\": 0.019278216,\n        \"num_unique_values\": 4,\n        \"samples\": [\n          0.019278216,\n          0.0\n        ],\n        \"semantic_type\": \"\",\n        \"description\": \"\"\n      }\n    },\n    {\n      \"column\": \"ProductType\",\n      \"properties\": {\n        \"dtype\": \"string\",\n        \"num_unique_values\": 5,\n        \"samples\": [\n          \"Soft Drinks\",\n          \"Household\"\n        ],\n        \"semantic_type\": \"\",\n        \"description\": \"\"\n      }\n    },\n    {\n      \"column\": \"MRP\",\n      \"properties\": {\n        \"dtype\": \"number\",\n        \"std\": 85.94839760384134,\n        \"min\": 48.2692,\n        \"max\": 249.8092,\n        \"num_unique_values\": 5,\n        \"samples\": [\n          48.2692,\n          53.8614\n        ],\n        \"semantic_type\": \"\",\n        \"description\": \"\"\n      }\n    },\n    {\n      \"column\": \"OutletID\",\n      \"properties\": {\n        \"dtype\": \"string\",\n        \"num_unique_values\": 4,\n        \"samples\": [\n          \"OUT018\",\n          \"OUT013\"\n        ],\n        \"semantic_type\": \"\",\n        \"description\": \"\"\n      }\n    },\n    {\n      \"column\": \"EstablishmentYear\",\n      \"properties\": {\n        \"dtype\": \"number\",\n        \"std\": 7,\n        \"min\": 1987,\n        \"max\": 2009,\n        \"num_unique_values\": 4,\n        \"samples\": [\n          2009,\n          1987\n        ],\n        \"semantic_type\": \"\",\n        \"description\": \"\"\n      }\n    },\n    {\n      \"column\": \"OutletSize\",\n      \"properties\": {\n        \"dtype\": \"category\",\n        \"num_unique_values\": 2,\n        \"samples\": [\n          \"High\",\n          \"Medium\"\n        ],\n        \"semantic_type\": \"\",\n        \"description\": \"\"\n      }\n    },\n    {\n      \"column\": \"LocationType\",\n      \"properties\": {\n        \"dtype\": \"category\",\n        \"num_unique_values\": 2,\n        \"samples\": [\n          \"Tier 3\",\n          \"Tier 1\"\n        ],\n        \"semantic_type\": \"\",\n        \"description\": \"\"\n      }\n    },\n    {\n      \"column\": \"OutletType\",\n      \"properties\": {\n        \"dtype\": \"string\",\n        \"num_unique_values\": 3,\n        \"samples\": [\n          \"Supermarket Type1\",\n          \"Supermarket Type2\"\n        ],\n        \"semantic_type\": \"\",\n        \"description\": \"\"\n      }\n    },\n    {\n      \"column\": \"OutletSales\",\n      \"properties\": {\n        \"dtype\": \"number\",\n        \"std\": 1347.4890639815671,\n        \"min\": 443.4228,\n        \"max\": 3735.138,\n        \"num_unique_values\": 5,\n        \"samples\": [\n          443.4228,\n          994.7052\n        ],\n        \"semantic_type\": \"\",\n        \"description\": \"\"\n      }\n    }\n  ]\n}"
            }
          },
          "metadata": {},
          "execution_count": 3
        }
      ]
    },
    {
      "cell_type": "code",
      "source": [
        "print(\"> Shape of the Dataset: \\n\", dataset.shape)\n",
        "print(\"\\n\")\n",
        "print(\"> Information about Dataset: \\n\")\n",
        "print(dataset.info())\n",
        "print(\"\\n\")\n",
        "print(\"> Statistical summary of the Dataset: \\n\")\n",
        "print(dataset.describe().applymap(lambda x: round(x, 4)) )"
      ],
      "metadata": {
        "collapsed": true,
        "id": "lSbm_DLHsJnU",
        "outputId": "e7af9c7a-0077-4421-934d-0edc15c2f825",
        "colab": {
          "base_uri": "https://localhost:8080/"
        }
      },
      "execution_count": 4,
      "outputs": [
        {
          "output_type": "stream",
          "name": "stdout",
          "text": [
            "> Shape of the Dataset: \n",
            " (8523, 12)\n",
            "\n",
            "\n",
            "> Information about Dataset: \n",
            "\n",
            "<class 'pandas.core.frame.DataFrame'>\n",
            "RangeIndex: 8523 entries, 0 to 8522\n",
            "Data columns (total 12 columns):\n",
            " #   Column             Non-Null Count  Dtype  \n",
            "---  ------             --------------  -----  \n",
            " 0   ProductID          8523 non-null   object \n",
            " 1   Weight             7060 non-null   float64\n",
            " 2   FatContent         8523 non-null   object \n",
            " 3   ProductVisibility  8523 non-null   float64\n",
            " 4   ProductType        8523 non-null   object \n",
            " 5   MRP                8523 non-null   float64\n",
            " 6   OutletID           8523 non-null   object \n",
            " 7   EstablishmentYear  8523 non-null   int64  \n",
            " 8   OutletSize         6113 non-null   object \n",
            " 9   LocationType       8523 non-null   object \n",
            " 10  OutletType         8523 non-null   object \n",
            " 11  OutletSales        8523 non-null   float64\n",
            "dtypes: float64(4), int64(1), object(7)\n",
            "memory usage: 799.2+ KB\n",
            "None\n",
            "\n",
            "\n",
            "> Statistical summary of the Dataset: \n",
            "\n",
            "          Weight  ProductVisibility        MRP  EstablishmentYear  OutletSales\n",
            "count  7060.0000          8523.0000  8523.0000          8523.0000    8523.0000\n",
            "mean     12.8576             0.0661   140.9928          1997.8319    2181.2889\n",
            "std       4.6435             0.0516    62.2751             8.3718    1706.4996\n",
            "min       4.5550             0.0000    31.2900          1985.0000      33.2900\n",
            "25%       8.7737             0.0270    93.8265          1987.0000     834.2474\n",
            "50%      12.6000             0.0539   143.0128          1999.0000    1794.3310\n",
            "75%      16.8500             0.0946   185.6437          2004.0000    3101.2964\n",
            "max      21.3500             0.3284   266.8884          2009.0000   13086.9648\n"
          ]
        }
      ]
    },
    {
      "cell_type": "markdown",
      "source": [
        "## Step-3: Seperating the Dataset into matrix of features (X) and dependent variable/output (y):-"
      ],
      "metadata": {
        "id": "oGG10GS0LeO-"
      }
    },
    {
      "cell_type": "code",
      "source": [
        "X = dataset.iloc[:, :-1].values # Here :-1 means a range of displaying all the column except the column with index -1, which is not included.\n",
        "y = dataset.iloc[:, -1].values # Here -1 means only the last column.\n",
        "print(\"Matrix of Features: \\n\", X)\n",
        "print(\"\\n\")\n",
        "print(\"Dependent Variable/Output: \\n\", y)"
      ],
      "metadata": {
        "colab": {
          "base_uri": "https://localhost:8080/"
        },
        "outputId": "33409390-f1aa-4675-c960-6d2697c36e7f",
        "id": "plN2tmoBLeO-"
      },
      "execution_count": 5,
      "outputs": [
        {
          "output_type": "stream",
          "name": "stdout",
          "text": [
            "Matrix of Features: \n",
            " [['FDA15' 9.3 'Low Fat' ... 'Medium' 'Tier 1' 'Supermarket Type1']\n",
            " ['DRC01' 5.92 'Regular' ... 'Medium' 'Tier 3' 'Supermarket Type2']\n",
            " ['FDN15' 17.5 'Low Fat' ... 'Medium' 'Tier 1' 'Supermarket Type1']\n",
            " ...\n",
            " ['NCJ29' 10.6 'Low Fat' ... 'Small' 'Tier 2' 'Supermarket Type1']\n",
            " ['FDN46' 7.21 'Regular' ... 'Medium' 'Tier 3' 'Supermarket Type2']\n",
            " ['DRG01' 14.8 'Low Fat' ... 'Small' 'Tier 1' 'Supermarket Type1']]\n",
            "\n",
            "\n",
            "Dependent Variable/Output: \n",
            " [3735.138   443.4228 2097.27   ... 1193.1136 1845.5976  765.67  ]\n"
          ]
        }
      ]
    },
    {
      "cell_type": "markdown",
      "source": [
        "## Step-4:- Checking the Dataset:-"
      ],
      "metadata": {
        "id": "P3MbT4ZjKYg6"
      }
    },
    {
      "cell_type": "markdown",
      "source": [
        "### Step-4.1: Checking any Duplicate Data and Handling them:-"
      ],
      "metadata": {
        "id": "9MD3KbxQEnry"
      }
    },
    {
      "cell_type": "code",
      "source": [
        "if dataset.duplicated().any():\n",
        "  dataset.drop_duplicates(inplace=True)\n",
        "else:\n",
        "    print(\"No Duplicate Data(or Identical Rows) found...\")"
      ],
      "metadata": {
        "id": "RTK3_CbhDOst",
        "outputId": "983dbd3c-5186-4708-cdf9-916a2c15dae9",
        "colab": {
          "base_uri": "https://localhost:8080/"
        }
      },
      "execution_count": 6,
      "outputs": [
        {
          "output_type": "stream",
          "name": "stdout",
          "text": [
            "No Duplicate Data(or Identical Rows) found...\n"
          ]
        }
      ]
    },
    {
      "cell_type": "markdown",
      "source": [
        "### Step-4.2: Cheking any Missing Data and Handling them:-"
      ],
      "metadata": {
        "id": "7gNpCIGOLeO_"
      }
    },
    {
      "cell_type": "code",
      "source": [
        "# Here from the module named impute of the library scikit-learn, we are using the SimpleImputer Class to Handle the Missing Values.\n",
        "from sklearn.impute import SimpleImputer\n",
        "\n",
        "if dataset.isnull().values.any():\n",
        "  # Get categorical and numerical columns\n",
        "  categorical_cols = dataset.select_dtypes(include=['object']).columns\n",
        "  numerical_cols = dataset.select_dtypes(exclude=['object']).columns\n",
        "\n",
        "  # Replace \"Unknown\" with NaN in categorical columns\n",
        "  for col in categorical_cols:\n",
        "    dataset[col] = dataset[col].replace('Unknown', np.nan)\n",
        "\n",
        "  categorical_missing_counts = dataset[categorical_cols].isnull().sum() + dataset[categorical_cols].isin(['', 'N/A', 'Unknown', 'NaN']).sum()\n",
        "  numerical_missing_counts = dataset[numerical_cols].isnull().sum()\n",
        "\n",
        "  # Check if there are any missing values (categorical or numerical)\n",
        "  if categorical_missing_counts.any() or numerical_missing_counts.any():\n",
        "      # Print missing counts for categorical columns in the desired format\n",
        "\n",
        "      print(\"Missing Data Counts in Categorical Columns: \\n\", categorical_missing_counts)\n",
        "      print(\"\\n\")\n",
        "      print(\"Missing Data Counts in Numerical Columns: \\n\", numerical_missing_counts)\n",
        "\n",
        "      # Create imputers for categorical and numerical features\n",
        "      categorical_imputer = SimpleImputer(missing_values=np.nan, strategy='most_frequent')\n",
        "      numerical_imputer = SimpleImputer(missing_values=np.nan, strategy='mean')\n",
        "\n",
        "      # Apply imputers to the selected columns in X\n",
        "      if len(categorical_cols) > 0:\n",
        "        categorical_cols_for_impution = [col for col in categorical_cols if col != dataset.columns[-1]]\n",
        "        dataset[categorical_cols_for_impution] = categorical_imputer.fit_transform(dataset[categorical_cols_for_impution])\n",
        "\n",
        "      # Exclude the dependent variable column (last column) if it's numerical\n",
        "      numerical_cols_for_impution = [col for col in numerical_cols if col != dataset.columns[-1]]\n",
        "      if len(numerical_cols_for_impution) > 0:\n",
        "          dataset[numerical_cols_for_impution] = numerical_imputer.fit_transform(dataset[numerical_cols_for_impution])\n",
        "      # if len(numerical_cols) > 0:\n",
        "          # dataset[numerical_cols] = numerical_imputer.fit_transform(dataset[numerical_cols])\n",
        "\n",
        "      print(\"\\n\")\n",
        "      print(\"New Data with replaced missing values: \\n\", dataset)\n",
        "else:\n",
        "    print(\"No missing data found.\")\n"
      ],
      "metadata": {
        "colab": {
          "base_uri": "https://localhost:8080/"
        },
        "outputId": "a9d355db-5ca2-428b-903a-ebf2abedef86",
        "id": "z8Lp9N_clExS"
      },
      "execution_count": 7,
      "outputs": [
        {
          "output_type": "stream",
          "name": "stdout",
          "text": [
            "Missing Data Counts in Categorical Columns: \n",
            " ProductID          0\n",
            "FatContent         0\n",
            "ProductType        0\n",
            "OutletID           0\n",
            "OutletSize      2410\n",
            "LocationType       0\n",
            "OutletType         0\n",
            "dtype: int64\n",
            "\n",
            "\n",
            "Missing Data Counts in Numerical Columns: \n",
            " Weight               1463\n",
            "ProductVisibility       0\n",
            "MRP                     0\n",
            "EstablishmentYear       0\n",
            "OutletSales             0\n",
            "dtype: int64\n",
            "\n",
            "\n",
            "New Data with replaced missing values: \n",
            "      ProductID  Weight FatContent  ProductVisibility            ProductType  \\\n",
            "0        FDA15   9.300    Low Fat           0.016047                  Dairy   \n",
            "1        DRC01   5.920    Regular           0.019278            Soft Drinks   \n",
            "2        FDN15  17.500    Low Fat           0.016760                   Meat   \n",
            "3        FDX07  19.200    Regular           0.000000  Fruits and Vegetables   \n",
            "4        NCD19   8.930    Low Fat           0.000000              Household   \n",
            "...        ...     ...        ...                ...                    ...   \n",
            "8518     FDF22   6.865    Low Fat           0.056783            Snack Foods   \n",
            "8519     FDS36   8.380    Regular           0.046982           Baking Goods   \n",
            "8520     NCJ29  10.600    Low Fat           0.035186     Health and Hygiene   \n",
            "8521     FDN46   7.210    Regular           0.145221            Snack Foods   \n",
            "8522     DRG01  14.800    Low Fat           0.044878            Soft Drinks   \n",
            "\n",
            "           MRP OutletID  EstablishmentYear OutletSize LocationType  \\\n",
            "0     249.8092   OUT049             1999.0     Medium       Tier 1   \n",
            "1      48.2692   OUT018             2009.0     Medium       Tier 3   \n",
            "2     141.6180   OUT049             1999.0     Medium       Tier 1   \n",
            "3     182.0950   OUT010             1998.0     Medium       Tier 3   \n",
            "4      53.8614   OUT013             1987.0       High       Tier 3   \n",
            "...        ...      ...                ...        ...          ...   \n",
            "8518  214.5218   OUT013             1987.0       High       Tier 3   \n",
            "8519  108.1570   OUT045             2002.0     Medium       Tier 2   \n",
            "8520   85.1224   OUT035             2004.0      Small       Tier 2   \n",
            "8521  103.1332   OUT018             2009.0     Medium       Tier 3   \n",
            "8522   75.4670   OUT046             1997.0      Small       Tier 1   \n",
            "\n",
            "             OutletType  OutletSales  \n",
            "0     Supermarket Type1    3735.1380  \n",
            "1     Supermarket Type2     443.4228  \n",
            "2     Supermarket Type1    2097.2700  \n",
            "3         Grocery Store     732.3800  \n",
            "4     Supermarket Type1     994.7052  \n",
            "...                 ...          ...  \n",
            "8518  Supermarket Type1    2778.3834  \n",
            "8519  Supermarket Type1     549.2850  \n",
            "8520  Supermarket Type1    1193.1136  \n",
            "8521  Supermarket Type2    1845.5976  \n",
            "8522  Supermarket Type1     765.6700  \n",
            "\n",
            "[8523 rows x 12 columns]\n"
          ]
        }
      ]
    },
    {
      "cell_type": "code",
      "source": [
        "dataset.isnull().values.any()"
      ],
      "metadata": {
        "id": "hugniF7nMWyc",
        "outputId": "5c6febc1-b777-4735-d32f-f3146e01943c",
        "colab": {
          "base_uri": "https://localhost:8080/"
        }
      },
      "execution_count": 9,
      "outputs": [
        {
          "output_type": "execute_result",
          "data": {
            "text/plain": [
              "False"
            ]
          },
          "metadata": {},
          "execution_count": 9
        }
      ]
    },
    {
      "cell_type": "markdown",
      "metadata": {
        "id": "lIHz8nRSLePA"
      },
      "source": [
        "### Step-4.3: Checking any Categorical Data and Encoding them:-"
      ]
    },
    {
      "cell_type": "code",
      "source": [
        "categorical_columns_found = False  # Flag to track if any categorical columns are found\n",
        "\n",
        "for column in dataset.columns:\n",
        "    if dataset[column].dtype == 'object':\n",
        "        categorical_columns_found = True  # Set the flag to True\n",
        "        print(f\"String Values present in Column '{column}'.\")\n",
        "\n",
        "        # Check for repeating values within the categorical column\n",
        "        value_counts = dataset[column].value_counts()\n",
        "        repeating_values = value_counts[value_counts > 1].index.tolist()\n",
        "\n",
        "        if repeating_values:\n",
        "            print(f\"> Also, Categorical values found in column '{column}': {repeating_values}.\")\n",
        "        else:\n",
        "            print(f\"> But No Categorical values found in column '{column}'.\")\n",
        "\n",
        "if not categorical_columns_found:  # Check the flag after processing all columns\n",
        "    print(\"No categorical values found in the whole dataset.\")\n"
      ],
      "metadata": {
        "colab": {
          "base_uri": "https://localhost:8080/"
        },
        "outputId": "69178dfc-0281-4d12-b21f-0bc7f8974955",
        "id": "gQbkztZlLePA"
      },
      "execution_count": 10,
      "outputs": [
        {
          "output_type": "stream",
          "name": "stdout",
          "text": [
            "String Values present in Column 'ProductID'.\n",
            "> Also, Categorical values found in column 'ProductID': ['FDW13', 'FDG33', 'NCY18', 'FDD38', 'DRE49', 'FDV60', 'NCQ06', 'FDF52', 'FDX04', 'NCJ30', 'FDV38', 'NCF42', 'FDT07', 'FDW26', 'NCL31', 'FDU12', 'FDG09', 'FDQ40', 'FDX20', 'NCI54', 'FDX31', 'FDP25', 'FDW49', 'FDF56', 'FDO19', 'DRN47', 'NCB18', 'FDE11', 'NCX05', 'FDQ39', 'FDT55', 'FDO32', 'FDT40', 'FDZ20', 'FDH27', 'FDY49', 'FDS33', 'FDR04', 'FDR43', 'FDR59', 'FDJ55', 'FDT24', 'FDY55', 'FDV09', 'FDU23', 'FDY47', 'DRD25', 'FDK58', 'FDL58', 'FDX58', 'FDR44', 'FDP28', 'FDA39', 'FDH28', 'DRF27', 'FDX21', 'FDY56', 'FDF05', 'FDL20', 'FDY03', 'NCK05', 'FDS55', 'DRA59', 'FDG24', 'NCE54', 'FDZ21', 'FDA04', 'FDW24', 'FDT49', 'DRF23', 'FDD05', 'FDH10', 'FDX50', 'FDT32', 'FDK20', 'FDU13', 'FDN56', 'FDZ26', 'FDL34', 'DRF01', 'FDG38', 'NCE31', 'NCL53', 'NCB31', 'NCQ05', 'FDT21', 'NCV06', 'DRJ24', 'FDI41', 'FDO52', 'FDR23', 'FDG57', 'FDZ33', 'DRF03', 'FDA13', 'FDF22', 'DRP35', 'NCV41', 'FDF16', 'FDB17', 'NCK29', 'FDJ44', 'FDX45', 'NCY29', 'NCO54', 'FDR52', 'NCQ43', 'FDR48', 'FDA50', 'NCM07', 'FDW48', 'NCI29', 'FDP11', 'FDH33', 'FDF04', 'FDD29', 'FDR46', 'DRK12', 'FDA15', 'FDJ58', 'FDS52', 'FDC14', 'FDU19', 'NCC18', 'FDA44', 'FDL10', 'FDI22', 'NCK53', 'NCX29', 'FDO37', 'FDV20', 'DRI03', 'DRK35', 'NCP05', 'FDO10', 'FDV26', 'NCS53', 'FDR21', 'FDU34', 'FDU46', 'FDG34', 'FDW28', 'FDE16', 'FDP60', 'NCP18', 'FDB15', 'NCJ18', 'NCR05', 'FDV28', 'FDK21', 'NCX54', 'FDV57', 'FDA07', 'FDW09', 'DRM23', 'FDK08', 'NCZ30', 'FDZ15', 'FDK38', 'NCS54', 'FDU20', 'FDA02', 'FDH57', 'FDF57', 'FDU25', 'FDV04', 'DRD15', 'FDY15', 'FDB58', 'FDI26', 'FDI20', 'FDH26', 'NCW53', 'FDZ58', 'FDH50', 'FDS01', 'FDW34', 'FDX26', 'FDC29', 'FDQ10', 'DRI01', 'FDY33', 'DRE03', 'NCN53', 'NCK18', 'FDJ22', 'FDR37', 'FDX47', 'FDY13', 'FDN04', 'NCZ18', 'FDW38', 'FDU26', 'NCX18', 'FDL48', 'DRF25', 'FDR55', 'FDL40', 'FDH48', 'FDR02', 'FDW19', 'FDC46', 'FDD57', 'FDL52', 'FDH19', 'NCE19', 'FDB04', 'FDW07', 'FDC59', 'FDS59', 'NCL29', 'FDC50', 'DRA24', 'NCS30', 'FDT46', 'FDS27', 'FDJ57', 'FDJ45', 'FDY07', 'FDX32', 'FDR22', 'NCY41', 'FDQ08', 'FDS47', 'FDS19', 'FDP49', 'FDZ08', 'FDR27', 'DRI11', 'NCG43', 'NCI31', 'FDU02', 'FDM08', 'DRM59', 'NCH55', 'DRD37', 'NCV54', 'FDK26', 'FDY02', 'FDN15', 'FDO34', 'FDY35', 'FDN12', 'FDS28', 'FDP03', 'NCP50', 'NCQ38', 'FDH21', 'FDP10', 'FDV01', 'NCQ53', 'FDH17', 'NCZ06', 'NCU17', 'DRM37', 'FDW12', 'NCB30', 'FDF21', 'FDO22', 'NCP06', 'FDI57', 'FDI45', 'FDS32', 'FDU38', 'FDE17', 'FDW50', 'FDI14', 'FDU21', 'FDS16', 'FDB34', 'NCD54', 'FDC41', 'FDD39', 'FDL13', 'NCM06', 'FDJ21', 'FDM36', 'FDO57', 'FDE51', 'FDP24', 'FDL38', 'DRL37', 'FDV19', 'FDN21', 'NCE07', 'FDR58', 'FDZ52', 'FDC17', 'FDZ23', 'FDL46', 'FDG32', 'FDT34', 'FDH56', 'NCH30', 'FDO23', 'FDP39', 'FDD50', 'NCX42', 'NCM29', 'FDO24', 'FDG08', 'FDD10', 'FDM58', 'FDI07', 'FDY57', 'FDB56', 'FDP27', 'FDI32', 'FDS31', 'FDM15', 'FDN01', 'NCM43', 'DRD12', 'FDQ26', 'FDT03', 'FDQ56', 'FDK51', 'FDL22', 'DRI25', 'FDK40', 'FDJ48', 'DRD24', 'FDB36', 'FDJ09', 'FDB14', 'FDI04', 'DRL60', 'FDV39', 'FDW32', 'FDQ34', 'DRB48', 'FDX40', 'FDS40', 'NCZ54', 'DRJ11', 'FDQ36', 'FDC16', 'FDL36', 'FDG50', 'DRK49', 'FDS13', 'FDT25', 'FDN57', 'DRL35', 'DRE48', 'DRG37', 'FDV45', 'FDV16', 'FDS04', 'FDT43', 'FDH14', 'FDS57', 'NCM30', 'FDA32', 'FDD17', 'FDT12', 'FDR01', 'NCO17', 'NCL05', 'DRL01', 'NCO29', 'FDR09', 'FDI21', 'FDR15', 'FDX19', 'FDA01', 'NCN07', 'FDK03', 'FDR35', 'NCA06', 'FDM44', 'FDY31', 'DRQ35', 'NCG07', 'FDX36', 'NCR53', 'DRD13', 'NCO05', 'NCS06', 'DRG23', 'FDZ35', 'FDO60', 'NCL18', 'FDN60', 'DRC25', 'FDS45', 'FDU36', 'FDY59', 'FDE33', 'NCH07', 'NCK17', 'FDG44', 'FDD26', 'NCU18', 'FDD41', 'NCK07', 'NCN43', 'FDW47', 'FDH38', 'FDK02', 'NCU42', 'FDD11', 'FDZ56', 'FDH20', 'FDS37', 'FDT36', 'FDO25', 'FDY48', 'FDF26', 'FDI52', 'FDO39', 'NCF30', 'FDS35', 'FDW56', 'FDN02', 'FDV46', 'DRB25', 'FDJ04', 'FDZ44', 'NCO06', 'FDK34', 'FDO45', 'DRE27', 'FDT10', 'FDF08', 'DRJ39', 'FDV48', 'DRK11', 'FDE46', 'NCO42', 'FDD04', 'FDF34', 'FDH58', 'DRI23', 'FDH41', 'FDI34', 'NCA05', 'FDD56', 'FDX16', 'FDQ13', 'FDZ09', 'FDJ60', 'FDX03', 'FDZ12', 'FDK55', 'FDQ31', 'NCC07', 'DRD60', 'FDY50', 'FDB49', 'FDR19', 'FDD51', 'DRE12', 'FDU40', 'FDW46', 'FDZ25', 'FDA21', 'NCS29', 'DRO47', 'DRG15', 'FDZ39', 'FDL24', 'FDH60', 'FDQ21', 'NCN14', 'DRN35', 'NCL41', 'FDX11', 'FDP19', 'NCJ05', 'FDT50', 'FDC34', 'FDO12', 'FDQ15', 'FDU24', 'FDN23', 'FDK09', 'FDS44', 'NCR30', 'FDS36', 'FDT11', 'FDG31', 'NCG30', 'FDQ52', 'FDU33', 'FDE59', 'FDT26', 'FDZ48', 'NCZ17', 'FDI60', 'FDP44', 'FDU07', 'FDU51', 'FDS11', 'DRE15', 'FDD52', 'FDH05', 'NCI42', 'FDR32', 'NCN30', 'FDK33', 'FDX37', 'NCD18', 'FDZ45', 'DRK13', 'FDB23', 'FDO50', 'FDT58', 'FDN46', 'FDE29', 'FDY04', 'FDQ32', 'FDC45', 'FDL45', 'FDN38', 'FDL57', 'FDI56', 'NCU54', 'FDV47', 'FDG56', 'FDZ04', 'FDL09', 'FDX43', 'FDB08', 'FDK52', 'NCO02', 'FDO20', 'FDD47', 'FDF12', 'FDW02', 'FDO46', 'FDZ49', 'FDM04', 'FDX56', 'NCX30', 'DRI47', 'DRF37', 'FDA20', 'FDB60', 'FDI15', 'FDI50', 'FDU39', 'FDZ59', 'DRN37', 'FDG26', 'NCO41', 'DRH36', 'FDG47', 'FDY52', 'FDA49', 'FDQ58', 'NCM05', 'FDG16', 'FDO40', 'DRF13', 'FDK25', 'FDC20', 'FDB32', 'FDL33', 'FDC44', 'FDC47', 'FDQ46', 'NCB43', 'FDV22', 'FDD21', 'FDH47', 'FDL39', 'FDN34', 'NCE30', 'FDE41', 'FDS24', 'FDB40', 'FDO09', 'DRC01', 'DRJ01', 'NCP29', 'FDI08', 'FDD09', 'FDX01', 'FDJ53', 'FDO58', 'NCC54', 'NCH18', 'FDT48', 'FDH44', 'FDD14', 'NCN19', 'NCI30', 'FDR33', 'NCA53', 'FDW45', 'NCP55', 'FDS56', 'DRL49', 'NCN05', 'FDY36', 'FDG46', 'FDJ10', 'FDV44', 'FDW59', 'FDM51', 'NCT30', 'FDK45', 'FDA28', 'FDY10', 'NCH43', 'FDS23', 'FDD46', 'FDG10', 'NCT42', 'FDU15', 'FDP33', 'FDL08', 'DRA12', 'DRM47', 'NCR38', 'FDZ16', 'FDN39', 'NCF31', 'FDU44', 'FDE34', 'FDL43', 'FDX34', 'FDH53', 'FDR12', 'FDQ09', 'FDW39', 'FDC53', 'FDV32', 'FDT08', 'FDJ34', 'FDS12', 'FDE24', 'FDR08', 'FDL56', 'NCQ50', 'FDH40', 'FDF09', 'FDS15', 'NCQ42', 'FDE10', 'FDX15', 'FDD44', 'FDG45', 'FDX33', 'FDH45', 'FDC35', 'FDX46', 'FDJ38', 'NCB42', 'FDK14', 'FDC08', 'FDQ48', 'FDY21', 'FDX60', 'FDD58', 'DRE60', 'FDG29', 'FDJ41', 'FDK24', 'FDD08', 'FDF41', 'FDF20', 'FDN58', 'FDQ45', 'DRK59', 'FDV49', 'DRH39', 'FDX23', 'FDD40', 'FDG59', 'FDV51', 'FDB29', 'NCK19', 'FDA46', 'FDC02', 'FDN09', 'FDB45', 'NCK54', 'NCR17', 'FDM25', 'FDK41', 'FDT09', 'FDT28', 'FDG12', 'DRJ59', 'FDM28', 'FDT31', 'NCO30', 'FDW44', 'NCR41', 'DRI37', 'FDG53', 'FDZ10', 'FDV37', 'FDR60', 'FDZ55', 'NCF07', 'DRZ11', 'FDA47', 'DRI51', 'FDM01', 'FDK43', 'DRC27', 'DRJ13', 'FDB35', 'DRY23', 'FDX57', 'FDX44', 'FDA10', 'NCI43', 'DRH25', 'NCI17', 'NCU05', 'FDC33', 'NCB19', 'FDS48', 'FDU32', 'FDO08', 'DRH37', 'FDB27', 'FDK15', 'FDS03', 'FDB51', 'FDY28', 'FDX07', 'FDE05', 'NCI18', 'FDN13', 'FDT57', 'NCO26', 'DRF49', 'FDI28', 'FDW51', 'NCD19', 'FDG21', 'NCH54', 'FDR26', 'FDW35', 'FDA23', 'FDP22', 'FDL04', 'FDE04', 'NCW29', 'FDV15', 'FDH35', 'FDW27', 'FDA08', 'FDH32', 'FDE36', 'FDR20', 'FDI16', 'FDA03', 'FDI19', 'FDY45', 'FDY40', 'FDF24', 'FDL51', 'NCP30', 'NCJ29', 'DRF36', 'NCX41', 'FDT59', 'FDB41', 'FDE32', 'FDW23', 'FDO15', 'FDT20', 'FDU11', 'FDX09', 'FDZ38', 'DRH03', 'NCJ42', 'NCF18', 'NCV53', 'FDG02', 'FDB53', 'FDB02', 'FDN24', 'FDP45', 'FDV59', 'DRJ49', 'FDX55', 'FDX24', 'FDP26', 'FDG35', 'FDK04', 'FDQ07', 'FDR34', 'FDO01', 'NCO43', 'FDQ03', 'FDB12', 'DRB13', 'FDN48', 'FDY34', 'FDP52', 'FDQ49', 'FDA25', 'FDW55', 'FDM13', 'FDN28', 'FDV52', 'FDV25', 'FDJ56', 'FDZ07', 'FDB52', 'NCJ17', 'FDT22', 'FDJ26', 'FDL32', 'FDO21', 'NCG18', 'NCA41', 'FDO31', 'FDP57', 'DRH51', 'FDF45', 'FDT27', 'FDU57', 'FDP23', 'FDR24', 'FDR25', 'FDU58', 'FDG20', 'DRG13', 'FDZ36', 'FDM27', 'NCA29', 'FDJ36', 'FDP59', 'NCT06', 'FDI33', 'FDY44', 'FDV02', 'FDE20', 'DRG27', 'NCT54', 'FDZ40', 'DRL47', 'NCY06', 'FDP07', 'NCX06', 'FDK16', 'NCN55', 'FDZ60', 'FDE40', 'FDX49', 'FDK27', 'NCM53', 'FDP31', 'FDI24', 'FDM10', 'FDH02', 'FDG52', 'FDP34', 'FDW21', 'NCD42', 'FDQ16', 'FDW11', 'NCA17', 'NCT17', 'FDQ12', 'FDY24', 'FDS49', 'FDU50', 'FDQ25', 'FDZ43', 'FDE26', 'FDD02', 'NCC30', 'FDP16', 'FDA11', 'FDB11', 'FDP56', 'FDS34', 'NCB06', 'FDA45', 'DRJ23', 'FDT56', 'FDB20', 'FDH34', 'FDF35', 'DRD27', 'FDT60', 'FDP37', 'FDS43', 'NCA30', 'FDF29', 'FDY25', 'FDX51', 'FDT16', 'FDK44', 'FDR47', 'NCF19', 'NCN42', 'NCM17', 'FDW57', 'DRD01', 'NCW54', 'FDY16', 'FDJ08', 'FDT39', 'FDE08', 'FDC28', 'FDB57', 'FDC04', 'FDV03', 'FDK36', 'FDU04', 'FDE09', 'FDF33', 'FDQ11', 'FDI40', 'NCQ54', 'FDR31', 'FDB21', 'FDL03', 'FDM50', 'FDF46', 'DRK47', 'NCI55', 'FDA33', 'FDN25', 'FDP09', 'FDL16', 'NCS18', 'FDX25', 'FDV50', 'FDG60', 'FDJ16', 'NCR18', 'DRJ51', 'FDD35', 'DRG48', 'FDN08', 'FDQ44', 'FDD03', 'NCF43', 'DRK01', 'FDS25', 'FDH09', 'FDY38', 'NCR54', 'FDE23', 'FDD53', 'NCH29', 'FDW25', 'FDS26', 'FDL21', 'NCY17', 'NCM26', 'DRG49', 'FDI46', 'FDJ15', 'NCD06', 'FDE22', 'FDB26', 'FDM45', 'NCI06', 'FDU37', 'DRG03', 'FDV10', 'FDQ47', 'NCW06', 'FDO16', 'NCY05', 'DRE25', 'NCJ31', 'FDC26', 'NCO18', 'FDP48', 'FDB03', 'NCC43', 'FDU22', 'FDR28', 'FDR36', 'FDB39', 'DRK37', 'FDX52', 'NCL55', 'FDK48', 'FDR14', 'FDX27', 'NCN26', 'FDO38', 'FDJ20', 'DRH13', 'NCJ54', 'NCM54', 'FDK10', 'FDV23', 'FDB22', 'NCN18', 'NCE06', 'NCY53', 'FDN16', 'NCH42', 'NCW42', 'DRC36', 'FDC21', 'FDR49', 'FDY12', 'NCO14', 'DRH23', 'NCL19', 'DRH01', 'DRG01', 'FDB38', 'NCQ30', 'NCS17', 'FDM02', 'FDT15', 'NCJ19', 'FDZ22', 'FDX59', 'NCQ41', 'NCW41', 'FDB09', 'DRG36', 'NCD31', 'NCV29', 'NCV05', 'NCP17', 'DRM49', 'FDX39', 'DRI39', 'FDE35', 'NCN29', 'FDZ28', 'FDO13', 'FDA09', 'FDQ51', 'FDE14', 'NCK06', 'FDO36', 'NCN41', 'FDQ23', 'FDE02', 'FDB59', 'FDH31', 'FDY26', 'DRE13', 'DRK39', 'FDX13', 'FDC10', 'FDV07', 'NCU30', 'NCE42', 'NCV30', 'FDM46', 'FDE45', 'FDF32', 'DRL11', 'FDQ24', 'FDU14', 'NCZ41', 'FDC09', 'FDC58', 'FDM56', 'FDZ01', 'DRG51', 'FDS58', 'FDY51', 'FDS46', 'FDY39', 'FDA52', 'FDU28', 'FDN49', 'NCN06', 'FDY27', 'FDX35', 'FDA34', 'FDS21', 'DRK23', 'FDO27', 'FDB16', 'FDF44', 'FDZ47', 'NCO55', 'NCH06', 'NCK30', 'FDZ27', 'DRE37', 'FDN32', 'FDC32', 'DRG11', 'FDL12', 'DRZ24', 'NCE18', 'FDA27', 'NCE43', 'FDL44', 'FDQ01', 'FDN03', 'FDM03', 'FDQ20', 'FDZ03', 'FDT23', 'FDO28', 'FDB50', 'FDH16', 'FDC51', 'FDK28', 'NCN54', 'FDE28', 'FDZ51', 'FDT04', 'FDT52', 'FDH24', 'FDB37', 'FDI38', 'NCA42', 'FDX38', 'FDM20', 'FDT13', 'FDA56', 'FDA43', 'FDT14', 'FDD34', 'NCZ53', 'FDQ59', 'FDV40', 'FDU27', 'FDZ57', 'FDB33', 'FDS02', 'FDT37', 'FDJ52', 'FDX08', 'FDN10', 'FDY37', 'FDP08', 'FDA19', 'NCZ42', 'FDM21', 'NCP42', 'FDM60', 'FDO56', 'FDT19', 'FDP38', 'NCT41', 'FDY20', 'FDA26', 'FDM39', 'FDE53', 'FDA40', 'FDC22', 'FDV34', 'FDC40', 'NCG42', 'FDZ31', 'FDE44', 'FDM24', 'FDP12', 'FDR10', 'FDB44', 'FDQ37', 'FDF11', 'FDW31', 'FDY11', 'FDP40', 'FDP04', 'FDQ14', 'NCP43', 'FDY60', 'DRN36', 'FDK22', 'FDC38', 'NCO53', 'FDK50', 'NCU53', 'NCC31', 'FDD28', 'FDC48', 'FDP46', 'NCN17', 'FDD33', 'NCP53', 'FDP21', 'NCQ17', 'FDB28', 'FDO03', 'FDP58', 'NCA18', 'FDY01', 'FDN40', 'FDU35', 'DRO59', 'NCD55', 'FDB46', 'FDY14', 'FDW33', 'NCL07', 'FDV36', 'FDR11', 'FDW16', 'FDF59', 'FDG58', 'FDT51', 'FDU31', 'FDI58', 'FDF39', 'NCS05', 'FDA35', 'DRB24', 'FDA55', 'FDN27', 'NCC19', 'NCZ29', 'NCQ18', 'FDW20', 'FDJ46', 'FDX48', 'DRH11', 'FDL50', 'FDX10', 'NCY42', 'FDJ12', 'FDX12', 'FDN33', 'FDV11', 'FDZ02', 'FDD45', 'FDS60', 'FDS07', 'FDH04', 'NCL17', 'FDS20', 'FDT02', 'FDN45', 'NCR50', 'DRI49', 'NCJ43', 'FDK56', 'NCG54', 'FDG04', 'FDE57', 'FDN22', 'FDV21', 'FDM34', 'NCJ06', 'FDG05', 'FDZ46', 'FDJ32', 'FDW52', 'FDS14', 'NCR29', 'FDI44', 'FDC05', 'NCS42', 'NCT29', 'DRM48', 'FDO48', 'NCP54', 'FDJ33', 'NCP02', 'DRO35', 'DRL23', 'FDF53', 'NCK42', 'NCA54', 'FDT01', 'FDD16', 'FDO04', 'FDW08', 'FDL02', 'FDS10', 'FDE58', 'FDL14', 'FDJ14', 'FDU55', 'FDV24', 'NCT18', 'FDE56', 'FDT45', 'FDA36', 'FDC03', 'DRH49', 'FDN31', 'FDU59', 'FDK60', 'FDV33', 'FDA16', 'NCY30', 'FDL27', 'FDM57', 'FDO49', 'FDV12', 'NCM41', 'FDS50', 'FDU01', 'FDF10', 'FDO44', 'DRI13', 'FDW03', 'NCL30', 'FDU08', 'FDW43', 'FDX02', 'FDH12', 'FDS09', 'DRH15', 'FDX22', 'NCG06', 'FDN44', 'FDG17', 'NCT05', 'NCC42', 'FDZ13', 'FDC39', 'FDR51', 'FDP13', 'DRN11', 'FDU45', 'FDC11', 'NCR06', 'DRN59', 'NCV17', 'NCB55', 'FDI27', 'FDC15', 'NCC06', 'FDM32', 'FDD59', 'DRC13', 'FDQ55', 'NCW17', 'FDC52', 'NCO07', 'NCD43', 'FDI02', 'DRF60', 'FDY08', 'NCS38', 'FDG41', 'FDC60', 'FDV35', 'FDY19', 'NCD07', 'FDF40', 'DRJ47', 'FDG22', 'FDU52', 'FDQ19', 'FDF14', 'FDM52', 'FDG40', 'NCU41', 'FDW40', 'FDJ07', 'DRJ25', 'FDQ27', 'FDQ33', 'FDI12', 'FDJ02', 'FDC57', 'FDQ28', 'FDU49', 'FDM22', 'FDW01', 'FDE47', 'FDR07', 'DRC12', 'FDA31', 'NCB54', 'NCM19', 'FDI09', 'FDQ57', 'FDM09', 'FDR45', 'FDP20', 'FDD36', 'DRD49', 'FDW36', 'FDF47', 'FDV08', 'DRP47', 'NCF54', 'FDL26', 'FDI48', 'DRM35', 'NCM31', 'FDJ27', 'FDZ32', 'FDU10', 'FDX14', 'FDP32', 'FDY22', 'FDR56', 'DRF15', 'FDJ03', 'NCW18', 'FDA38', 'FDM33', 'NCP41', 'FDB05', 'NCY54', 'FDH08', 'FDO11', 'FDJ28', 'FDV13', 'NCL06', 'NCM55', 'FDK32', 'FDV43', 'FDE50', 'FDH46', 'FDD20', 'FDZ14', 'FDL28', 'NCU06', 'FDW14', 'FDT47', 'FDN20', 'NCT53', 'DRC49', 'FDS39', 'NCU29', 'NCP14', 'FDY09', 'FDM14', 'FDI05', 'FDS22', 'FDN51', 'FDV56', 'NCX17', 'FDU16', 'NCF55', 'FDA14', 'NCQ02', 'DRM11', 'FDV58', 'FDL25', 'FDV55', 'FDP01', 'FDG14', 'FDQ22', 'FDD23', 'FDC37', 'DRJ35', 'FDJ40', 'FDS51', 'DRG39', 'FDK46', 'FDW22', 'FDU47', 'FDA51', 'FDP36', 'FDR16', 'FDV27', 'FDT38', 'FDW15', 'FDL15', 'NCL42', 'FDY58', 'DRF51', 'NCK31', 'FDC56', 'FDS08', 'FDY32', 'FDF02', 'FDP51', 'FDO51', 'FDI53', 'FDH52', 'FDA57', 'FDX28', 'FDJ50', 'FDQ04', 'NCM18', 'NCB07', 'FDW60', 'FDF28', 'FDU48', 'FDZ34', 'FDZ19', 'NCE55', 'FDU03', 'FDW04', 'NCQ29', 'FDZ37', 'NCF06', 'FDF58', 'FDA37', 'NCD30', 'DRJ37', 'FDF17', 'FDM40', 'FDU60', 'FDN50', 'NCR42', 'NCV42', 'NCZ05', 'FDR13', 'FDA58', 'DRB01', 'FDF50', 'FDU56', 'FDT44', 'DRH59', 'FDV14', 'FDI10', 'FDA22', 'FDW37', 'NCG55', 'FDR39', 'FDV31', 'FDD32', 'FDM12', 'NCL54', 'FDR40', 'FDY46', 'FDI35', 'FDE21', 'NCW30', 'FDD22', 'DRG25', 'FDB10', 'FDI36', 'FDP15', 'FDA48', 'FDG28', 'FDU43', 'FDE38', 'FDT33', 'FDM16', 'NCV18', 'FDR57', 'FDF38', 'FDW58', 'DRE01', 'NCG19', 'FDM38', 'NCX53', 'FDD48', 'FDH22', 'FDB47', 'FDW10', 'DRI59', 'FDR03', 'DRL59', 'FDZ50', 'DRC24', 'NCC55', 'FDE39', 'FDU09', 'NCS41', 'NCW05', 'NCM42'].\n",
            "String Values present in Column 'FatContent'.\n",
            "> Also, Categorical values found in column 'FatContent': ['Low Fat', 'Regular', 'LF', 'reg', 'low fat'].\n",
            "String Values present in Column 'ProductType'.\n",
            "> Also, Categorical values found in column 'ProductType': ['Fruits and Vegetables', 'Snack Foods', 'Household', 'Frozen Foods', 'Dairy', 'Canned', 'Baking Goods', 'Health and Hygiene', 'Soft Drinks', 'Meat', 'Breads', 'Hard Drinks', 'Others', 'Starchy Foods', 'Breakfast', 'Seafood'].\n",
            "String Values present in Column 'OutletID'.\n",
            "> Also, Categorical values found in column 'OutletID': ['OUT027', 'OUT013', 'OUT049', 'OUT046', 'OUT035', 'OUT045', 'OUT018', 'OUT017', 'OUT010', 'OUT019'].\n",
            "String Values present in Column 'OutletSize'.\n",
            "> Also, Categorical values found in column 'OutletSize': ['Medium', 'Small', 'High'].\n",
            "String Values present in Column 'LocationType'.\n",
            "> Also, Categorical values found in column 'LocationType': ['Tier 3', 'Tier 2', 'Tier 1'].\n",
            "String Values present in Column 'OutletType'.\n",
            "> Also, Categorical values found in column 'OutletType': ['Supermarket Type1', 'Grocery Store', 'Supermarket Type3', 'Supermarket Type2'].\n"
          ]
        }
      ]
    },
    {
      "cell_type": "markdown",
      "metadata": {
        "id": "O47GX8eGLePB"
      },
      "source": [
        "#### Step-4.3.1: Encoding Independent variables / Nominal Features(no inherit order) / Multiple Columns"
      ]
    },
    {
      "cell_type": "code",
      "source": [
        "# # `sklearn.compose` is a module in scikit-learn (a popular Python machine learning library) used for combining different data transformations.\n",
        "# # `sklearn.preprocessing` contains tools for preparing data for use in machine learning models, including the `OneHotEncoder`.\n",
        "# from sklearn.compose import ColumnTransformer\n",
        "# from sklearn.preprocessing import OneHotEncoder\n",
        "\n",
        "# ct = ColumnTransformer(transformers=[('encoder', OneHotEncoder(), [])], remainder='passthrough')\n",
        "# X = np.array(ct.fit_transform(X))\n",
        "\n",
        "# print(\"Encoded data of Matrix of Features/Independent variable (X): \\n\",X)"
      ],
      "metadata": {
        "outputId": "6b7ab33e-e067-4d16-9442-5fabeb0d9924",
        "colab": {
          "base_uri": "https://localhost:8080/",
          "height": 426
        },
        "collapsed": true,
        "id": "ZYeuDnHULePB"
      },
      "execution_count": 16,
      "outputs": [
        {
          "output_type": "error",
          "ename": "ValueError",
          "evalue": "For a sparse output, all columns should be a numeric or convertible to a numeric.",
          "traceback": [
            "\u001b[0;31m---------------------------------------------------------------------------\u001b[0m",
            "\u001b[0;31mValueError\u001b[0m                                Traceback (most recent call last)",
            "\u001b[0;32m/usr/local/lib/python3.10/dist-packages/sklearn/compose/_column_transformer.py\u001b[0m in \u001b[0;36m_hstack\u001b[0;34m(self, Xs, n_samples)\u001b[0m\n\u001b[1;32m   1133\u001b[0m                 \u001b[0;31m# dtype conversion if necessary.\u001b[0m\u001b[0;34m\u001b[0m\u001b[0;34m\u001b[0m\u001b[0m\n\u001b[0;32m-> 1134\u001b[0;31m                 converted_Xs = [\n\u001b[0m\u001b[1;32m   1135\u001b[0m                     \u001b[0mcheck_array\u001b[0m\u001b[0;34m(\u001b[0m\u001b[0mX\u001b[0m\u001b[0;34m,\u001b[0m \u001b[0maccept_sparse\u001b[0m\u001b[0;34m=\u001b[0m\u001b[0;32mTrue\u001b[0m\u001b[0;34m,\u001b[0m \u001b[0mensure_all_finite\u001b[0m\u001b[0;34m=\u001b[0m\u001b[0;32mFalse\u001b[0m\u001b[0;34m)\u001b[0m\u001b[0;34m\u001b[0m\u001b[0;34m\u001b[0m\u001b[0m\n",
            "\u001b[0;32m/usr/local/lib/python3.10/dist-packages/sklearn/compose/_column_transformer.py\u001b[0m in \u001b[0;36m<listcomp>\u001b[0;34m(.0)\u001b[0m\n\u001b[1;32m   1134\u001b[0m                 converted_Xs = [\n\u001b[0;32m-> 1135\u001b[0;31m                     \u001b[0mcheck_array\u001b[0m\u001b[0;34m(\u001b[0m\u001b[0mX\u001b[0m\u001b[0;34m,\u001b[0m \u001b[0maccept_sparse\u001b[0m\u001b[0;34m=\u001b[0m\u001b[0;32mTrue\u001b[0m\u001b[0;34m,\u001b[0m \u001b[0mensure_all_finite\u001b[0m\u001b[0;34m=\u001b[0m\u001b[0;32mFalse\u001b[0m\u001b[0;34m)\u001b[0m\u001b[0;34m\u001b[0m\u001b[0;34m\u001b[0m\u001b[0m\n\u001b[0m\u001b[1;32m   1136\u001b[0m                     \u001b[0;32mfor\u001b[0m \u001b[0mX\u001b[0m \u001b[0;32min\u001b[0m \u001b[0mXs\u001b[0m\u001b[0;34m\u001b[0m\u001b[0;34m\u001b[0m\u001b[0m\n",
            "\u001b[0;32m/usr/local/lib/python3.10/dist-packages/sklearn/utils/validation.py\u001b[0m in \u001b[0;36mcheck_array\u001b[0;34m(array, accept_sparse, accept_large_sparse, dtype, order, copy, force_writeable, force_all_finite, ensure_all_finite, ensure_non_negative, ensure_2d, allow_nd, ensure_min_samples, ensure_min_features, estimator, input_name)\u001b[0m\n\u001b[1;32m   1054\u001b[0m                 \u001b[0;32melse\u001b[0m\u001b[0;34m:\u001b[0m\u001b[0;34m\u001b[0m\u001b[0;34m\u001b[0m\u001b[0m\n\u001b[0;32m-> 1055\u001b[0;31m                     \u001b[0marray\u001b[0m \u001b[0;34m=\u001b[0m \u001b[0m_asarray_with_order\u001b[0m\u001b[0;34m(\u001b[0m\u001b[0marray\u001b[0m\u001b[0;34m,\u001b[0m \u001b[0morder\u001b[0m\u001b[0;34m=\u001b[0m\u001b[0morder\u001b[0m\u001b[0;34m,\u001b[0m \u001b[0mdtype\u001b[0m\u001b[0;34m=\u001b[0m\u001b[0mdtype\u001b[0m\u001b[0;34m,\u001b[0m \u001b[0mxp\u001b[0m\u001b[0;34m=\u001b[0m\u001b[0mxp\u001b[0m\u001b[0;34m)\u001b[0m\u001b[0;34m\u001b[0m\u001b[0;34m\u001b[0m\u001b[0m\n\u001b[0m\u001b[1;32m   1056\u001b[0m             \u001b[0;32mexcept\u001b[0m \u001b[0mComplexWarning\u001b[0m \u001b[0;32mas\u001b[0m \u001b[0mcomplex_warning\u001b[0m\u001b[0;34m:\u001b[0m\u001b[0;34m\u001b[0m\u001b[0;34m\u001b[0m\u001b[0m\n",
            "\u001b[0;32m/usr/local/lib/python3.10/dist-packages/sklearn/utils/_array_api.py\u001b[0m in \u001b[0;36m_asarray_with_order\u001b[0;34m(array, dtype, order, copy, xp, device)\u001b[0m\n\u001b[1;32m    831\u001b[0m         \u001b[0;32melse\u001b[0m\u001b[0;34m:\u001b[0m\u001b[0;34m\u001b[0m\u001b[0;34m\u001b[0m\u001b[0m\n\u001b[0;32m--> 832\u001b[0;31m             \u001b[0marray\u001b[0m \u001b[0;34m=\u001b[0m \u001b[0mnumpy\u001b[0m\u001b[0;34m.\u001b[0m\u001b[0masarray\u001b[0m\u001b[0;34m(\u001b[0m\u001b[0marray\u001b[0m\u001b[0;34m,\u001b[0m \u001b[0morder\u001b[0m\u001b[0;34m=\u001b[0m\u001b[0morder\u001b[0m\u001b[0;34m,\u001b[0m \u001b[0mdtype\u001b[0m\u001b[0;34m=\u001b[0m\u001b[0mdtype\u001b[0m\u001b[0;34m)\u001b[0m\u001b[0;34m\u001b[0m\u001b[0;34m\u001b[0m\u001b[0m\n\u001b[0m\u001b[1;32m    833\u001b[0m \u001b[0;34m\u001b[0m\u001b[0m\n",
            "\u001b[0;31mValueError\u001b[0m: could not convert string to float: 'FDA15'",
            "\nThe above exception was the direct cause of the following exception:\n",
            "\u001b[0;31mValueError\u001b[0m                                Traceback (most recent call last)",
            "\u001b[0;32m<ipython-input-16-ecbeab966085>\u001b[0m in \u001b[0;36m<cell line: 7>\u001b[0;34m()\u001b[0m\n\u001b[1;32m      5\u001b[0m \u001b[0;34m\u001b[0m\u001b[0m\n\u001b[1;32m      6\u001b[0m \u001b[0mct\u001b[0m \u001b[0;34m=\u001b[0m \u001b[0mColumnTransformer\u001b[0m\u001b[0;34m(\u001b[0m\u001b[0mtransformers\u001b[0m\u001b[0;34m=\u001b[0m\u001b[0;34m[\u001b[0m\u001b[0;34m(\u001b[0m\u001b[0;34m'encoder'\u001b[0m\u001b[0;34m,\u001b[0m \u001b[0mOneHotEncoder\u001b[0m\u001b[0;34m(\u001b[0m\u001b[0;34m)\u001b[0m\u001b[0;34m,\u001b[0m \u001b[0;34m[\u001b[0m\u001b[0;36m1\u001b[0m\u001b[0;34m]\u001b[0m\u001b[0;34m)\u001b[0m\u001b[0;34m]\u001b[0m\u001b[0;34m,\u001b[0m \u001b[0mremainder\u001b[0m\u001b[0;34m=\u001b[0m\u001b[0;34m'passthrough'\u001b[0m\u001b[0;34m)\u001b[0m\u001b[0;34m\u001b[0m\u001b[0;34m\u001b[0m\u001b[0m\n\u001b[0;32m----> 7\u001b[0;31m \u001b[0mX\u001b[0m \u001b[0;34m=\u001b[0m \u001b[0mnp\u001b[0m\u001b[0;34m.\u001b[0m\u001b[0marray\u001b[0m\u001b[0;34m(\u001b[0m\u001b[0mct\u001b[0m\u001b[0;34m.\u001b[0m\u001b[0mfit_transform\u001b[0m\u001b[0;34m(\u001b[0m\u001b[0mX\u001b[0m\u001b[0;34m)\u001b[0m\u001b[0;34m)\u001b[0m\u001b[0;34m\u001b[0m\u001b[0;34m\u001b[0m\u001b[0m\n\u001b[0m\u001b[1;32m      8\u001b[0m \u001b[0;34m\u001b[0m\u001b[0m\n\u001b[1;32m      9\u001b[0m \u001b[0mprint\u001b[0m\u001b[0;34m(\u001b[0m\u001b[0;34m\"Encoded data of Matrix of Features/Independent variable (X): \\n\"\u001b[0m\u001b[0;34m,\u001b[0m\u001b[0mX\u001b[0m\u001b[0;34m)\u001b[0m\u001b[0;34m\u001b[0m\u001b[0;34m\u001b[0m\u001b[0m\n",
            "\u001b[0;32m/usr/local/lib/python3.10/dist-packages/sklearn/utils/_set_output.py\u001b[0m in \u001b[0;36mwrapped\u001b[0;34m(self, X, *args, **kwargs)\u001b[0m\n\u001b[1;32m    317\u001b[0m     \u001b[0;34m@\u001b[0m\u001b[0mwraps\u001b[0m\u001b[0;34m(\u001b[0m\u001b[0mf\u001b[0m\u001b[0;34m)\u001b[0m\u001b[0;34m\u001b[0m\u001b[0;34m\u001b[0m\u001b[0m\n\u001b[1;32m    318\u001b[0m     \u001b[0;32mdef\u001b[0m \u001b[0mwrapped\u001b[0m\u001b[0;34m(\u001b[0m\u001b[0mself\u001b[0m\u001b[0;34m,\u001b[0m \u001b[0mX\u001b[0m\u001b[0;34m,\u001b[0m \u001b[0;34m*\u001b[0m\u001b[0margs\u001b[0m\u001b[0;34m,\u001b[0m \u001b[0;34m**\u001b[0m\u001b[0mkwargs\u001b[0m\u001b[0;34m)\u001b[0m\u001b[0;34m:\u001b[0m\u001b[0;34m\u001b[0m\u001b[0;34m\u001b[0m\u001b[0m\n\u001b[0;32m--> 319\u001b[0;31m         \u001b[0mdata_to_wrap\u001b[0m \u001b[0;34m=\u001b[0m \u001b[0mf\u001b[0m\u001b[0;34m(\u001b[0m\u001b[0mself\u001b[0m\u001b[0;34m,\u001b[0m \u001b[0mX\u001b[0m\u001b[0;34m,\u001b[0m \u001b[0;34m*\u001b[0m\u001b[0margs\u001b[0m\u001b[0;34m,\u001b[0m \u001b[0;34m**\u001b[0m\u001b[0mkwargs\u001b[0m\u001b[0;34m)\u001b[0m\u001b[0;34m\u001b[0m\u001b[0;34m\u001b[0m\u001b[0m\n\u001b[0m\u001b[1;32m    320\u001b[0m         \u001b[0;32mif\u001b[0m \u001b[0misinstance\u001b[0m\u001b[0;34m(\u001b[0m\u001b[0mdata_to_wrap\u001b[0m\u001b[0;34m,\u001b[0m \u001b[0mtuple\u001b[0m\u001b[0;34m)\u001b[0m\u001b[0;34m:\u001b[0m\u001b[0;34m\u001b[0m\u001b[0;34m\u001b[0m\u001b[0m\n\u001b[1;32m    321\u001b[0m             \u001b[0;31m# only wrap the first output for cross decomposition\u001b[0m\u001b[0;34m\u001b[0m\u001b[0;34m\u001b[0m\u001b[0m\n",
            "\u001b[0;32m/usr/local/lib/python3.10/dist-packages/sklearn/base.py\u001b[0m in \u001b[0;36mwrapper\u001b[0;34m(estimator, *args, **kwargs)\u001b[0m\n\u001b[1;32m   1387\u001b[0m                 )\n\u001b[1;32m   1388\u001b[0m             ):\n\u001b[0;32m-> 1389\u001b[0;31m                 \u001b[0;32mreturn\u001b[0m \u001b[0mfit_method\u001b[0m\u001b[0;34m(\u001b[0m\u001b[0mestimator\u001b[0m\u001b[0;34m,\u001b[0m \u001b[0;34m*\u001b[0m\u001b[0margs\u001b[0m\u001b[0;34m,\u001b[0m \u001b[0;34m**\u001b[0m\u001b[0mkwargs\u001b[0m\u001b[0;34m)\u001b[0m\u001b[0;34m\u001b[0m\u001b[0;34m\u001b[0m\u001b[0m\n\u001b[0m\u001b[1;32m   1390\u001b[0m \u001b[0;34m\u001b[0m\u001b[0m\n\u001b[1;32m   1391\u001b[0m         \u001b[0;32mreturn\u001b[0m \u001b[0mwrapper\u001b[0m\u001b[0;34m\u001b[0m\u001b[0;34m\u001b[0m\u001b[0m\n",
            "\u001b[0;32m/usr/local/lib/python3.10/dist-packages/sklearn/compose/_column_transformer.py\u001b[0m in \u001b[0;36mfit_transform\u001b[0;34m(self, X, y, **params)\u001b[0m\n\u001b[1;32m   1028\u001b[0m         \u001b[0mself\u001b[0m\u001b[0;34m.\u001b[0m\u001b[0m_record_output_indices\u001b[0m\u001b[0;34m(\u001b[0m\u001b[0mXs\u001b[0m\u001b[0;34m)\u001b[0m\u001b[0;34m\u001b[0m\u001b[0;34m\u001b[0m\u001b[0m\n\u001b[1;32m   1029\u001b[0m \u001b[0;34m\u001b[0m\u001b[0m\n\u001b[0;32m-> 1030\u001b[0;31m         \u001b[0;32mreturn\u001b[0m \u001b[0mself\u001b[0m\u001b[0;34m.\u001b[0m\u001b[0m_hstack\u001b[0m\u001b[0;34m(\u001b[0m\u001b[0mlist\u001b[0m\u001b[0;34m(\u001b[0m\u001b[0mXs\u001b[0m\u001b[0;34m)\u001b[0m\u001b[0;34m,\u001b[0m \u001b[0mn_samples\u001b[0m\u001b[0;34m=\u001b[0m\u001b[0mn_samples\u001b[0m\u001b[0;34m)\u001b[0m\u001b[0;34m\u001b[0m\u001b[0;34m\u001b[0m\u001b[0m\n\u001b[0m\u001b[1;32m   1031\u001b[0m \u001b[0;34m\u001b[0m\u001b[0m\n\u001b[1;32m   1032\u001b[0m     \u001b[0;32mdef\u001b[0m \u001b[0mtransform\u001b[0m\u001b[0;34m(\u001b[0m\u001b[0mself\u001b[0m\u001b[0;34m,\u001b[0m \u001b[0mX\u001b[0m\u001b[0;34m,\u001b[0m \u001b[0;34m**\u001b[0m\u001b[0mparams\u001b[0m\u001b[0;34m)\u001b[0m\u001b[0;34m:\u001b[0m\u001b[0;34m\u001b[0m\u001b[0;34m\u001b[0m\u001b[0m\n",
            "\u001b[0;32m/usr/local/lib/python3.10/dist-packages/sklearn/compose/_column_transformer.py\u001b[0m in \u001b[0;36m_hstack\u001b[0;34m(self, Xs, n_samples)\u001b[0m\n\u001b[1;32m   1137\u001b[0m                 ]\n\u001b[1;32m   1138\u001b[0m             \u001b[0;32mexcept\u001b[0m \u001b[0mValueError\u001b[0m \u001b[0;32mas\u001b[0m \u001b[0me\u001b[0m\u001b[0;34m:\u001b[0m\u001b[0;34m\u001b[0m\u001b[0;34m\u001b[0m\u001b[0m\n\u001b[0;32m-> 1139\u001b[0;31m                 raise ValueError(\n\u001b[0m\u001b[1;32m   1140\u001b[0m                     \u001b[0;34m\"For a sparse output, all columns should \"\u001b[0m\u001b[0;34m\u001b[0m\u001b[0;34m\u001b[0m\u001b[0m\n\u001b[1;32m   1141\u001b[0m                     \u001b[0;34m\"be a numeric or convertible to a numeric.\"\u001b[0m\u001b[0;34m\u001b[0m\u001b[0;34m\u001b[0m\u001b[0m\n",
            "\u001b[0;31mValueError\u001b[0m: For a sparse output, all columns should be a numeric or convertible to a numeric."
          ]
        }
      ]
    },
    {
      "cell_type": "markdown",
      "metadata": {
        "id": "_-sWepaiLePB"
      },
      "source": [
        "#### Step-4.3.2: Encoding the Dependent Variable / Ordinal Feature / Single Column"
      ]
    },
    {
      "cell_type": "code",
      "source": [
        "# # preprocessing is a module within scikit-learn that provides tools for preparing your data for machine learning algorithms.\n",
        "# # LabelEncoder is a specific class designed to convert categorical labels (like 'France', 'Spain', 'Germany') into numerical labels (like 0, 1, 2).\n",
        "# from sklearn.preprocessing import LabelEncoder\n",
        "\n",
        "# le = LabelEncoder()\n",
        "# y = le.fit_transform(y)\n",
        "\n",
        "# print(\"Encoded data of Dependent Variable (y): \\n\",y)"
      ],
      "metadata": {
        "outputId": "8c49216a-4ebf-4a34-8c69-f3574af68e2b",
        "colab": {
          "base_uri": "https://localhost:8080/"
        },
        "collapsed": true,
        "id": "QVW_rM73LePB"
      },
      "execution_count": null,
      "outputs": [
        {
          "output_type": "stream",
          "name": "stdout",
          "text": [
            "Encoded data of Dependent Variable (y): \n",
            " [0 1 0 0 1 1 0 1 0 1 1]\n"
          ]
        }
      ]
    },
    {
      "cell_type": "markdown",
      "metadata": {
        "id": "nm4HQZB5LePC"
      },
      "source": [
        "## Step-5: Splitting the dataset into the Training set and Test set"
      ]
    },
    {
      "cell_type": "code",
      "source": [
        "from sklearn.model_selection import train_test_split\n",
        "X_train, X_test, y_train, y_test = train_test_split(X, y, test_size=0.2, random_state=1)"
      ],
      "metadata": {
        "id": "koXG-0GHLePC"
      },
      "execution_count": null,
      "outputs": []
    },
    {
      "cell_type": "code",
      "source": [
        "print(\"Printing Training Sets:\")\n",
        "print(\"> X_train: \\n\", X_train)\n",
        "print(\"> X_test: \\n\", X_test)\n",
        "print(\"\\n\")\n",
        "print(\"Printing Test Sets:\")\n",
        "print(\"> y_train: \\n\", y_train)\n",
        "print(\"> y_test: \\n\", y_test)"
      ],
      "metadata": {
        "colab": {
          "base_uri": "https://localhost:8080/"
        },
        "outputId": "6a274836-c42f-4ee3-b939-42c3e05ce7bc",
        "collapsed": true,
        "id": "qSdc21spLePC"
      },
      "execution_count": null,
      "outputs": [
        {
          "output_type": "stream",
          "name": "stdout",
          "text": [
            "Printing Training Sets:\n",
            "> X_train: \n",
            " [[0.0 0.0 0.0 1.0 37.0 58500.0]\n",
            " [0.0 0.0 1.0 0.0 27.0 48000.0]\n",
            " [0.0 0.0 1.0 0.0 nan 52000.0]\n",
            " [1.0 0.0 0.0 0.0 44.0 72000.0]\n",
            " [1.0 0.0 0.0 0.0 48.0 79000.0]\n",
            " [1.0 0.0 0.0 0.0 37.0 67000.0]\n",
            " [0.0 1.0 0.0 0.0 50.0 83000.0]\n",
            " [1.0 0.0 0.0 0.0 35.0 58000.0]]\n",
            "> X_test: \n",
            " [[0.0 1.0 0.0 0.0 30.0 54000.0]\n",
            " [0.0 0.0 1.0 0.0 38.0 61000.0]\n",
            " [0.0 1.0 0.0 0.0 40.0 nan]]\n",
            "\n",
            "\n",
            "Printing Test Sets:\n",
            "> y_train: \n",
            " [1 1 0 0 1 1 0 1]\n",
            "> y_test: \n",
            " [0 0 1]\n"
          ]
        }
      ]
    },
    {
      "cell_type": "markdown",
      "metadata": {
        "id": "5gowo_wlLePC"
      },
      "source": [
        "## Step-6: Feature Scaling"
      ]
    },
    {
      "cell_type": "code",
      "source": [
        "\"\"\" Here we are not applying Feature Scaling in Dependent Variable (y), because there are only 0 and 1 values in y \"\"\"\n",
        "# StandardScaler class from scikit-learn, which is a tool for standardization and Normalization.\n",
        "from sklearn.preprocessing import StandardScaler\n",
        "\n",
        "sc = StandardScaler()\n",
        "X_train[:, 3: ] = sc.fit_transform(X_train[:, 3:])\n",
        "X_test[:, 3: ] = sc.transform(X_test[:, 3:])"
      ],
      "metadata": {
        "id": "Z5c87_N1LePD"
      },
      "execution_count": null,
      "outputs": []
    },
    {
      "cell_type": "code",
      "source": [
        "print(\"Printing Training Sets after Feature Scaling:\")\n",
        "print(\"> X_train: \\n\", X_train)\n",
        "print(\"\\n\")\n",
        "print(\"Printing Test Sets after Feature Scaling:\")\n",
        "print(\"> X_test: \\n\", X_test)"
      ],
      "metadata": {
        "colab": {
          "base_uri": "https://localhost:8080/"
        },
        "outputId": "fc061b74-1bbb-44bc-8c73-232178390a3b",
        "collapsed": true,
        "id": "Pd9iej-WLePD"
      },
      "execution_count": null,
      "outputs": [
        {
          "output_type": "stream",
          "name": "stdout",
          "text": [
            "Printing Training Sets after Feature Scaling:\n",
            "> X_train: \n",
            " [[0.0 0.0 0.0 2.6457513110645903 -0.3629763419529134 -0.5225966449595044]\n",
            " [0.0 0.0 1.0 -0.3779644730092272 -1.700257601779436 -1.4094273151938148]\n",
            " [0.0 0.0 1.0 -0.3779644730092272 nan -1.0715870598664585]\n",
            " [1.0 0.0 0.0 -0.3779644730092272 0.5731205399256524 0.6176142167703234]\n",
            " [1.0 0.0 0.0 -0.3779644730092272 1.1080330438562613 1.208834663593197]\n",
            " [1.0 0.0 0.0 -0.3779644730092272 -0.3629763419529134 0.1953138976111279]\n",
            " [0.0 1.0 0.0 -0.3779644730092272 1.3754892958215659 1.5466749189205533]\n",
            " [1.0 0.0 0.0 -0.3779644730092272 -0.6304325939182179 -0.564826676875424]]\n",
            "\n",
            "\n",
            "Printing Test Sets after Feature Scaling:\n",
            "> X_test: \n",
            " [[0.0 1.0 0.0 -0.3779644730092272 -1.2990732238314793 -0.9026669322027803]\n",
            " [0.0 0.0 1.0 -0.3779644730092272 -0.22924821597026115\n",
            "  -0.31144648537990666]\n",
            " [0.0 1.0 0.0 -0.3779644730092272 0.03820803599504337 nan]]\n"
          ]
        }
      ]
    }
  ]
}