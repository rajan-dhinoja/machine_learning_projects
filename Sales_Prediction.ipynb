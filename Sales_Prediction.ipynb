{
  "nbformat": 4,
  "nbformat_minor": 0,
  "metadata": {
    "colab": {
      "provenance": [],
      "authorship_tag": "ABX9TyPuR9vtwzeZoUlTQcUg2YjO",
      "include_colab_link": true
    },
    "kernelspec": {
      "name": "python3",
      "display_name": "Python 3"
    },
    "language_info": {
      "name": "python"
    }
  },
  "cells": [
    {
      "cell_type": "markdown",
      "metadata": {
        "id": "view-in-github",
        "colab_type": "text"
      },
      "source": [
        "<a href=\"https://colab.research.google.com/github/rajan-dhinoja/machine_learning_projects/blob/main/Sales_Prediction.ipynb\" target=\"_parent\"><img src=\"https://colab.research.google.com/assets/colab-badge.svg\" alt=\"Open In Colab\"/></a>"
      ]
    },
    {
      "cell_type": "markdown",
      "metadata": {
        "id": "37puETfgRzzg"
      },
      "source": [
        "# ***Step-A: Data Preprocessing:-***"
      ]
    },
    {
      "cell_type": "markdown",
      "metadata": {
        "id": "EoRP98MpR-qj"
      },
      "source": [
        "## Step-1: Importing the necessary Libraries, Modules and Classes..."
      ]
    },
    {
      "cell_type": "code",
      "source": [
        "import numpy as np\n",
        "import matplotlib.pyplot as plt\n",
        "import pandas as pd"
      ],
      "metadata": {
        "id": "GmH0B8spjV_Y"
      },
      "execution_count": null,
      "outputs": []
    },
    {
      "cell_type": "markdown",
      "metadata": {
        "id": "RopL7tUZSQkT"
      },
      "source": [
        "## Step-2: Importing the Dataset & Printing it..."
      ]
    },
    {
      "cell_type": "code",
      "source": [
        "dataset = pd.DataFrame(pd.read_csv('Data.csv'))\n",
        "dataset.head()\n",
        "# dataset"
      ],
      "metadata": {
        "colab": {
          "base_uri": "https://localhost:8080/",
          "height": 206
        },
        "id": "22jQxj5pWkhz",
        "outputId": "03049a02-1623-46e2-c833-4e28d662953f"
      },
      "execution_count": null,
      "outputs": [
        {
          "output_type": "execute_result",
          "data": {
            "text/plain": [
              "   Country   Age   Salary Purchased\n",
              "0   France  44.0  72000.0        No\n",
              "1    Spain  27.0  48000.0       Yes\n",
              "2  Germany  30.0  54000.0        No\n",
              "3    Spain  38.0  61000.0        No\n",
              "4  Germany  40.0      NaN       Yes"
            ],
            "text/html": [
              "\n",
              "  <div id=\"df-3c58c9c4-9fc7-453b-ad73-8ad7f3e407ed\" class=\"colab-df-container\">\n",
              "    <div>\n",
              "<style scoped>\n",
              "    .dataframe tbody tr th:only-of-type {\n",
              "        vertical-align: middle;\n",
              "    }\n",
              "\n",
              "    .dataframe tbody tr th {\n",
              "        vertical-align: top;\n",
              "    }\n",
              "\n",
              "    .dataframe thead th {\n",
              "        text-align: right;\n",
              "    }\n",
              "</style>\n",
              "<table border=\"1\" class=\"dataframe\">\n",
              "  <thead>\n",
              "    <tr style=\"text-align: right;\">\n",
              "      <th></th>\n",
              "      <th>Country</th>\n",
              "      <th>Age</th>\n",
              "      <th>Salary</th>\n",
              "      <th>Purchased</th>\n",
              "    </tr>\n",
              "  </thead>\n",
              "  <tbody>\n",
              "    <tr>\n",
              "      <th>0</th>\n",
              "      <td>France</td>\n",
              "      <td>44.0</td>\n",
              "      <td>72000.0</td>\n",
              "      <td>No</td>\n",
              "    </tr>\n",
              "    <tr>\n",
              "      <th>1</th>\n",
              "      <td>Spain</td>\n",
              "      <td>27.0</td>\n",
              "      <td>48000.0</td>\n",
              "      <td>Yes</td>\n",
              "    </tr>\n",
              "    <tr>\n",
              "      <th>2</th>\n",
              "      <td>Germany</td>\n",
              "      <td>30.0</td>\n",
              "      <td>54000.0</td>\n",
              "      <td>No</td>\n",
              "    </tr>\n",
              "    <tr>\n",
              "      <th>3</th>\n",
              "      <td>Spain</td>\n",
              "      <td>38.0</td>\n",
              "      <td>61000.0</td>\n",
              "      <td>No</td>\n",
              "    </tr>\n",
              "    <tr>\n",
              "      <th>4</th>\n",
              "      <td>Germany</td>\n",
              "      <td>40.0</td>\n",
              "      <td>NaN</td>\n",
              "      <td>Yes</td>\n",
              "    </tr>\n",
              "  </tbody>\n",
              "</table>\n",
              "</div>\n",
              "    <div class=\"colab-df-buttons\">\n",
              "\n",
              "  <div class=\"colab-df-container\">\n",
              "    <button class=\"colab-df-convert\" onclick=\"convertToInteractive('df-3c58c9c4-9fc7-453b-ad73-8ad7f3e407ed')\"\n",
              "            title=\"Convert this dataframe to an interactive table.\"\n",
              "            style=\"display:none;\">\n",
              "\n",
              "  <svg xmlns=\"http://www.w3.org/2000/svg\" height=\"24px\" viewBox=\"0 -960 960 960\">\n",
              "    <path d=\"M120-120v-720h720v720H120Zm60-500h600v-160H180v160Zm220 220h160v-160H400v160Zm0 220h160v-160H400v160ZM180-400h160v-160H180v160Zm440 0h160v-160H620v160ZM180-180h160v-160H180v160Zm440 0h160v-160H620v160Z\"/>\n",
              "  </svg>\n",
              "    </button>\n",
              "\n",
              "  <style>\n",
              "    .colab-df-container {\n",
              "      display:flex;\n",
              "      gap: 12px;\n",
              "    }\n",
              "\n",
              "    .colab-df-convert {\n",
              "      background-color: #E8F0FE;\n",
              "      border: none;\n",
              "      border-radius: 50%;\n",
              "      cursor: pointer;\n",
              "      display: none;\n",
              "      fill: #1967D2;\n",
              "      height: 32px;\n",
              "      padding: 0 0 0 0;\n",
              "      width: 32px;\n",
              "    }\n",
              "\n",
              "    .colab-df-convert:hover {\n",
              "      background-color: #E2EBFA;\n",
              "      box-shadow: 0px 1px 2px rgba(60, 64, 67, 0.3), 0px 1px 3px 1px rgba(60, 64, 67, 0.15);\n",
              "      fill: #174EA6;\n",
              "    }\n",
              "\n",
              "    .colab-df-buttons div {\n",
              "      margin-bottom: 4px;\n",
              "    }\n",
              "\n",
              "    [theme=dark] .colab-df-convert {\n",
              "      background-color: #3B4455;\n",
              "      fill: #D2E3FC;\n",
              "    }\n",
              "\n",
              "    [theme=dark] .colab-df-convert:hover {\n",
              "      background-color: #434B5C;\n",
              "      box-shadow: 0px 1px 3px 1px rgba(0, 0, 0, 0.15);\n",
              "      filter: drop-shadow(0px 1px 2px rgba(0, 0, 0, 0.3));\n",
              "      fill: #FFFFFF;\n",
              "    }\n",
              "  </style>\n",
              "\n",
              "    <script>\n",
              "      const buttonEl =\n",
              "        document.querySelector('#df-3c58c9c4-9fc7-453b-ad73-8ad7f3e407ed button.colab-df-convert');\n",
              "      buttonEl.style.display =\n",
              "        google.colab.kernel.accessAllowed ? 'block' : 'none';\n",
              "\n",
              "      async function convertToInteractive(key) {\n",
              "        const element = document.querySelector('#df-3c58c9c4-9fc7-453b-ad73-8ad7f3e407ed');\n",
              "        const dataTable =\n",
              "          await google.colab.kernel.invokeFunction('convertToInteractive',\n",
              "                                                    [key], {});\n",
              "        if (!dataTable) return;\n",
              "\n",
              "        const docLinkHtml = 'Like what you see? Visit the ' +\n",
              "          '<a target=\"_blank\" href=https://colab.research.google.com/notebooks/data_table.ipynb>data table notebook</a>'\n",
              "          + ' to learn more about interactive tables.';\n",
              "        element.innerHTML = '';\n",
              "        dataTable['output_type'] = 'display_data';\n",
              "        await google.colab.output.renderOutput(dataTable, element);\n",
              "        const docLink = document.createElement('div');\n",
              "        docLink.innerHTML = docLinkHtml;\n",
              "        element.appendChild(docLink);\n",
              "      }\n",
              "    </script>\n",
              "  </div>\n",
              "\n",
              "\n",
              "<div id=\"df-c08ed299-452c-47c3-a2ce-ead1e23022e3\">\n",
              "  <button class=\"colab-df-quickchart\" onclick=\"quickchart('df-c08ed299-452c-47c3-a2ce-ead1e23022e3')\"\n",
              "            title=\"Suggest charts\"\n",
              "            style=\"display:none;\">\n",
              "\n",
              "<svg xmlns=\"http://www.w3.org/2000/svg\" height=\"24px\"viewBox=\"0 0 24 24\"\n",
              "     width=\"24px\">\n",
              "    <g>\n",
              "        <path d=\"M19 3H5c-1.1 0-2 .9-2 2v14c0 1.1.9 2 2 2h14c1.1 0 2-.9 2-2V5c0-1.1-.9-2-2-2zM9 17H7v-7h2v7zm4 0h-2V7h2v10zm4 0h-2v-4h2v4z\"/>\n",
              "    </g>\n",
              "</svg>\n",
              "  </button>\n",
              "\n",
              "<style>\n",
              "  .colab-df-quickchart {\n",
              "      --bg-color: #E8F0FE;\n",
              "      --fill-color: #1967D2;\n",
              "      --hover-bg-color: #E2EBFA;\n",
              "      --hover-fill-color: #174EA6;\n",
              "      --disabled-fill-color: #AAA;\n",
              "      --disabled-bg-color: #DDD;\n",
              "  }\n",
              "\n",
              "  [theme=dark] .colab-df-quickchart {\n",
              "      --bg-color: #3B4455;\n",
              "      --fill-color: #D2E3FC;\n",
              "      --hover-bg-color: #434B5C;\n",
              "      --hover-fill-color: #FFFFFF;\n",
              "      --disabled-bg-color: #3B4455;\n",
              "      --disabled-fill-color: #666;\n",
              "  }\n",
              "\n",
              "  .colab-df-quickchart {\n",
              "    background-color: var(--bg-color);\n",
              "    border: none;\n",
              "    border-radius: 50%;\n",
              "    cursor: pointer;\n",
              "    display: none;\n",
              "    fill: var(--fill-color);\n",
              "    height: 32px;\n",
              "    padding: 0;\n",
              "    width: 32px;\n",
              "  }\n",
              "\n",
              "  .colab-df-quickchart:hover {\n",
              "    background-color: var(--hover-bg-color);\n",
              "    box-shadow: 0 1px 2px rgba(60, 64, 67, 0.3), 0 1px 3px 1px rgba(60, 64, 67, 0.15);\n",
              "    fill: var(--button-hover-fill-color);\n",
              "  }\n",
              "\n",
              "  .colab-df-quickchart-complete:disabled,\n",
              "  .colab-df-quickchart-complete:disabled:hover {\n",
              "    background-color: var(--disabled-bg-color);\n",
              "    fill: var(--disabled-fill-color);\n",
              "    box-shadow: none;\n",
              "  }\n",
              "\n",
              "  .colab-df-spinner {\n",
              "    border: 2px solid var(--fill-color);\n",
              "    border-color: transparent;\n",
              "    border-bottom-color: var(--fill-color);\n",
              "    animation:\n",
              "      spin 1s steps(1) infinite;\n",
              "  }\n",
              "\n",
              "  @keyframes spin {\n",
              "    0% {\n",
              "      border-color: transparent;\n",
              "      border-bottom-color: var(--fill-color);\n",
              "      border-left-color: var(--fill-color);\n",
              "    }\n",
              "    20% {\n",
              "      border-color: transparent;\n",
              "      border-left-color: var(--fill-color);\n",
              "      border-top-color: var(--fill-color);\n",
              "    }\n",
              "    30% {\n",
              "      border-color: transparent;\n",
              "      border-left-color: var(--fill-color);\n",
              "      border-top-color: var(--fill-color);\n",
              "      border-right-color: var(--fill-color);\n",
              "    }\n",
              "    40% {\n",
              "      border-color: transparent;\n",
              "      border-right-color: var(--fill-color);\n",
              "      border-top-color: var(--fill-color);\n",
              "    }\n",
              "    60% {\n",
              "      border-color: transparent;\n",
              "      border-right-color: var(--fill-color);\n",
              "    }\n",
              "    80% {\n",
              "      border-color: transparent;\n",
              "      border-right-color: var(--fill-color);\n",
              "      border-bottom-color: var(--fill-color);\n",
              "    }\n",
              "    90% {\n",
              "      border-color: transparent;\n",
              "      border-bottom-color: var(--fill-color);\n",
              "    }\n",
              "  }\n",
              "</style>\n",
              "\n",
              "  <script>\n",
              "    async function quickchart(key) {\n",
              "      const quickchartButtonEl =\n",
              "        document.querySelector('#' + key + ' button');\n",
              "      quickchartButtonEl.disabled = true;  // To prevent multiple clicks.\n",
              "      quickchartButtonEl.classList.add('colab-df-spinner');\n",
              "      try {\n",
              "        const charts = await google.colab.kernel.invokeFunction(\n",
              "            'suggestCharts', [key], {});\n",
              "      } catch (error) {\n",
              "        console.error('Error during call to suggestCharts:', error);\n",
              "      }\n",
              "      quickchartButtonEl.classList.remove('colab-df-spinner');\n",
              "      quickchartButtonEl.classList.add('colab-df-quickchart-complete');\n",
              "    }\n",
              "    (() => {\n",
              "      let quickchartButtonEl =\n",
              "        document.querySelector('#df-c08ed299-452c-47c3-a2ce-ead1e23022e3 button');\n",
              "      quickchartButtonEl.style.display =\n",
              "        google.colab.kernel.accessAllowed ? 'block' : 'none';\n",
              "    })();\n",
              "  </script>\n",
              "</div>\n",
              "\n",
              "    </div>\n",
              "  </div>\n"
            ],
            "application/vnd.google.colaboratory.intrinsic+json": {
              "type": "dataframe",
              "summary": "{\n  \"name\": \"# dataset\",\n  \"rows\": 5,\n  \"fields\": [\n    {\n      \"column\": \"Country\",\n      \"properties\": {\n        \"dtype\": \"string\",\n        \"num_unique_values\": 3,\n        \"samples\": [\n          \"France\",\n          \"Spain\",\n          \"Germany\"\n        ],\n        \"semantic_type\": \"\",\n        \"description\": \"\"\n      }\n    },\n    {\n      \"column\": \"Age\",\n      \"properties\": {\n        \"dtype\": \"number\",\n        \"std\": 7.08519583356734,\n        \"min\": 27.0,\n        \"max\": 44.0,\n        \"num_unique_values\": 5,\n        \"samples\": [\n          27.0,\n          40.0,\n          30.0\n        ],\n        \"semantic_type\": \"\",\n        \"description\": \"\"\n      }\n    },\n    {\n      \"column\": \"Salary\",\n      \"properties\": {\n        \"dtype\": \"number\",\n        \"std\": 10307.764064044151,\n        \"min\": 48000.0,\n        \"max\": 72000.0,\n        \"num_unique_values\": 4,\n        \"samples\": [\n          48000.0,\n          61000.0,\n          72000.0\n        ],\n        \"semantic_type\": \"\",\n        \"description\": \"\"\n      }\n    },\n    {\n      \"column\": \"Purchased\",\n      \"properties\": {\n        \"dtype\": \"category\",\n        \"num_unique_values\": 2,\n        \"samples\": [\n          \"Yes\",\n          \"No\"\n        ],\n        \"semantic_type\": \"\",\n        \"description\": \"\"\n      }\n    }\n  ]\n}"
            }
          },
          "metadata": {},
          "execution_count": 2
        }
      ]
    },
    {
      "cell_type": "markdown",
      "source": [
        "## Step-3: Creating the matrix of features (X) and the dependent variable/output (y) & Printing Both"
      ],
      "metadata": {
        "id": "-c3yzPjyWgYj"
      }
    },
    {
      "cell_type": "code",
      "source": [
        "X = dataset.iloc[:, :-1].values # Here :-1 means a range of displaying all the column except the column with index -1, which is not included.\n",
        "y = dataset.iloc[:, -1].values # Here -1 means only the last column.\n",
        "print(\"Matrix of Features: \\n\", X)\n",
        "print(\"\\n\")\n",
        "print(\"Dependent Variable/Output: \\n\", y)"
      ],
      "metadata": {
        "id": "1wqveOLclD1n",
        "colab": {
          "base_uri": "https://localhost:8080/"
        },
        "outputId": "e4a305bb-44fe-4f34-c172-f5ffe9822208"
      },
      "execution_count": null,
      "outputs": [
        {
          "output_type": "stream",
          "name": "stdout",
          "text": [
            "Matrix of Features: \n",
            " [['France' 44.0 72000.0]\n",
            " ['Spain' 27.0 48000.0]\n",
            " ['Germany' 30.0 54000.0]\n",
            " ['Spain' 38.0 61000.0]\n",
            " ['Germany' 40.0 nan]\n",
            " ['France' 35.0 58000.0]\n",
            " ['Spain' nan 52000.0]\n",
            " ['France' 48.0 79000.0]\n",
            " ['Germany' 50.0 83000.0]\n",
            " ['France' 37.0 67000.0]]\n",
            "\n",
            "\n",
            "Dependent Variable/Output: \n",
            " ['No' 'Yes' 'No' 'No' 'Yes' 'Yes' 'No' 'Yes' 'No' 'Yes']\n"
          ]
        }
      ]
    },
    {
      "cell_type": "markdown",
      "source": [
        "## Step-4: Cheking any Missing Data and their counts & Printing it..."
      ],
      "metadata": {
        "id": "ARYRmYj4W6MM"
      }
    },
    {
      "cell_type": "code",
      "source": [
        "missing_counts = dataset.isnull().sum()\n",
        "if missing_counts.any():\n",
        "    print(\"Missing Data Counts: \\n\", missing_counts)\n",
        "    print(\"\\n\")\n",
        "    missing_values = dataset.isnull()\n",
        "    print(\"Missing Data Values: \\n\", missing_values)\n",
        "else:\n",
        "    print(\"No missing data found.\")"
      ],
      "metadata": {
        "colab": {
          "base_uri": "https://localhost:8080/"
        },
        "id": "lZuPe5ACXBTe",
        "outputId": "f8483ad6-636c-4f26-8ce0-54714b5401a2"
      },
      "execution_count": null,
      "outputs": [
        {
          "output_type": "stream",
          "name": "stdout",
          "text": [
            "Missing Data Counts: \n",
            " Country      0\n",
            "Age          1\n",
            "Salary       1\n",
            "Purchased    0\n",
            "dtype: int64\n",
            "\n",
            "\n",
            "Missing Data Values: \n",
            "    Country    Age  Salary  Purchased\n",
            "0    False  False   False      False\n",
            "1    False  False   False      False\n",
            "2    False  False   False      False\n",
            "3    False  False   False      False\n",
            "4    False  False    True      False\n",
            "5    False  False   False      False\n",
            "6    False   True   False      False\n",
            "7    False  False   False      False\n",
            "8    False  False   False      False\n",
            "9    False  False   False      False\n"
          ]
        }
      ]
    },
    {
      "cell_type": "markdown",
      "metadata": {
        "id": "nhfKXNxlSabC"
      },
      "source": [
        "### Step-4.1: Taking care of missing data: Changing each Missing values into Mean of that column...  "
      ]
    },
    {
      "cell_type": "code",
      "source": [
        "# Here from the module named impute of the library scikit-learn, we are using the SimpleImputer Class to Handle the Missing Values.\n",
        "from sklearn.impute import SimpleImputer\n",
        "\n",
        "# Here, we create an object (an instance) of the SimpleImputer class called imputer.\n",
        "  # missing_values=np.nan: This tells the imputer to look for missing values represented as np.nan (Not a Number), which is a common way to represent missing data in Python.\n",
        "  # strategy = 'mean': This is the core of how the imputer will fill in missing values.\n",
        "    # It's set to 'mean', meaning it will calculate the average (mean) of the non-missing values in a column and use that average to fill in any missing values in that same column.\n",
        "imputer = SimpleImputer(missing_values=np.nan, strategy = 'mean')\n",
        "\n",
        "# Here below X[:, 1:3] means it will select the columns in range\n",
        "# where : means all the rows and 1:3 means the columns with index 1 and 2 (that is Age and Salary Column)\n",
        "\"\"\" Here fit() method helps to connect this imputer with the matrix of features(means the table), &\n",
        "    find the missing values from the columns given to find(X[:, 1:3], that is Age and Salary column) &\n",
        "    It also calculates the average(mean) of the column. \"\"\"\n",
        "# fit(): This method is called on the imputer object.\n",
        "  # It essentially makes the imputer analyze the selected columns (Age and Salary) to figure out: 1) where the missing values are located and 2) the average (mean) of the non-missing values in each of those columns.\n",
        "  # This information is stored within the imputer object for the next step.\n",
        "imputer.fit(X[:, 1:3])\n",
        "\n",
        "\"\"\" Here transform() method help to replace the nan or missing values with the average(mean) found by the fit() method.\n",
        "    Also this method returns the updated values and the the updated, it will not change the original values.\n",
        "    Therefore we need to assign the updated values to the original values as X[:, 1:3]. \"\"\"\n",
        "# transform(): This method uses the information the imputer learned during the fit() step.\n",
        "  # It goes through the selected columns (Age and Salary) and replaces any missing values (np.nan) with the mean it calculated earlier for that respective column.\n",
        "X[:, 1:3] = imputer.transform(X[:, 1:3])\n"
      ],
      "metadata": {
        "id": "9XZaHTPC9rPO"
      },
      "execution_count": null,
      "outputs": []
    },
    {
      "cell_type": "code",
      "source": [
        "print(\"New Data with replacing the missing values with the mean values: \\n\", X)"
      ],
      "metadata": {
        "id": "ZAUKW7tIMNQ9",
        "outputId": "0724622f-710c-4a0e-8dc1-a095dcb37fde",
        "colab": {
          "base_uri": "https://localhost:8080/"
        }
      },
      "execution_count": null,
      "outputs": [
        {
          "output_type": "stream",
          "name": "stdout",
          "text": [
            "New Data with replacing the missing values with the mean values: \n",
            " [['France' 44.0 72000.0]\n",
            " ['Spain' 27.0 48000.0]\n",
            " ['Germany' 30.0 54000.0]\n",
            " ['Spain' 38.0 61000.0]\n",
            " ['Germany' 40.0 63777.77777777778]\n",
            " ['France' 35.0 58000.0]\n",
            " ['Spain' 38.77777777777778 52000.0]\n",
            " ['France' 48.0 79000.0]\n",
            " ['Germany' 50.0 83000.0]\n",
            " ['France' 37.0 67000.0]]\n"
          ]
        }
      ]
    },
    {
      "cell_type": "markdown",
      "metadata": {
        "id": "CriG6VzVSjcK"
      },
      "source": [
        "## Step-5: Checking any Categorical Data and Encoding them:-"
      ]
    },
    {
      "cell_type": "code",
      "source": [
        "# We iterate through each column name (dataset.columns)\n",
        "# For each column, we select it using dataset[column]\n",
        "# Then, we apply .unique() to get the unique values and print them.\n",
        "# dataset[column].dtype retrieves the data type of the current column.\n",
        "\n",
        "categorical_columns_found = False  # Flag to track if any categorical columns are found\n",
        "\n",
        "for column in dataset.columns:\n",
        "    if dataset[column].dtype == 'object':\n",
        "        categorical_columns_found = True  # Set the flag to True\n",
        "        print(f\"String Values present in Column '{column}'.\")\n",
        "\n",
        "        # Check for repeating values within the categorical column\n",
        "        value_counts = dataset[column].value_counts()\n",
        "        repeating_values = value_counts[value_counts > 1].index.tolist()\n",
        "\n",
        "        if repeating_values:\n",
        "            print(f\"> Also, Categorical values found in column '{column}': {repeating_values}.\")\n",
        "        else:\n",
        "            print(f\"> But No Categorical values found in column '{column}'.\")\n",
        "\n",
        "if not categorical_columns_found:  # Check the flag after processing all columns\n",
        "    print(\"No categorical values found in the whole dataset.\")\n"
      ],
      "metadata": {
        "colab": {
          "base_uri": "https://localhost:8080/"
        },
        "id": "iliWxO0n-9UQ",
        "outputId": "0c53a91a-333d-415c-9ad2-8b0b24bb9c91"
      },
      "execution_count": null,
      "outputs": [
        {
          "output_type": "stream",
          "name": "stdout",
          "text": [
            "String Values present in Column 'Country'.\n",
            "> Also, Categorical values found in column 'Country': ['France', 'Spain', 'Germany'].\n",
            "String Values present in Column 'Purchased'.\n",
            "> Also, Categorical values found in column 'Purchased': ['No', 'Yes'].\n"
          ]
        }
      ]
    },
    {
      "cell_type": "markdown",
      "metadata": {
        "id": "AhSpdQWeSsFh"
      },
      "source": [
        "### Step-5.1: Encoding Independent variables / Nominal Features(no inherit order) / Multiple Columns"
      ]
    },
    {
      "cell_type": "code",
      "source": [
        "# `sklearn.compose` is a module in scikit-learn (a popular Python machine learning library) used for combining different data transformations.\n",
        "# `sklearn.preprocessing` contains tools for preparing data for use in machine learning models, including the `OneHotEncoder`.\n",
        "from sklearn.compose import ColumnTransformer\n",
        "from sklearn.preprocessing import OneHotEncoder\n",
        "\n",
        "# ColumnTransformer is used to apply different transformations to different columns of your dataset. &\n",
        "  # transformers: This argument takes a list of transformations. In this case, there's one transformation:\n",
        "    # 'encoder': A name for this specific transformation step (you can choose any name),\n",
        "    # OneHotEncoder(): The transformation to apply (One-Hot Encoding),\n",
        "    # [0]: The index of the column (column 0 in this case) to apply the OneHotEncoder to. This means the first column in your dataset (X) is the categorical column you want to encode. &\n",
        "  # remainder='passthrough': This ensures that all other columns in your dataset, besides the one being encoded, are kept as they are and passed through without any changes.\n",
        "ct = ColumnTransformer(transformers=[('encoder', OneHotEncoder(), [0])], remainder='passthrough')\n",
        "\n",
        "# ct.fit_transform(X): This line does two things:\n",
        "  # fit: It analyzes the specified column ([0] - the first column) of your dataset (X) to learn the categories present in that column.\n",
        "  # transform: It then applies One-Hot Encoding, creating new columns representing each category and filling them with 0s and 1s (1 indicating the presence of that category for a particular row).\n",
        "X = np.array(ct.fit_transform(X))\n",
        "# X = pd.DataFrame(ct.fit_transform(X))"
      ],
      "metadata": {
        "id": "52wVFDwxu7K-"
      },
      "execution_count": null,
      "outputs": []
    },
    {
      "cell_type": "code",
      "source": [
        "print(\"Encoded data of Matrix of Features/Independent variable (X): \\n\",X)"
      ],
      "metadata": {
        "colab": {
          "base_uri": "https://localhost:8080/"
        },
        "id": "joLuZjea-mVE",
        "outputId": "cedb225f-ed7a-451b-a13f-0aa139d06285"
      },
      "execution_count": null,
      "outputs": [
        {
          "output_type": "stream",
          "name": "stdout",
          "text": [
            "Encoded data of Matrix of Features/Independent variable (X): \n",
            " [[1.0 0.0 0.0 44.0 72000.0]\n",
            " [0.0 0.0 1.0 27.0 48000.0]\n",
            " [0.0 1.0 0.0 30.0 54000.0]\n",
            " [0.0 0.0 1.0 38.0 61000.0]\n",
            " [0.0 1.0 0.0 40.0 63777.77777777778]\n",
            " [1.0 0.0 0.0 35.0 58000.0]\n",
            " [0.0 0.0 1.0 38.77777777777778 52000.0]\n",
            " [1.0 0.0 0.0 48.0 79000.0]\n",
            " [0.0 1.0 0.0 50.0 83000.0]\n",
            " [1.0 0.0 0.0 37.0 67000.0]]\n"
          ]
        }
      ]
    },
    {
      "cell_type": "markdown",
      "metadata": {
        "id": "DXh8oVSITIc6"
      },
      "source": [
        "### Step-5.2: Encoding the Dependent Variable / Ordinal Feature / Single Column"
      ]
    },
    {
      "cell_type": "code",
      "source": [
        "# preprocessing is a module within scikit-learn that provides tools for preparing your data for machine learning algorithms.\n",
        "# LabelEncoder is a specific class designed to convert categorical labels (like 'France', 'Spain', 'Germany') into numerical labels (like 0, 1, 2).\n",
        "from sklearn.preprocessing import LabelEncoder\n",
        "\n",
        "le = LabelEncoder()\n",
        "y = le.fit_transform(y)"
      ],
      "metadata": {
        "id": "NdlsQAt9_uml"
      },
      "execution_count": null,
      "outputs": []
    },
    {
      "cell_type": "code",
      "source": [
        "print(\"Encoded data of Dependent Variable (y): \\n\",y)"
      ],
      "metadata": {
        "colab": {
          "base_uri": "https://localhost:8080/"
        },
        "id": "65ybv6N4Bg81",
        "outputId": "762b6ff4-2373-4a94-835c-016b9180299b"
      },
      "execution_count": null,
      "outputs": [
        {
          "output_type": "stream",
          "name": "stdout",
          "text": [
            "Encoded data of Dependent Variable (y): \n",
            " [0 1 0 0 1 1 0 1 0 1]\n"
          ]
        }
      ]
    },
    {
      "cell_type": "markdown",
      "metadata": {
        "id": "qb_vcgm3qZKW"
      },
      "source": [
        "## Step-6: Splitting the dataset into the Training set and Test set"
      ]
    },
    {
      "cell_type": "code",
      "source": [
        "from sklearn.model_selection import train_test_split\n",
        "X_train, X_test, y_train, y_test = train_test_split(X, y, test_size=0.2, random_state=1)"
      ],
      "metadata": {
        "id": "4ML-zBGmBkeI"
      },
      "execution_count": null,
      "outputs": []
    },
    {
      "cell_type": "code",
      "source": [
        "print(\"Printing Training Sets:\")\n",
        "print(\"> X_train: \\n\", X_train)\n",
        "print(\"> X_test: \\n\", X_test)\n",
        "print(\"\\n\")\n",
        "print(\"Printing Test Sets:\")\n",
        "print(\"> y_train: \\n\", y_train)\n",
        "print(\"> y_test: \\n\", y_test)"
      ],
      "metadata": {
        "colab": {
          "base_uri": "https://localhost:8080/"
        },
        "id": "WUS3sJOifARQ",
        "outputId": "d6600945-3973-486b-97ba-f3e91b7f55db"
      },
      "execution_count": null,
      "outputs": [
        {
          "output_type": "stream",
          "name": "stdout",
          "text": [
            "Printing Training Sets:\n",
            "> X_train: \n",
            " [[0.0 0.0 1.0 38.77777777777778 52000.0]\n",
            " [0.0 1.0 0.0 40.0 63777.77777777778]\n",
            " [1.0 0.0 0.0 44.0 72000.0]\n",
            " [0.0 0.0 1.0 38.0 61000.0]\n",
            " [0.0 0.0 1.0 27.0 48000.0]\n",
            " [1.0 0.0 0.0 48.0 79000.0]\n",
            " [0.0 1.0 0.0 50.0 83000.0]\n",
            " [1.0 0.0 0.0 35.0 58000.0]]\n",
            "> X_test: \n",
            " [[0.0 1.0 0.0 30.0 54000.0]\n",
            " [1.0 0.0 0.0 37.0 67000.0]]\n",
            "\n",
            "\n",
            "Printing Test Sets:\n",
            "> y_train: \n",
            " [0 1 0 0 1 1 0 1]\n",
            "> y_test: \n",
            " [0 1]\n"
          ]
        }
      ]
    },
    {
      "cell_type": "markdown",
      "metadata": {
        "id": "TpGqbS4TqkIR"
      },
      "source": [
        "## Step-7: Feature Scaling"
      ]
    },
    {
      "cell_type": "code",
      "source": [
        "# Generally, it's best practice to split your data into training and testing sets before applying feature scaling techniques like standardization or normalization.\n",
        "  # This helps prevent data leakage and ensures your model's performance evaluation is accurate.\n",
        "\n",
        "# We have to use Feature Scaling only after spliting the dataset into the Training set and Test set,\n",
        " # because before splitting, it will apply to all the dataset also in test data, and this leads to an information leakage...\n",
        "\n",
        "# StandardScaler class from scikit-learn, which is a tool for standardization.\n",
        "from sklearn.preprocessing import StandardScaler\n",
        "\n",
        "sc = StandardScaler()\n",
        "\n",
        "\"\"\" Here we are not applying Feature Scaling in Dependent Variable (y), because there are only 0 and 1 values in y \"\"\"\n",
        "\n",
        "# fit: sc calculates mean and s.d. of features in training data (X_train) from 4th column onwards ([:, 3: ]). These statistics are specific to training data.\n",
        "# transform: It then applies standardization to training data - subtracting mean and dividing by standard deviation for each feature in training data.\n",
        "X_train[:, 3: ] = sc.fit_transform(X_train[:, 3:])\n",
        "\n",
        "# transform (only): We only use the transform method on the test data.\n",
        "  # It uses the mean and standard deviation that were previously calculated from training data to scale test data.\n",
        "  # This ensures that the test data is scaled in a way that is consistent with the training data, preventing leakage.\n",
        "X_test[:, 3: ] = sc.transform(X_test[:, 3:])"
      ],
      "metadata": {
        "id": "HKf1Or3_BlW1"
      },
      "execution_count": null,
      "outputs": []
    },
    {
      "cell_type": "code",
      "source": [
        "print(\"Printing Training Sets after Feature Scaling:\")\n",
        "print(\"> X_train: \\n\", X_train)\n",
        "print(\"\\n\")\n",
        "print(\"Printing Test Sets after Feature Scaling:\")\n",
        "print(\"> X_test: \\n\", X_test)"
      ],
      "metadata": {
        "colab": {
          "base_uri": "https://localhost:8080/"
        },
        "id": "zfuOHm7BpGon",
        "outputId": "65141da4-45ad-48f5-dfb7-81c0b1be704c"
      },
      "execution_count": null,
      "outputs": [
        {
          "output_type": "stream",
          "name": "stdout",
          "text": [
            "Printing Training Sets after Feature Scaling:\n",
            "> X_train: \n",
            " [[0.0 0.0 1.0 -0.19159184384578545 -1.0781259408412425]\n",
            " [0.0 1.0 0.0 -0.014117293757057777 -0.07013167641635372]\n",
            " [1.0 0.0 0.0 0.566708506533324 0.633562432710455]\n",
            " [0.0 0.0 1.0 -0.30453019390224867 -0.30786617274297867]\n",
            " [0.0 0.0 1.0 -1.9018011447007988 -1.420463615551582]\n",
            " [1.0 0.0 0.0 1.1475343068237058 1.232653363453549]\n",
            " [0.0 1.0 0.0 1.4379472069688968 1.5749910381638885]\n",
            " [1.0 0.0 0.0 -0.7401495441200351 -0.5646194287757332]]\n",
            "\n",
            "\n",
            "Printing Test Sets after Feature Scaling:\n",
            "> X_test: \n",
            " [[0.0 1.0 0.0 -1.4661817944830124 -0.9069571034860727]\n",
            " [1.0 0.0 0.0 -0.44973664397484414 0.2056403393225306]]\n"
          ]
        }
      ]
    }
  ]
}